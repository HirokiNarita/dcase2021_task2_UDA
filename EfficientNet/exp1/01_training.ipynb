{
 "cells": [
  {
   "cell_type": "markdown",
   "metadata": {},
   "source": [
    "# train"
   ]
  },
  {
   "cell_type": "code",
   "execution_count": 1,
   "metadata": {},
   "outputs": [
    {
     "name": "stderr",
     "output_type": "stream",
     "text": [
      "/opt/conda/lib/python3.7/site-packages/ipykernel_launcher.py:5: YAMLLoadWarning: calling yaml.load() without Loader=... is deprecated, as the default Loader is unsafe. Please read https://msg.pyyaml.org/load for full details.\n",
      "  \"\"\"\n"
     ]
    }
   ],
   "source": [
    "import yaml\n",
    "import os\n",
    "\n",
    "with open(\"./config.yaml\", 'rb') as f:\n",
    "    config = yaml.load(f)"
   ]
  },
  {
   "cell_type": "code",
   "execution_count": 2,
   "metadata": {},
   "outputs": [],
   "source": [
    "OUTPUT_ROOT = config['IO_OPTION']['OUTPUT_ROOT']\n",
    "os.makedirs(OUTPUT_ROOT, exist_ok=True)"
   ]
  },
  {
   "cell_type": "markdown",
   "metadata": {},
   "source": [
    "## load library"
   ]
  },
  {
   "cell_type": "code",
   "execution_count": 3,
   "metadata": {},
   "outputs": [],
   "source": [
    "# python default library\n",
    "import os\n",
    "import shutil\n",
    "import datetime\n",
    "import sys\n",
    "import pickle\n",
    "\n",
    "# general analysis tool-kit\n",
    "import numpy as np\n",
    "import pandas as pd\n",
    "#from sklearn.model_selection import train_test_split\n",
    "import matplotlib.pyplot as plt\n",
    "import seaborn as sns\n",
    "\n",
    "# pytorch\n",
    "import torch\n",
    "from torch import optim, nn\n",
    "from torch.utils.tensorboard import SummaryWriter\n",
    "import timm\n",
    "\n",
    "#from torchvision.models import wide_resnet50_2, resnet18\n",
    "#from torchsummary import summary\n",
    "\n",
    "# etc\n",
    "import yaml\n",
    "yaml.warnings({'YAMLLoadWarning': False})\n",
    "\n",
    "# original library\n",
    "import common as com\n",
    "import pytorch_modeler as modeler\n",
    "from pytorch_model import EfficientNet_b1 as Model\n",
    "#from pytorch_utils import filtered_load_model\n",
    "#import models\n",
    "\n",
    "import librosa\n",
    "import IPython\n",
    "import librosa.display"
   ]
  },
  {
   "cell_type": "code",
   "execution_count": 4,
   "metadata": {},
   "outputs": [],
   "source": [
    "# effnet1 = timm.create_model('efficientnet_b1', pretrained=True)\n",
    "# # M7:block[5], M8:block[6], M9:conv_head\n",
    "# effnet1"
   ]
  },
  {
   "cell_type": "markdown",
   "metadata": {},
   "source": [
    "## load config and set logger"
   ]
  },
  {
   "cell_type": "code",
   "execution_count": 5,
   "metadata": {},
   "outputs": [],
   "source": [
    "log_folder = config['IO_OPTION']['OUTPUT_ROOT']+'/{0}.log'.format(datetime.date.today())\n",
    "logger = com.setup_logger(log_folder, '00_train.py')"
   ]
  },
  {
   "cell_type": "markdown",
   "metadata": {},
   "source": [
    "## Setting"
   ]
  },
  {
   "cell_type": "code",
   "execution_count": 6,
   "metadata": {},
   "outputs": [],
   "source": [
    "# Setting seed\n",
    "modeler.set_seed(42)"
   ]
  },
  {
   "cell_type": "code",
   "execution_count": 7,
   "metadata": {},
   "outputs": [
    {
     "data": {
      "text/plain": [
       "'/media/output-disk/domain_adaptation/EfficientNet/exp1/config.yaml'"
      ]
     },
     "execution_count": 7,
     "metadata": {},
     "output_type": "execute_result"
    }
   ],
   "source": [
    "############################################################################\n",
    "# Setting I/O path\n",
    "############################################################################\n",
    "# input dirs\n",
    "INPUT_ROOT = config['IO_OPTION']['INPUT_ROOT']\n",
    "dev_dir = INPUT_ROOT + \"/dev_data\"\n",
    "add_dev_dir = INPUT_ROOT + \"/add_dev_data\"\n",
    "# machine type\n",
    "machine_types = os.listdir(dev_dir)\n",
    "# output dirs\n",
    "OUTPUT_ROOT = config['IO_OPTION']['OUTPUT_ROOT']\n",
    "MODEL_DIR = config['IO_OPTION']['OUTPUT_ROOT'] + '/models'\n",
    "\n",
    "TB_DIR = config['IO_OPTION']['OUTPUT_ROOT'] + '/tb'\n",
    "OUT_FEATURE_DIR = OUTPUT_ROOT + '/extraction_features'\n",
    "PRED_DIR = config['IO_OPTION']['OUTPUT_ROOT'] + '/pred'\n",
    "#os.makedirs(OUTPUT_ROOT, exist_ok=True)\n",
    "os.makedirs(MODEL_DIR, exist_ok=True)\n",
    "os.makedirs(TB_DIR, exist_ok=True)\n",
    "os.makedirs(OUT_FEATURE_DIR, exist_ok=True)\n",
    "os.makedirs(PRED_DIR, exist_ok=True)\n",
    "\n",
    "# copy config\n",
    "shutil.copy('./config.yaml', OUTPUT_ROOT)"
   ]
  },
  {
   "cell_type": "code",
   "execution_count": 8,
   "metadata": {},
   "outputs": [
    {
     "data": {
      "text/plain": [
       "True"
      ]
     },
     "execution_count": 8,
     "metadata": {},
     "output_type": "execute_result"
    }
   ],
   "source": [
    "torch.cuda.is_available()"
   ]
  },
  {
   "cell_type": "markdown",
   "metadata": {},
   "source": [
    "## make path list"
   ]
  },
  {
   "cell_type": "markdown",
   "metadata": {},
   "source": [
    "- __train_paths__ ([dict]): Each Machine Type\n",
    "    - __ToyCar__ ([dict]): Each dataset\n",
    "        - train ([list]) : paths\n",
    "        - valid_source ([list]) : paths\n",
    "        - valid_target ([list]) :paths\n",
    "    - __ToyTrain__ ([dict]): Each dataset\n",
    "        - train ([list]) : paths\n",
    "        - valid_source ([list]) : paths\n",
    "        - valid_target ([list]) : paths\n",
    "    - ..."
   ]
  },
  {
   "cell_type": "code",
   "execution_count": 9,
   "metadata": {},
   "outputs": [
    {
     "name": "stdout",
     "output_type": "stream",
     "text": [
      "Machine pump,dev_train_size : 3009, source_size : 3000, target_size : 9, adddev_train_size : 3009, source_size : 3000, target_size : 9\n",
      "==============================================================\n",
      "Machine gearbox,dev_train_size : 3026, source_size : 3017, target_size : 9, adddev_train_size : 3026, source_size : 3105, target_size : 9\n",
      "==============================================================\n",
      "Machine slider,dev_train_size : 3009, source_size : 3000, target_size : 9, adddev_train_size : 3009, source_size : 3000, target_size : 9\n",
      "==============================================================\n",
      "Machine ToyCar,dev_train_size : 3009, source_size : 3000, target_size : 9, adddev_train_size : 3009, source_size : 3000, target_size : 9\n",
      "==============================================================\n",
      "Machine valve,dev_train_size : 3009, source_size : 3000, target_size : 9, adddev_train_size : 3009, source_size : 3000, target_size : 9\n",
      "==============================================================\n",
      "Machine ToyTrain,dev_train_size : 3009, source_size : 3000, target_size : 9, adddev_train_size : 3009, source_size : 3000, target_size : 9\n",
      "==============================================================\n",
      "Machine fan,dev_train_size : 3009, source_size : 3000, target_size : 9, adddev_train_size : 3009, source_size : 3000, target_size : 9\n",
      "==============================================================\n"
     ]
    }
   ],
   "source": [
    "dev_paths = {}\n",
    "\n",
    "for machine_type in machine_types:\n",
    "    # dev train\n",
    "    dev_train_paths = [f\"{dev_dir}/{machine_type}/train/\" + file for file in os.listdir(f\"{dev_dir}/{machine_type}/train\")]\n",
    "    dev_train_paths = sorted(dev_train_paths)\n",
    "    \n",
    "    print(f'Machine {machine_type}', end=',')\n",
    "    print(f'dev_train_size : {len(dev_train_paths)}', end=', ')\n",
    "    dev_train_source_paths = [path for path in dev_train_paths if 'source' in path]\n",
    "    print(f'source_size : {len(dev_train_source_paths)}', end=', ')\n",
    "    dev_train_target_paths = [path for path in dev_train_paths if 'target' in path]\n",
    "    print(f'target_size : {len(dev_train_target_paths)}', end=', ')\n",
    "    # source mode\n",
    "    dev_train_paths = dev_train_source_paths + dev_train_target_paths\n",
    "    \n",
    "    # add_dev train\n",
    "    add_dev_paths = [f\"{add_dev_dir}/{machine_type}/train/\" + file for file in os.listdir(f\"{add_dev_dir}/{machine_type}/train\")]\n",
    "    add_dev_paths = sorted(add_dev_paths)\n",
    "    print(f'adddev_train_size : {len(dev_train_paths)}', end=', ')\n",
    "    add_dev_source_paths = [path for path in add_dev_paths if 'source' in path]\n",
    "    print(f'source_size : {len(add_dev_source_paths)}', end=', ')\n",
    "    add_dev_target_paths = [path for path in add_dev_paths if 'target' in path]\n",
    "    print(f'target_size : {len(add_dev_target_paths)}')\n",
    "    # source mode\n",
    "    add_dev_paths = add_dev_source_paths + add_dev_target_paths\n",
    "    print('==============================================================')\n",
    "    \n",
    "    # dev_source valid\n",
    "    dev_source_paths = [f\"{dev_dir}/{machine_type}/source_test/\" + file for file in os.listdir(f\"{dev_dir}/{machine_type}/source_test\")]\n",
    "    dev_source_paths = sorted(dev_source_paths)\n",
    "    \n",
    "    # dev_target valid\n",
    "    dev_target_paths = [f\"{dev_dir}/{machine_type}/target_test/\" + file for file in os.listdir(f\"{dev_dir}/{machine_type}/target_test\")]\n",
    "    dev_target_paths = sorted(dev_target_paths)\n",
    "    \n",
    "    # bundle\n",
    "    dev_paths[machine_type] = {}\n",
    "    dev_paths[machine_type]['train'] = dev_train_paths + add_dev_paths\n",
    "    dev_paths[machine_type]['valid_source'] = dev_source_paths\n",
    "    dev_paths[machine_type]['valid_target'] = dev_target_paths"
   ]
  },
  {
   "cell_type": "code",
   "execution_count": 10,
   "metadata": {},
   "outputs": [
    {
     "data": {
      "text/plain": [
       "['pump', 'gearbox', 'slider', 'ToyCar', 'valve', 'ToyTrain', 'fan']"
      ]
     },
     "execution_count": 10,
     "metadata": {},
     "output_type": "execute_result"
    }
   ],
   "source": [
    "machine_types"
   ]
  },
  {
   "cell_type": "code",
   "execution_count": 11,
   "metadata": {},
   "outputs": [],
   "source": [
    "#############################################################################\n",
    "# run\n",
    "#############################################################################\n",
    "def run(machine_type, dev_paths):\n",
    "    com.tic()\n",
    "    os.makedirs(TB_DIR+'/'+machine_type, exist_ok=True)\n",
    "    tb_log_dir = TB_DIR + '/' + machine_type\n",
    "    writer = SummaryWriter(log_dir = tb_log_dir)\n",
    "    \n",
    "    logger.info('TARGET MACHINE_TYPE: {0}'.format(machine_type))\n",
    "    logger.info('MAKE DATA_LOADER')\n",
    "    # dev_train_paths\n",
    "    dataloaders_dict = modeler.make_dataloader(dev_paths, machine_type)\n",
    "    # parameter setting\n",
    "    logger.info('TRAINING')\n",
    "    model = Model(n_out=36)\n",
    "    \n",
    "    optimizer = torch.optim.Adam(model.parameters(),lr=1e-3)\n",
    "    output_dict, model, pred_df = modeler.run_training(model, dataloaders_dict, writer, optimizer)\n",
    "    \n",
    "    # output\n",
    "    feature_out_path = f'{OUT_FEATURE_DIR}/{machine_type}_features.pkl'\n",
    "    model_out_path = f'{MODEL_DIR}/{machine_type}_model.pkl'\n",
    "    pred_out_path = f'{PRED_DIR}/{machine_type}_pred.csv'\n",
    "    # save\n",
    "    pd.to_pickle(output_dict, feature_out_path)\n",
    "    torch.save(model.state_dict(), model_out_path)\n",
    "    pred_df.to_csv(pred_out_path)\n",
    "    logger.info(f'SAVE SUCCESS : {model_out_path}')\n",
    "    \n",
    "    com.toc()"
   ]
  },
  {
   "cell_type": "raw",
   "metadata": {},
   "source": [
    "# debug\n",
    "import dcase_util\n",
    "import pandas as pd\n",
    "\n",
    "sample = pd.read_pickle('/media/hiroki/HDD1TB/research/DCASE_experiments/domain_adaptation/exp2/extraction_features/ToyCar_features.pkl')\n",
    "sample = sample['val_src']\n",
    "\n",
    "src_pred_df = dcase_util.make_pred_df(sample['wav_name'], sample['section_label'], sample['domain_label'], sample['label'], sample['label'])\n",
    "\n",
    "df1 = dcase_util.calc_dcase2021_task2_score(src_pred_df, prefix='Source')\n",
    "df2 = dcase_util.calc_dcase2021_task2_score(src_pred_df, prefix='Target')\n",
    "score = pd.concat([df1, df2])\n",
    "mean = pd.DataFrame([score.mean()], index=['mean'])\n",
    "hmean = scipy.stats.hmean(score, axis=0)\n",
    "hmean = pd.DataFrame([hmean], columns=['AUC', 'pAUC'], index=['h_mean'])\n",
    "score = score.append([mean, hmean])"
   ]
  },
  {
   "cell_type": "markdown",
   "metadata": {},
   "source": [
    "# run"
   ]
  },
  {
   "cell_type": "code",
   "execution_count": 12,
   "metadata": {
    "code_folding": [],
    "scrolled": true
   },
   "outputs": [
    {
     "name": "stderr",
     "output_type": "stream",
     "text": [
      "2021-10-11 13:52:30,450 - 00_train.py - INFO - TARGET MACHINE_TYPE: pump\n",
      "2021-10-11 13:52:30,451 - 00_train.py - INFO - MAKE DATA_LOADER\n",
      "2021-10-11 13:52:30,456 - 00_train.py - INFO - TRAINING\n"
     ]
    },
    {
     "name": "stdout",
     "output_type": "stream",
     "text": [
      "use: cuda:0\n"
     ]
    },
    {
     "name": "stderr",
     "output_type": "stream",
     "text": [
      "\r",
      "  0%|                                                                                             | 0/48 [00:00<?, ?it/s]"
     ]
    },
    {
     "name": "stdout",
     "output_type": "stream",
     "text": [
      "tensor([[ 0.0911,  0.1600,  0.8319,  ...,  0.1699, -0.0458,  0.0103],\n",
      "        [-0.2406,  0.1155,  0.3996,  ..., -0.1026,  0.2577,  0.9517],\n",
      "        [-0.1928, -0.2755, -0.2694,  ...,  0.5607, -0.2178, -0.0352],\n",
      "        ...,\n",
      "        [ 1.5385, -0.0535, -0.2774,  ...,  0.4615, -0.1774,  0.5682],\n",
      "        [-0.2778,  0.0033,  0.2907,  ..., -0.1773, -0.2630,  0.0988],\n",
      "        [-0.2769, -0.1454,  1.0634,  ...,  1.1577, -0.0469,  1.0685]],\n",
      "       device='cuda:0', grad_fn=<SiluBackward>)\n",
      "tensor([[-0.1245, -0.2784,  0.0218,  ..., -0.2554, -0.1430, -0.2283],\n",
      "        [ 0.0191,  0.1043, -0.2671,  ...,  1.1130,  0.9996, -0.1330],\n",
      "        [-0.1209,  0.5796, -0.2785,  ...,  0.1115, -0.1641,  0.1537],\n",
      "        ...,\n",
      "        [-0.1342,  0.1799,  0.0024,  ..., -0.1901,  0.0942,  0.3922],\n",
      "        [ 0.3886,  1.8988,  1.0539,  ..., -0.0050,  1.1925, -0.2726],\n",
      "        [ 0.0885, -0.2778,  0.0257,  ...,  0.6468,  0.3206,  0.1662]],\n",
      "       device='cuda:0', grad_fn=<SiluBackward>)\n",
      "tensor([[ 1.4373,  0.3238,  0.1621,  ..., -0.2738,  1.1451, -0.0962],\n",
      "        [-0.2177, -0.2558, -0.2785,  ..., -0.2758,  0.5418, -0.1865],\n",
      "        [ 0.7382,  0.6457, -0.2711,  ...,  0.1406, -0.0822, -0.2450],\n",
      "        ...,\n",
      "        [-0.2195,  0.3818, -0.1864,  ...,  0.3714, -0.1428, -0.0849],\n",
      "        [-0.2780, -0.1701,  0.0109,  ...,  0.6033, -0.1914,  0.8542],\n",
      "        [ 0.3701, -0.2595,  0.3077,  ...,  0.0337,  0.1910, -0.1130]],\n",
      "       device='cuda:0', grad_fn=<SiluBackward>)\n",
      "tensor([[ 0.7718,  0.0662, -0.0183,  ...,  0.1636, -0.2656, -0.1091],\n",
      "        [ 0.3589, -0.0467,  0.6728,  ...,  0.7843,  0.0233, -0.2063],\n",
      "        [-0.1622, -0.2667, -0.2315,  ...,  1.2382, -0.2049, -0.2532],\n",
      "        ...,\n",
      "        [-0.2476,  0.3486,  0.0464,  ...,  0.2258, -0.2380, -0.1929],\n",
      "        [ 0.1658,  0.0948,  0.0546,  ...,  0.1183, -0.2705, -0.1154],\n",
      "        [ 0.3542,  0.0271,  0.3420,  ..., -0.2770,  0.6774,  1.4335]],\n",
      "       device='cuda:0', grad_fn=<SiluBackward>)\n",
      "debug\n",
      "torch.Size([128, 896])\n",
      "tensor([1.3708, 1.2556, 1.4181, 1.3306, 1.4099, 1.2247, 1.3314, 1.5105, 1.4009,\n",
      "        1.2614, 1.2662, 1.3245, 1.2098, 1.4402, 1.4763, 1.5311, 1.6714, 1.3904,\n",
      "        1.1847, 1.1800, 1.2707, 1.3391, 1.3091, 1.3092, 1.5098, 1.2037, 1.2310,\n",
      "        1.3306, 1.3951, 1.2740, 1.3619, 1.5021, 1.3403, 1.5032, 1.2890, 1.3097,\n",
      "        1.3317, 1.2616, 1.4319, 1.3799, 1.4141, 1.4403, 1.3053, 1.3122, 1.2339,\n",
      "        1.2577, 1.2873, 1.3143, 1.2909, 1.2943, 1.6344, 1.3583, 1.5273, 1.4644,\n",
      "        1.2703, 1.5888, 1.3127, 1.4314, 1.3245, 1.3328, 1.3568, 1.5812, 1.5768,\n",
      "        1.2595, 1.3504, 1.2625, 1.3111, 1.2991, 1.5917, 1.3885, 1.2349, 1.2734,\n",
      "        1.3432, 1.2550, 1.2655, 1.3707, 1.2427, 1.3074, 1.2611, 1.2024, 1.2533,\n",
      "        1.4089, 1.3523, 1.4332, 1.3192, 1.4981, 1.2711, 1.4171, 1.3418, 1.3009,\n",
      "        1.5539, 1.5287, 1.4549, 1.2208, 1.4129, 1.6562, 1.2906, 1.4087, 1.3331,\n",
      "        1.2612, 1.3647, 1.4664, 1.4230, 1.5757, 1.4861, 1.3958, 1.1338, 1.2843,\n",
      "        1.3412, 1.2999, 1.5780, 1.3953, 1.5212, 1.5634, 1.2507, 1.4009, 1.3248,\n",
      "        1.4250, 1.4320, 1.1998, 1.2215, 1.3939, 1.2411, 1.5422, 1.3553, 1.2066,\n",
      "        1.3478, 1.4188], device='cuda:0', grad_fn=<MeanBackward1>)\n"
     ]
    },
    {
     "name": "stderr",
     "output_type": "stream",
     "text": [
      "\r",
      "  2%|█▊                                                                                   | 1/48 [00:01<00:53,  1.13s/it]"
     ]
    },
    {
     "name": "stdout",
     "output_type": "stream",
     "text": [
      "tensor([[-0.2436, -0.2768, -0.2752,  ..., -0.2309, -0.2735, -0.0665],\n",
      "        [-0.2080,  0.2506,  0.0295,  ..., -0.1548,  0.1417,  1.4047],\n",
      "        [ 0.5054,  0.3116,  0.4306,  ...,  0.6448, -0.2524, -0.2137],\n",
      "        ...,\n",
      "        [ 0.1515, -0.2378,  2.0220,  ..., -0.2539,  0.4328,  0.2406],\n",
      "        [ 0.8810,  0.2711, -0.0437,  ..., -0.2768, -0.0730,  0.8095],\n",
      "        [ 0.2982, -0.2164, -0.2569,  ..., -0.0571, -0.2703, -0.1593]],\n",
      "       device='cuda:0', grad_fn=<SiluBackward>)\n",
      "tensor([[-0.0247,  0.3915,  0.0815,  ...,  0.2303,  0.1988,  0.1840],\n",
      "        [-0.2741,  0.0492,  0.4799,  ..., -0.0148,  0.2979,  0.3915],\n",
      "        [-0.1540,  2.3186, -0.1288,  ...,  0.4967, -0.1678, -0.2690],\n",
      "        ...,\n",
      "        [-0.2782,  0.8065,  0.5258,  ..., -0.0989, -0.2634,  1.1873],\n",
      "        [ 0.0872, -0.1018,  0.0287,  ..., -0.1587, -0.2714,  0.5886],\n",
      "        [ 1.5863, -0.1506,  0.8528,  ..., -0.2604,  0.0786,  0.5117]],\n",
      "       device='cuda:0', grad_fn=<SiluBackward>)\n",
      "tensor([[ 0.4627,  0.0495,  0.7061,  ..., -0.0471, -0.0805,  0.1072],\n",
      "        [ 0.0973,  0.3552,  0.3236,  ..., -0.2240, -0.2180,  0.1819],\n",
      "        [-0.2433, -0.2417, -0.2742,  ..., -0.1176, -0.1820,  0.6505],\n",
      "        ...,\n",
      "        [-0.0498,  0.4347,  2.0043,  ..., -0.0616, -0.0989,  1.6082],\n",
      "        [ 0.2325, -0.2718, -0.2690,  ...,  1.6757, -0.1634,  0.7749],\n",
      "        [-0.2345,  0.1257,  0.1462,  ..., -0.2434,  0.3027,  0.2715]],\n",
      "       device='cuda:0', grad_fn=<SiluBackward>)\n",
      "tensor([[-0.1514,  0.6704,  0.0741,  ..., -0.2522, -0.2607,  0.8887],\n",
      "        [ 0.4733, -0.2282, -0.2755,  ..., -0.0134, -0.2088,  0.5561],\n",
      "        [-0.1137,  0.8785, -0.2684,  ..., -0.2643, -0.2631,  0.1237],\n",
      "        ...,\n",
      "        [-0.1341, -0.2738,  1.2257,  ...,  0.3574, -0.2361, -0.2762],\n",
      "        [-0.0508,  0.1766, -0.1131,  ..., -0.1137, -0.1992,  0.6651],\n",
      "        [-0.0964,  0.5801, -0.2277,  ..., -0.1990, -0.2535,  0.0062]],\n",
      "       device='cuda:0', grad_fn=<SiluBackward>)\n",
      "debug\n",
      "torch.Size([128, 896])\n",
      "tensor([1.3082, 1.2798, 1.4049, 1.3736, 1.3551, 1.5660, 1.5648, 1.4450, 1.4415,\n",
      "        1.3208, 1.2360, 1.4134, 1.4561, 1.3979, 1.3974, 1.2390, 1.2788, 1.3463,\n",
      "        1.3481, 1.2917, 1.3823, 1.4544, 1.2862, 1.2870, 1.4681, 1.3465, 1.3515,\n",
      "        1.3502, 1.4455, 1.3520, 1.2899, 1.2707, 1.2002, 1.3488, 1.3187, 1.1346,\n",
      "        1.2830, 1.3613, 1.4097, 1.3195, 1.4457, 1.1432, 1.2828, 1.3655, 1.7042,\n",
      "        1.3379, 1.4762, 1.2894, 1.2572, 1.3955, 1.3722, 1.3906, 1.4308, 1.6053,\n",
      "        1.3101, 1.4581, 1.3602, 1.4128, 1.5062, 1.2901, 1.3297, 1.3517, 1.4899,\n",
      "        1.3857, 1.4313, 1.2055, 1.3812, 1.4463, 1.2447, 1.2485, 1.2294, 1.5021,\n",
      "        1.4869, 1.3526, 1.3863, 1.3565, 1.3072, 1.1873, 1.3553, 1.2724, 1.3218,\n",
      "        1.5522, 1.4062, 1.2977, 1.3964, 1.6336, 1.2712, 1.2462, 1.3656, 1.2959,\n",
      "        1.2325, 1.4552, 1.3822, 1.2831, 1.3151, 1.2915, 1.3146, 1.2846, 1.2531,\n",
      "        1.3041, 1.5404, 1.1743, 1.5246, 1.3778, 1.3640, 1.5247, 1.3712, 1.1803,\n",
      "        1.4442, 1.3193, 1.3382, 1.2911, 1.3222, 1.3972, 1.2198, 1.4341, 1.2481,\n",
      "        1.2850, 1.3615, 1.2164, 1.3804, 1.4658, 1.4035, 1.6964, 1.2803, 1.6564,\n",
      "        1.2282, 1.2747], device='cuda:0', grad_fn=<MeanBackward1>)\n"
     ]
    },
    {
     "name": "stderr",
     "output_type": "stream",
     "text": [
      "\r",
      "  4%|███▌                                                                                 | 2/48 [00:01<00:37,  1.24it/s]"
     ]
    },
    {
     "name": "stdout",
     "output_type": "stream",
     "text": [
      "tensor([[-0.2440, -0.1297,  0.7880,  ...,  0.6437, -0.2653,  0.9129],\n",
      "        [-0.2342,  0.1073,  0.0074,  ..., -0.0785, -0.0326, -0.1262],\n",
      "        [-0.2732,  2.2953, -0.1258,  ...,  0.6519, -0.2778, -0.1554],\n",
      "        ...,\n",
      "        [ 0.4083, -0.2772,  0.3342,  ..., -0.2782,  0.4539, -0.1928],\n",
      "        [-0.2614,  0.3042, -0.2490,  ...,  0.1478, -0.1927, -0.2492],\n",
      "        [ 1.5012,  2.0359, -0.0661,  ...,  0.0256, -0.2694, -0.0067]],\n",
      "       device='cuda:0', grad_fn=<SiluBackward>)\n",
      "tensor([[ 0.2253,  0.6743, -0.2757,  ..., -0.2354,  0.1193,  0.7401],\n",
      "        [ 0.6417, -0.1908, -0.2692,  ..., -0.2502, -0.0972, -0.2740],\n",
      "        [-0.2663,  0.3602, -0.2677,  ...,  0.0355, -0.2005, -0.2780],\n",
      "        ...,\n",
      "        [-0.2582, -0.0066,  0.3947,  ..., -0.1269,  0.1210,  0.0508],\n",
      "        [ 1.6932, -0.1353,  1.0911,  ..., -0.2575, -0.0322, -0.0156],\n",
      "        [ 0.6636,  0.4681, -0.2494,  ..., -0.2660,  0.0220,  0.0263]],\n",
      "       device='cuda:0', grad_fn=<SiluBackward>)\n",
      "tensor([[ 0.3016, -0.2736, -0.2245,  ...,  0.6014, -0.0742,  0.5327],\n",
      "        [-0.2770,  0.9164,  0.0031,  ..., -0.1339,  0.2142, -0.1259],\n",
      "        [ 0.2980,  0.7284, -0.1558,  ..., -0.0541, -0.2314, -0.1610],\n",
      "        ...,\n",
      "        [ 0.7031,  1.4591,  0.7942,  ...,  0.0185,  0.2053,  0.2474],\n",
      "        [-0.1335, -0.2366,  0.1581,  ..., -0.2500, -0.2352, -0.2784],\n",
      "        [ 1.4538, -0.1254, -0.2223,  ..., -0.1183, -0.1392,  0.0820]],\n",
      "       device='cuda:0', grad_fn=<SiluBackward>)\n",
      "tensor([[ 1.1792,  0.0374, -0.0101,  ...,  0.0391, -0.2445,  0.1185],\n",
      "        [-0.2156, -0.2598,  1.0220,  ...,  1.2907,  0.1822, -0.2760],\n",
      "        [-0.1294, -0.2720,  0.2186,  ...,  0.9014, -0.0981, -0.1112],\n",
      "        ...,\n",
      "        [-0.2735, -0.2060,  0.0802,  ..., -0.2176,  1.8308,  0.1693],\n",
      "        [ 0.6254,  0.6315,  1.3513,  ...,  1.5944, -0.2760,  0.3231],\n",
      "        [ 0.3305,  1.0432, -0.1053,  ...,  0.0872, -0.2342, -0.2744]],\n",
      "       device='cuda:0', grad_fn=<SiluBackward>)\n",
      "debug\n",
      "torch.Size([128, 896])\n",
      "tensor([1.3346, 1.4942, 1.6494, 1.7701, 1.3169, 1.2685, 1.5102, 1.3985, 1.4361,\n",
      "        1.3059, 1.3398, 1.3001, 1.4031, 1.2485, 1.2367, 1.4028, 1.4056, 1.1474,\n",
      "        1.3868, 1.3461, 1.4247, 1.3069, 1.3913, 1.2077, 1.3621, 1.4123, 1.2862,\n",
      "        1.3203, 1.1302, 1.2910, 1.2637, 1.2627, 1.3416, 1.6446, 1.3444, 1.2570,\n",
      "        1.3756, 1.2423, 1.1866, 1.2429, 1.2942, 1.2053, 1.3753, 1.3001, 1.6383,\n",
      "        1.5411, 1.3777, 1.2688, 1.4027, 1.3320, 1.4517, 1.2942, 1.3705, 1.4527,\n",
      "        1.3667, 1.4704, 1.3432, 1.2370, 1.2267, 1.3515, 1.2871, 1.2121, 1.3303,\n",
      "        1.3074, 1.3308, 1.4486, 1.3919, 1.1894, 1.3985, 1.1872, 1.2647, 1.2688,\n",
      "        1.3312, 1.4270, 1.3620, 1.6874, 1.3793, 1.3911, 1.2414, 1.4433, 1.2140,\n",
      "        1.3201, 1.4473, 1.2975, 1.4493, 1.4842, 1.3452, 1.3623, 1.3629, 1.2529,\n",
      "        1.3830, 1.3361, 1.2763, 1.4646, 1.3972, 1.2409, 1.3385, 1.2712, 1.3118,\n",
      "        1.4931, 1.4563, 1.3737, 1.3973, 1.2836, 1.2711, 1.3154, 1.4051, 1.3748,\n",
      "        1.2954, 1.4684, 1.2517, 1.5039, 1.4382, 1.1163, 1.3022, 1.4569, 1.4827,\n",
      "        1.2663, 1.3208, 1.2622, 1.5553, 1.4273, 1.3736, 1.3521, 1.2558, 1.4179,\n",
      "        1.4372, 1.3736], device='cuda:0', grad_fn=<MeanBackward1>)\n"
     ]
    },
    {
     "name": "stderr",
     "output_type": "stream",
     "text": [
      "\r",
      "  6%|█████▎                                                                               | 3/48 [00:02<00:30,  1.47it/s]"
     ]
    },
    {
     "name": "stdout",
     "output_type": "stream",
     "text": [
      "tensor([[-0.1092,  0.0751,  0.7543,  ..., -0.1522,  1.1000,  0.1278],\n",
      "        [ 0.1954,  1.7772,  1.5336,  ..., -0.2379,  0.5201,  0.1316],\n",
      "        [-0.1817, -0.1475, -0.2563,  ..., -0.2764,  1.8301,  0.6832],\n",
      "        ...,\n",
      "        [ 0.6096, -0.2740,  0.2350,  ..., -0.0889, -0.2353, -0.2561],\n",
      "        [-0.2719, -0.2447, -0.2669,  ...,  0.4468,  0.2568,  0.5170],\n",
      "        [-0.2318, -0.0924, -0.1409,  ..., -0.2665, -0.2218,  0.4798]],\n",
      "       device='cuda:0', grad_fn=<SiluBackward>)\n",
      "tensor([[ 0.0451, -0.2222,  1.1895,  ...,  0.2318, -0.1816, -0.1085],\n",
      "        [ 0.0937, -0.1014,  0.1959,  ..., -0.2459, -0.2747,  0.8925],\n",
      "        [-0.0202, -0.1088,  1.0866,  ...,  2.1911,  0.0194, -0.0554],\n",
      "        ...,\n",
      "        [ 0.3475, -0.0286,  1.0564,  ..., -0.2259, -0.2647, -0.2051],\n",
      "        [ 0.6936, -0.1300, -0.1253,  ..., -0.2515,  0.3983,  0.2915],\n",
      "        [-0.2676, -0.2114,  0.4367,  ...,  0.1547, -0.0832, -0.1727]],\n",
      "       device='cuda:0', grad_fn=<SiluBackward>)\n",
      "tensor([[-0.0048,  1.6248,  0.1745,  ...,  0.2361,  0.4463,  0.5611],\n",
      "        [ 0.3838,  0.0991, -0.2718,  ..., -0.2782,  2.1210,  0.1700],\n",
      "        [ 0.3615,  0.0429, -0.2091,  ..., -0.1502,  0.0980, -0.0311],\n",
      "        ...,\n",
      "        [ 1.0855, -0.1805,  0.4118,  ...,  0.0042,  0.5025,  0.4310],\n",
      "        [-0.0649, -0.2406,  1.3627,  ...,  0.4039,  0.0835, -0.2158],\n",
      "        [ 0.2387,  0.7516, -0.1269,  ..., -0.1987,  0.0580,  0.4824]],\n",
      "       device='cuda:0', grad_fn=<SiluBackward>)\n",
      "tensor([[-0.2304, -0.0897, -0.0762,  ...,  0.0370,  0.2072,  0.0758],\n",
      "        [-0.2590,  0.1624,  0.8476,  ...,  0.0024,  0.0711, -0.2600],\n",
      "        [-0.2253,  1.7421, -0.2610,  ...,  1.2188, -0.1430,  0.1413],\n",
      "        ...,\n",
      "        [-0.0292,  0.4487,  0.6078,  ...,  0.2998,  0.4842,  1.2493],\n",
      "        [ 0.1968,  0.4040,  0.5206,  ..., -0.1719,  0.1000,  0.1490],\n",
      "        [-0.2783, -0.2719,  0.2984,  ...,  0.4171,  1.0099, -0.2383]],\n",
      "       device='cuda:0', grad_fn=<SiluBackward>)\n",
      "debug\n",
      "torch.Size([128, 896])\n",
      "tensor([1.2275, 1.4500, 1.3733, 1.2547, 1.3264, 1.3655, 1.2915, 1.3391, 1.1881,\n",
      "        1.4032, 1.2357, 1.2835, 1.1849, 1.0374, 1.5230, 1.2596, 1.2902, 1.3705,\n",
      "        1.2345, 1.4345, 1.2530, 1.2473, 1.2335, 1.2380, 1.4598, 1.2811, 1.2549,\n",
      "        1.2411, 1.3497, 1.4081, 1.2683, 1.1893, 1.4554, 1.3962, 1.2128, 1.2049,\n",
      "        1.4393, 1.3408, 1.3041, 1.5871, 1.2688, 1.2301, 1.1415, 1.2952, 1.5185,\n",
      "        1.3905, 1.3504, 1.3897, 1.3839, 1.3787, 1.3355, 1.2853, 1.2464, 1.4274,\n",
      "        1.4930, 1.4064, 1.1415, 1.3274, 1.2409, 1.3205, 1.5735, 1.2460, 1.2720,\n",
      "        1.0735, 1.4236, 1.2695, 1.3457, 1.4343, 1.1755, 1.3616, 1.3263, 1.2408,\n",
      "        1.6272, 1.2891, 1.5773, 1.2833, 1.7004, 1.4678, 1.3818, 1.2607, 1.2914,\n",
      "        1.3209, 1.2582, 1.2968, 1.2903, 1.2160, 1.3537, 1.3578, 1.5568, 1.3998,\n",
      "        1.4853, 1.5993, 1.3536, 1.3940, 1.4671, 1.3343, 1.3609, 1.3293, 1.3047,\n",
      "        1.3420, 1.2481, 1.2762, 1.1996, 1.4429, 1.4830, 1.4443, 1.4950, 1.3262,\n",
      "        1.6085, 1.4214, 1.3962, 1.3582, 1.1652, 1.2896, 1.3381, 1.1196, 1.5314,\n",
      "        1.3675, 1.2869, 1.3113, 1.3857, 1.4034, 1.3488, 1.3475, 1.4296, 1.0974,\n",
      "        1.2162, 1.2527], device='cuda:0', grad_fn=<MeanBackward1>)\n"
     ]
    },
    {
     "name": "stderr",
     "output_type": "stream",
     "text": [
      "\r",
      "  8%|███████                                                                              | 4/48 [00:02<00:27,  1.61it/s]"
     ]
    },
    {
     "name": "stdout",
     "output_type": "stream",
     "text": [
      "tensor([[ 0.8012, -0.2023,  0.2873,  ...,  0.2654, -0.2609, -0.0785],\n",
      "        [ 0.0130, -0.2722,  0.2192,  ..., -0.2527, -0.1778, -0.2766],\n",
      "        [ 2.5421, -0.1215, -0.1434,  ...,  0.0503, -0.1746, -0.1657],\n",
      "        ...,\n",
      "        [-0.2396,  1.3962, -0.0472,  ...,  0.2437, -0.2699,  0.2306],\n",
      "        [-0.1873,  0.0548,  0.3329,  ...,  1.9074, -0.2438,  0.2018],\n",
      "        [-0.1446, -0.2630,  0.1039,  ..., -0.0649,  0.8437,  0.0981]],\n",
      "       device='cuda:0', grad_fn=<SiluBackward>)\n",
      "tensor([[-0.1907,  0.2185, -0.2766,  ..., -0.1772,  0.0697, -0.2541],\n",
      "        [ 0.8579,  0.1232, -0.2535,  ...,  1.0160,  0.6333, -0.1032],\n",
      "        [ 0.2271, -0.2098,  0.2078,  ..., -0.2785, -0.1548,  0.3897],\n",
      "        ...,\n",
      "        [-0.1658, -0.2624, -0.2008,  ..., -0.0977, -0.1821, -0.0140],\n",
      "        [ 0.6442, -0.2784,  0.3454,  ..., -0.1199, -0.2473, -0.2653],\n",
      "        [-0.2708, -0.2611, -0.1210,  ..., -0.2582, -0.0763,  0.0251]],\n",
      "       device='cuda:0', grad_fn=<SiluBackward>)\n",
      "tensor([[ 0.1353,  0.1390, -0.2460,  ...,  0.8970,  0.1095,  0.6311],\n",
      "        [-0.0764,  0.8716, -0.0557,  ...,  2.5069,  0.2455,  1.6532],\n",
      "        [ 0.7745, -0.0925,  0.7112,  ...,  0.2670, -0.1825,  0.6701],\n",
      "        ...,\n",
      "        [ 0.9177, -0.2267,  0.2501,  ...,  1.0517,  1.2995, -0.2762],\n",
      "        [ 1.1692,  0.2163, -0.2347,  ..., -0.2669,  0.8344,  0.0598],\n",
      "        [-0.2785,  0.3005,  0.2064,  ...,  0.1320, -0.2182, -0.2629]],\n",
      "       device='cuda:0', grad_fn=<SiluBackward>)\n",
      "tensor([[ 0.1401,  0.8743,  0.3486,  ..., -0.0779,  0.3185, -0.2181],\n",
      "        [-0.1759,  1.2262, -0.1529,  ...,  0.7103, -0.1348, -0.1501],\n",
      "        [ 0.0694,  0.1748,  0.0907,  ...,  1.1620, -0.1032,  1.0965],\n",
      "        ...,\n",
      "        [ 0.3486,  0.4027, -0.0857,  ..., -0.1916,  0.0865, -0.0854],\n",
      "        [-0.2392,  1.7935,  0.3321,  ...,  0.2769, -0.2784, -0.0519],\n",
      "        [ 1.3111, -0.2683, -0.2750,  ...,  0.4835,  0.0832,  0.2183]],\n",
      "       device='cuda:0', grad_fn=<SiluBackward>)\n",
      "debug\n",
      "torch.Size([128, 896])\n",
      "tensor([1.2882, 1.4580, 1.2369, 1.2896, 1.2504, 1.5267, 1.2366, 1.1490, 1.2791,\n",
      "        1.3126, 1.5156, 1.4075, 1.1584, 1.2187, 1.2507, 1.3150, 1.3000, 1.4301,\n",
      "        1.3522, 1.2278, 1.1659, 1.2710, 1.5150, 1.3732, 1.2603, 1.4066, 1.2905,\n",
      "        1.3862, 1.2935, 1.2646, 1.2946, 1.1642, 1.2606, 1.3289, 1.1308, 1.4787,\n",
      "        1.3139, 1.3104, 1.2275, 1.4851, 1.1784, 1.2017, 1.2965, 1.2828, 1.1256,\n",
      "        1.1363, 1.2145, 1.1624, 1.5484, 1.1086, 1.4254, 1.5335, 1.3021, 1.4518,\n",
      "        1.2764, 1.2667, 1.3073, 1.2762, 1.3714, 1.2730, 1.4706, 1.1095, 1.2217,\n",
      "        1.2594, 1.3206, 1.3847, 1.2253, 1.3340, 1.2706, 1.3803, 1.3910, 1.3214,\n",
      "        1.4035, 1.3580, 1.2228, 1.3467, 1.3275, 1.3585, 1.2405, 1.3192, 1.4119,\n",
      "        1.2947, 1.3644, 1.2752, 1.3800, 1.3142, 1.3828, 1.3065, 1.4296, 1.5001,\n",
      "        1.3509, 1.4256, 1.3146, 1.3893, 1.3050, 1.4627, 1.7495, 1.3303, 1.1865,\n",
      "        1.3536, 1.6140, 1.4234, 1.4181, 1.4055, 1.6734, 1.2990, 1.2623, 1.3765,\n",
      "        1.4809, 1.4321, 1.4533, 1.3700, 1.2901, 1.1830, 1.3065, 1.2752, 1.2769,\n",
      "        1.3529, 1.3694, 1.3571, 1.5374, 1.2284, 1.4458, 1.2438, 1.2823, 1.2623,\n",
      "        1.4770, 1.3223], device='cuda:0', grad_fn=<MeanBackward1>)\n"
     ]
    },
    {
     "name": "stderr",
     "output_type": "stream",
     "text": [
      "\r",
      " 10%|████████▊                                                                            | 5/48 [00:08<01:41,  2.36s/it]"
     ]
    },
    {
     "name": "stdout",
     "output_type": "stream",
     "text": [
      "tensor([[-0.2315, -0.1580,  2.7139,  ..., -0.2785,  0.4662, -0.2035],\n",
      "        [ 1.0904, -0.2650,  0.8061,  ...,  0.0098, -0.2770,  0.3679],\n",
      "        [-0.2774, -0.1616,  1.0643,  ..., -0.2623,  2.3038, -0.1811],\n",
      "        ...,\n",
      "        [-0.0143,  0.0905,  1.1330,  ..., -0.2673,  0.1564, -0.2785],\n",
      "        [ 0.3277, -0.2056, -0.0758,  ...,  0.0621, -0.0520,  0.2518],\n",
      "        [-0.2582,  0.9122,  0.3374,  ...,  0.1563, -0.2769, -0.1597]],\n",
      "       device='cuda:0', grad_fn=<SiluBackward>)\n",
      "tensor([[-0.1956, -0.0169, -0.1491,  ...,  0.1903,  1.5532, -0.1261],\n",
      "        [-0.2057, -0.2271,  0.4665,  ..., -0.2137, -0.2648, -0.2563],\n",
      "        [ 0.0159,  0.1769,  0.6287,  ...,  1.0189, -0.2698,  0.0067],\n",
      "        ...,\n",
      "        [-0.0785,  0.8861, -0.2783,  ...,  0.8763,  0.1754, -0.2699],\n",
      "        [-0.2689,  0.5409, -0.2633,  ..., -0.1730,  0.1193, -0.2087],\n",
      "        [ 0.0108, -0.2758, -0.0778,  ..., -0.2769,  1.2287,  0.7737]],\n",
      "       device='cuda:0', grad_fn=<SiluBackward>)\n",
      "tensor([[-0.2388,  1.4761,  0.8010,  ...,  1.2643,  0.3428,  1.1655],\n",
      "        [ 0.9702,  1.0072, -0.1363,  ...,  1.5231,  1.7182,  1.8562],\n",
      "        [-0.1911,  3.0594,  0.0164,  ...,  0.2066,  0.2486,  0.2395],\n",
      "        ...,\n",
      "        [-0.2527, -0.2728,  1.2490,  ...,  0.1789,  0.0455,  0.1714],\n",
      "        [ 0.5737,  0.0755,  0.7959,  ...,  0.1705,  0.3031, -0.2706],\n",
      "        [ 0.1353,  0.5057,  0.3354,  ...,  0.3384, -0.2091, -0.0902]],\n",
      "       device='cuda:0', grad_fn=<SiluBackward>)\n",
      "tensor([[ 5.3947e-02,  3.1768e-01,  2.9604e-01,  ...,  7.2481e-01,\n",
      "         -1.7765e-01, -1.6926e-01],\n",
      "        [ 4.2482e-03,  4.4248e+00,  2.2345e+00,  ...,  3.5324e-01,\n",
      "         -1.7125e-01, -2.2907e-01],\n",
      "        [-2.7440e-01, -1.3123e-01,  1.1577e+00,  ...,  1.4387e+00,\n",
      "          1.1116e-01, -2.0970e-01],\n",
      "        ...,\n",
      "        [ 1.3096e+00,  1.3143e-01,  1.7387e-01,  ..., -7.6135e-02,\n",
      "         -2.7492e-01,  8.3184e-01],\n",
      "        [ 9.9569e-01, -2.7320e-01, -6.4282e-02,  ..., -1.5298e-01,\n",
      "          1.2959e+00,  8.7368e-01],\n",
      "        [-2.7480e-01,  1.7220e+00,  1.3414e+00,  ...,  1.2128e+00,\n",
      "         -5.6052e-02, -2.5669e-01]], device='cuda:0', grad_fn=<SiluBackward>)\n",
      "debug\n",
      "torch.Size([128, 896])\n",
      "tensor([1.3593, 1.7569, 1.3331, 1.4875, 1.4873, 1.2824, 1.3214, 1.3479, 1.2790,\n",
      "        1.1867, 1.2775, 1.2401, 1.2764, 1.1823, 1.3855, 1.4293, 1.0585, 1.3238,\n",
      "        1.1950, 1.3031, 1.2024, 1.2738, 1.2442, 1.1325, 1.3177, 1.3679, 1.2305,\n",
      "        1.2985, 1.3235, 1.2139, 1.4816, 1.1196, 1.4748, 1.5886, 1.3060, 1.4043,\n",
      "        1.2844, 1.1825, 1.1368, 1.1415, 1.2260, 1.1788, 1.2341, 1.2235, 1.2874,\n",
      "        1.4112, 1.1603, 1.4058, 1.2515, 1.2557, 1.3097, 1.1921, 1.1888, 1.6187,\n",
      "        1.1698, 1.3124, 1.3112, 1.2978, 1.3510, 1.4850, 1.3514, 1.3129, 1.4482,\n",
      "        1.2391, 1.2581, 1.2690, 1.1851, 1.1694, 1.3615, 1.6124, 1.1392, 1.4670,\n",
      "        1.1035, 1.2876, 1.4758, 1.2131, 1.1796, 1.3506, 1.1116, 1.3229, 1.1976,\n",
      "        1.3544, 1.4579, 1.2710, 1.2759, 1.2901, 1.2624, 1.4085, 1.2524, 1.4043,\n",
      "        1.1937, 1.2924, 1.2252, 1.3220, 1.3306, 1.3406, 1.4036, 1.2212, 1.2323,\n",
      "        1.2818, 1.3912, 1.2396, 1.3930, 1.1696, 1.2680, 1.5260, 1.4155, 1.2814,\n",
      "        1.3505, 1.4935, 1.3462, 1.3304, 1.3898, 1.5025, 1.3344, 1.2629, 1.2436,\n",
      "        1.3347, 1.1377, 1.4755, 1.0862, 1.5554, 1.2133, 1.3491, 1.3813, 1.3255,\n",
      "        1.3258, 1.2264], device='cuda:0', grad_fn=<MeanBackward1>)\n"
     ]
    },
    {
     "name": "stderr",
     "output_type": "stream",
     "text": [
      " 12%|██████████▋                                                                          | 6/48 [00:15<01:48,  2.58s/it]\n"
     ]
    },
    {
     "ename": "KeyboardInterrupt",
     "evalue": "",
     "output_type": "error",
     "traceback": [
      "\u001b[0;31m---------------------------------------------------------------------------\u001b[0m",
      "\u001b[0;31mKeyboardInterrupt\u001b[0m                         Traceback (most recent call last)",
      "\u001b[0;32m/tmp/ipykernel_25188/111031317.py\u001b[0m in \u001b[0;36m<module>\u001b[0;34m\u001b[0m\n\u001b[1;32m      1\u001b[0m \u001b[0;32mfor\u001b[0m \u001b[0mmachine_type\u001b[0m \u001b[0;32min\u001b[0m \u001b[0mmachine_types\u001b[0m\u001b[0;34m[\u001b[0m\u001b[0;36m0\u001b[0m\u001b[0;34m:\u001b[0m\u001b[0;34m]\u001b[0m\u001b[0;34m:\u001b[0m\u001b[0;34m\u001b[0m\u001b[0;34m\u001b[0m\u001b[0m\n\u001b[0;32m----> 2\u001b[0;31m     \u001b[0mrun\u001b[0m\u001b[0;34m(\u001b[0m\u001b[0mmachine_type\u001b[0m\u001b[0;34m,\u001b[0m \u001b[0mdev_paths\u001b[0m\u001b[0;34m)\u001b[0m\u001b[0;34m\u001b[0m\u001b[0;34m\u001b[0m\u001b[0m\n\u001b[0m",
      "\u001b[0;32m/tmp/ipykernel_25188/1433772725.py\u001b[0m in \u001b[0;36mrun\u001b[0;34m(machine_type, dev_paths)\u001b[0m\n\u001b[1;32m     17\u001b[0m \u001b[0;34m\u001b[0m\u001b[0m\n\u001b[1;32m     18\u001b[0m     \u001b[0moptimizer\u001b[0m \u001b[0;34m=\u001b[0m \u001b[0mtorch\u001b[0m\u001b[0;34m.\u001b[0m\u001b[0moptim\u001b[0m\u001b[0;34m.\u001b[0m\u001b[0mAdam\u001b[0m\u001b[0;34m(\u001b[0m\u001b[0mmodel\u001b[0m\u001b[0;34m.\u001b[0m\u001b[0mparameters\u001b[0m\u001b[0;34m(\u001b[0m\u001b[0;34m)\u001b[0m\u001b[0;34m,\u001b[0m\u001b[0mlr\u001b[0m\u001b[0;34m=\u001b[0m\u001b[0;36m1e-3\u001b[0m\u001b[0;34m)\u001b[0m\u001b[0;34m\u001b[0m\u001b[0;34m\u001b[0m\u001b[0m\n\u001b[0;32m---> 19\u001b[0;31m     \u001b[0moutput_dict\u001b[0m\u001b[0;34m,\u001b[0m \u001b[0mmodel\u001b[0m\u001b[0;34m,\u001b[0m \u001b[0mpred_df\u001b[0m \u001b[0;34m=\u001b[0m \u001b[0mmodeler\u001b[0m\u001b[0;34m.\u001b[0m\u001b[0mrun_training\u001b[0m\u001b[0;34m(\u001b[0m\u001b[0mmodel\u001b[0m\u001b[0;34m,\u001b[0m \u001b[0mdataloaders_dict\u001b[0m\u001b[0;34m,\u001b[0m \u001b[0mwriter\u001b[0m\u001b[0;34m,\u001b[0m \u001b[0moptimizer\u001b[0m\u001b[0;34m)\u001b[0m\u001b[0;34m\u001b[0m\u001b[0;34m\u001b[0m\u001b[0m\n\u001b[0m\u001b[1;32m     20\u001b[0m \u001b[0;34m\u001b[0m\u001b[0m\n\u001b[1;32m     21\u001b[0m     \u001b[0;31m# output\u001b[0m\u001b[0;34m\u001b[0m\u001b[0;34m\u001b[0m\u001b[0;34m\u001b[0m\u001b[0m\n",
      "\u001b[0;32m/media/code-disk/dcase2021_task2_UDA/EfficientNet/exp1/pytorch_modeler.py\u001b[0m in \u001b[0;36mrun_training\u001b[0;34m(model, dataloaders_dict, writer, optimizer)\u001b[0m\n\u001b[1;32m    224\u001b[0m             \u001b[0moptimizer\u001b[0m\u001b[0;34m=\u001b[0m\u001b[0moptimizer\u001b[0m\u001b[0;34m,\u001b[0m\u001b[0;34m\u001b[0m\u001b[0;34m\u001b[0m\u001b[0m\n\u001b[1;32m    225\u001b[0m             \u001b[0mepoch\u001b[0m\u001b[0;34m=\u001b[0m\u001b[0mepoch\u001b[0m\u001b[0;34m,\u001b[0m\u001b[0;34m\u001b[0m\u001b[0;34m\u001b[0m\u001b[0m\n\u001b[0;32m--> 226\u001b[0;31m             \u001b[0mdevice\u001b[0m\u001b[0;34m=\u001b[0m\u001b[0mdevice\u001b[0m\u001b[0;34m,\u001b[0m\u001b[0;34m\u001b[0m\u001b[0;34m\u001b[0m\u001b[0m\n\u001b[0m\u001b[1;32m    227\u001b[0m             )\n\u001b[1;32m    228\u001b[0m         \u001b[0;32mif\u001b[0m \u001b[0mepoch\u001b[0m \u001b[0;34m==\u001b[0m \u001b[0mn_epochs\u001b[0m\u001b[0;34m:\u001b[0m\u001b[0;34m\u001b[0m\u001b[0;34m\u001b[0m\u001b[0m\n",
      "\u001b[0;32m/media/code-disk/dcase2021_task2_UDA/EfficientNet/exp1/pytorch_modeler.py\u001b[0m in \u001b[0;36mtrain_fn\u001b[0;34m(data_loader, model, optimizer, epoch, device)\u001b[0m\n\u001b[1;32m    119\u001b[0m         }\n\u001b[1;32m    120\u001b[0m     \u001b[0;31m# training roop\u001b[0m\u001b[0;34m\u001b[0m\u001b[0;34m\u001b[0m\u001b[0;34m\u001b[0m\u001b[0m\n\u001b[0;32m--> 121\u001b[0;31m     \u001b[0;32mfor\u001b[0m \u001b[0miter\u001b[0m\u001b[0;34m,\u001b[0m \u001b[0msample\u001b[0m \u001b[0;32min\u001b[0m \u001b[0menumerate\u001b[0m\u001b[0;34m(\u001b[0m\u001b[0mtqdm\u001b[0m\u001b[0;34m(\u001b[0m\u001b[0mdata_loader\u001b[0m\u001b[0;34m)\u001b[0m\u001b[0;34m)\u001b[0m\u001b[0;34m:\u001b[0m\u001b[0;34m\u001b[0m\u001b[0;34m\u001b[0m\u001b[0m\n\u001b[0m\u001b[1;32m    122\u001b[0m         \u001b[0;31m# expand\u001b[0m\u001b[0;34m\u001b[0m\u001b[0;34m\u001b[0m\u001b[0;34m\u001b[0m\u001b[0m\n\u001b[1;32m    123\u001b[0m         \u001b[0mfeature\u001b[0m \u001b[0;34m=\u001b[0m \u001b[0msample\u001b[0m\u001b[0;34m[\u001b[0m\u001b[0;34m'feature'\u001b[0m\u001b[0;34m]\u001b[0m\u001b[0;34m\u001b[0m\u001b[0;34m\u001b[0m\u001b[0m\n",
      "\u001b[0;32m/opt/conda/lib/python3.7/site-packages/tqdm/std.py\u001b[0m in \u001b[0;36m__iter__\u001b[0;34m(self)\u001b[0m\n\u001b[1;32m   1178\u001b[0m \u001b[0;34m\u001b[0m\u001b[0m\n\u001b[1;32m   1179\u001b[0m         \u001b[0;32mtry\u001b[0m\u001b[0;34m:\u001b[0m\u001b[0;34m\u001b[0m\u001b[0;34m\u001b[0m\u001b[0m\n\u001b[0;32m-> 1180\u001b[0;31m             \u001b[0;32mfor\u001b[0m \u001b[0mobj\u001b[0m \u001b[0;32min\u001b[0m \u001b[0miterable\u001b[0m\u001b[0;34m:\u001b[0m\u001b[0;34m\u001b[0m\u001b[0;34m\u001b[0m\u001b[0m\n\u001b[0m\u001b[1;32m   1181\u001b[0m                 \u001b[0;32myield\u001b[0m \u001b[0mobj\u001b[0m\u001b[0;34m\u001b[0m\u001b[0;34m\u001b[0m\u001b[0m\n\u001b[1;32m   1182\u001b[0m                 \u001b[0;31m# Update and possibly print the progressbar.\u001b[0m\u001b[0;34m\u001b[0m\u001b[0;34m\u001b[0m\u001b[0;34m\u001b[0m\u001b[0m\n",
      "\u001b[0;32m/opt/conda/lib/python3.7/site-packages/torch/utils/data/dataloader.py\u001b[0m in \u001b[0;36m__next__\u001b[0;34m(self)\u001b[0m\n\u001b[1;32m    519\u001b[0m             \u001b[0;32mif\u001b[0m \u001b[0mself\u001b[0m\u001b[0;34m.\u001b[0m\u001b[0m_sampler_iter\u001b[0m \u001b[0;32mis\u001b[0m \u001b[0;32mNone\u001b[0m\u001b[0;34m:\u001b[0m\u001b[0;34m\u001b[0m\u001b[0;34m\u001b[0m\u001b[0m\n\u001b[1;32m    520\u001b[0m                 \u001b[0mself\u001b[0m\u001b[0;34m.\u001b[0m\u001b[0m_reset\u001b[0m\u001b[0;34m(\u001b[0m\u001b[0;34m)\u001b[0m\u001b[0;34m\u001b[0m\u001b[0;34m\u001b[0m\u001b[0m\n\u001b[0;32m--> 521\u001b[0;31m             \u001b[0mdata\u001b[0m \u001b[0;34m=\u001b[0m \u001b[0mself\u001b[0m\u001b[0;34m.\u001b[0m\u001b[0m_next_data\u001b[0m\u001b[0;34m(\u001b[0m\u001b[0;34m)\u001b[0m\u001b[0;34m\u001b[0m\u001b[0;34m\u001b[0m\u001b[0m\n\u001b[0m\u001b[1;32m    522\u001b[0m             \u001b[0mself\u001b[0m\u001b[0;34m.\u001b[0m\u001b[0m_num_yielded\u001b[0m \u001b[0;34m+=\u001b[0m \u001b[0;36m1\u001b[0m\u001b[0;34m\u001b[0m\u001b[0;34m\u001b[0m\u001b[0m\n\u001b[1;32m    523\u001b[0m             \u001b[0;32mif\u001b[0m \u001b[0mself\u001b[0m\u001b[0;34m.\u001b[0m\u001b[0m_dataset_kind\u001b[0m \u001b[0;34m==\u001b[0m \u001b[0m_DatasetKind\u001b[0m\u001b[0;34m.\u001b[0m\u001b[0mIterable\u001b[0m \u001b[0;32mand\u001b[0m\u001b[0;31m \u001b[0m\u001b[0;31m\\\u001b[0m\u001b[0;34m\u001b[0m\u001b[0;34m\u001b[0m\u001b[0m\n",
      "\u001b[0;32m/opt/conda/lib/python3.7/site-packages/torch/utils/data/dataloader.py\u001b[0m in \u001b[0;36m_next_data\u001b[0;34m(self)\u001b[0m\n\u001b[1;32m    559\u001b[0m     \u001b[0;32mdef\u001b[0m \u001b[0m_next_data\u001b[0m\u001b[0;34m(\u001b[0m\u001b[0mself\u001b[0m\u001b[0;34m)\u001b[0m\u001b[0;34m:\u001b[0m\u001b[0;34m\u001b[0m\u001b[0;34m\u001b[0m\u001b[0m\n\u001b[1;32m    560\u001b[0m         \u001b[0mindex\u001b[0m \u001b[0;34m=\u001b[0m \u001b[0mself\u001b[0m\u001b[0;34m.\u001b[0m\u001b[0m_next_index\u001b[0m\u001b[0;34m(\u001b[0m\u001b[0;34m)\u001b[0m  \u001b[0;31m# may raise StopIteration\u001b[0m\u001b[0;34m\u001b[0m\u001b[0;34m\u001b[0m\u001b[0m\n\u001b[0;32m--> 561\u001b[0;31m         \u001b[0mdata\u001b[0m \u001b[0;34m=\u001b[0m \u001b[0mself\u001b[0m\u001b[0;34m.\u001b[0m\u001b[0m_dataset_fetcher\u001b[0m\u001b[0;34m.\u001b[0m\u001b[0mfetch\u001b[0m\u001b[0;34m(\u001b[0m\u001b[0mindex\u001b[0m\u001b[0;34m)\u001b[0m  \u001b[0;31m# may raise StopIteration\u001b[0m\u001b[0;34m\u001b[0m\u001b[0;34m\u001b[0m\u001b[0m\n\u001b[0m\u001b[1;32m    562\u001b[0m         \u001b[0;32mif\u001b[0m \u001b[0mself\u001b[0m\u001b[0;34m.\u001b[0m\u001b[0m_pin_memory\u001b[0m\u001b[0;34m:\u001b[0m\u001b[0;34m\u001b[0m\u001b[0;34m\u001b[0m\u001b[0m\n\u001b[1;32m    563\u001b[0m             \u001b[0mdata\u001b[0m \u001b[0;34m=\u001b[0m \u001b[0m_utils\u001b[0m\u001b[0;34m.\u001b[0m\u001b[0mpin_memory\u001b[0m\u001b[0;34m.\u001b[0m\u001b[0mpin_memory\u001b[0m\u001b[0;34m(\u001b[0m\u001b[0mdata\u001b[0m\u001b[0;34m)\u001b[0m\u001b[0;34m\u001b[0m\u001b[0;34m\u001b[0m\u001b[0m\n",
      "\u001b[0;32m/opt/conda/lib/python3.7/site-packages/torch/utils/data/_utils/fetch.py\u001b[0m in \u001b[0;36mfetch\u001b[0;34m(self, possibly_batched_index)\u001b[0m\n\u001b[1;32m     42\u001b[0m     \u001b[0;32mdef\u001b[0m \u001b[0mfetch\u001b[0m\u001b[0;34m(\u001b[0m\u001b[0mself\u001b[0m\u001b[0;34m,\u001b[0m \u001b[0mpossibly_batched_index\u001b[0m\u001b[0;34m)\u001b[0m\u001b[0;34m:\u001b[0m\u001b[0;34m\u001b[0m\u001b[0;34m\u001b[0m\u001b[0m\n\u001b[1;32m     43\u001b[0m         \u001b[0;32mif\u001b[0m \u001b[0mself\u001b[0m\u001b[0;34m.\u001b[0m\u001b[0mauto_collation\u001b[0m\u001b[0;34m:\u001b[0m\u001b[0;34m\u001b[0m\u001b[0;34m\u001b[0m\u001b[0m\n\u001b[0;32m---> 44\u001b[0;31m             \u001b[0mdata\u001b[0m \u001b[0;34m=\u001b[0m \u001b[0;34m[\u001b[0m\u001b[0mself\u001b[0m\u001b[0;34m.\u001b[0m\u001b[0mdataset\u001b[0m\u001b[0;34m[\u001b[0m\u001b[0midx\u001b[0m\u001b[0;34m]\u001b[0m \u001b[0;32mfor\u001b[0m \u001b[0midx\u001b[0m \u001b[0;32min\u001b[0m \u001b[0mpossibly_batched_index\u001b[0m\u001b[0;34m]\u001b[0m\u001b[0;34m\u001b[0m\u001b[0;34m\u001b[0m\u001b[0m\n\u001b[0m\u001b[1;32m     45\u001b[0m         \u001b[0;32melse\u001b[0m\u001b[0;34m:\u001b[0m\u001b[0;34m\u001b[0m\u001b[0;34m\u001b[0m\u001b[0m\n\u001b[1;32m     46\u001b[0m             \u001b[0mdata\u001b[0m \u001b[0;34m=\u001b[0m \u001b[0mself\u001b[0m\u001b[0;34m.\u001b[0m\u001b[0mdataset\u001b[0m\u001b[0;34m[\u001b[0m\u001b[0mpossibly_batched_index\u001b[0m\u001b[0;34m]\u001b[0m\u001b[0;34m\u001b[0m\u001b[0;34m\u001b[0m\u001b[0m\n",
      "\u001b[0;32m/opt/conda/lib/python3.7/site-packages/torch/utils/data/_utils/fetch.py\u001b[0m in \u001b[0;36m<listcomp>\u001b[0;34m(.0)\u001b[0m\n\u001b[1;32m     42\u001b[0m     \u001b[0;32mdef\u001b[0m \u001b[0mfetch\u001b[0m\u001b[0;34m(\u001b[0m\u001b[0mself\u001b[0m\u001b[0;34m,\u001b[0m \u001b[0mpossibly_batched_index\u001b[0m\u001b[0;34m)\u001b[0m\u001b[0;34m:\u001b[0m\u001b[0;34m\u001b[0m\u001b[0;34m\u001b[0m\u001b[0m\n\u001b[1;32m     43\u001b[0m         \u001b[0;32mif\u001b[0m \u001b[0mself\u001b[0m\u001b[0;34m.\u001b[0m\u001b[0mauto_collation\u001b[0m\u001b[0;34m:\u001b[0m\u001b[0;34m\u001b[0m\u001b[0;34m\u001b[0m\u001b[0m\n\u001b[0;32m---> 44\u001b[0;31m             \u001b[0mdata\u001b[0m \u001b[0;34m=\u001b[0m \u001b[0;34m[\u001b[0m\u001b[0mself\u001b[0m\u001b[0;34m.\u001b[0m\u001b[0mdataset\u001b[0m\u001b[0;34m[\u001b[0m\u001b[0midx\u001b[0m\u001b[0;34m]\u001b[0m \u001b[0;32mfor\u001b[0m \u001b[0midx\u001b[0m \u001b[0;32min\u001b[0m \u001b[0mpossibly_batched_index\u001b[0m\u001b[0;34m]\u001b[0m\u001b[0;34m\u001b[0m\u001b[0;34m\u001b[0m\u001b[0m\n\u001b[0m\u001b[1;32m     45\u001b[0m         \u001b[0;32melse\u001b[0m\u001b[0;34m:\u001b[0m\u001b[0;34m\u001b[0m\u001b[0;34m\u001b[0m\u001b[0m\n\u001b[1;32m     46\u001b[0m             \u001b[0mdata\u001b[0m \u001b[0;34m=\u001b[0m \u001b[0mself\u001b[0m\u001b[0;34m.\u001b[0m\u001b[0mdataset\u001b[0m\u001b[0;34m[\u001b[0m\u001b[0mpossibly_batched_index\u001b[0m\u001b[0;34m]\u001b[0m\u001b[0;34m\u001b[0m\u001b[0;34m\u001b[0m\u001b[0m\n",
      "\u001b[0;32m/media/code-disk/dcase2021_task2_UDA/EfficientNet/exp1/preprocessing_crop.py\u001b[0m in \u001b[0;36m__getitem__\u001b[0;34m(self, idx)\u001b[0m\n\u001b[1;32m    123\u001b[0m \u001b[0;34m\u001b[0m\u001b[0m\n\u001b[1;32m    124\u001b[0m         \u001b[0msample\u001b[0m \u001b[0;34m=\u001b[0m \u001b[0;34m{\u001b[0m\u001b[0;34m'wav_name'\u001b[0m\u001b[0;34m:\u001b[0m\u001b[0mfile_path\u001b[0m\u001b[0;34m,\u001b[0m \u001b[0;34m'label'\u001b[0m\u001b[0;34m:\u001b[0m\u001b[0mnp\u001b[0m\u001b[0;34m.\u001b[0m\u001b[0marray\u001b[0m\u001b[0;34m(\u001b[0m\u001b[0mlabel\u001b[0m\u001b[0;34m)\u001b[0m\u001b[0;34m}\u001b[0m\u001b[0;34m\u001b[0m\u001b[0;34m\u001b[0m\u001b[0m\n\u001b[0;32m--> 125\u001b[0;31m         \u001b[0msample\u001b[0m \u001b[0;34m=\u001b[0m \u001b[0mself\u001b[0m\u001b[0;34m.\u001b[0m\u001b[0mtransform\u001b[0m\u001b[0;34m(\u001b[0m\u001b[0msample\u001b[0m\u001b[0;34m)\u001b[0m\u001b[0;34m\u001b[0m\u001b[0;34m\u001b[0m\u001b[0m\n\u001b[0m\u001b[1;32m    126\u001b[0m \u001b[0;34m\u001b[0m\u001b[0m\n\u001b[1;32m    127\u001b[0m         \u001b[0;32mreturn\u001b[0m \u001b[0msample\u001b[0m\u001b[0;34m\u001b[0m\u001b[0;34m\u001b[0m\u001b[0m\n",
      "\u001b[0;32m/opt/conda/lib/python3.7/site-packages/torchvision/transforms/transforms.py\u001b[0m in \u001b[0;36m__call__\u001b[0;34m(self, img)\u001b[0m\n\u001b[1;32m     58\u001b[0m     \u001b[0;32mdef\u001b[0m \u001b[0m__call__\u001b[0m\u001b[0;34m(\u001b[0m\u001b[0mself\u001b[0m\u001b[0;34m,\u001b[0m \u001b[0mimg\u001b[0m\u001b[0;34m)\u001b[0m\u001b[0;34m:\u001b[0m\u001b[0;34m\u001b[0m\u001b[0;34m\u001b[0m\u001b[0m\n\u001b[1;32m     59\u001b[0m         \u001b[0;32mfor\u001b[0m \u001b[0mt\u001b[0m \u001b[0;32min\u001b[0m \u001b[0mself\u001b[0m\u001b[0;34m.\u001b[0m\u001b[0mtransforms\u001b[0m\u001b[0;34m:\u001b[0m\u001b[0;34m\u001b[0m\u001b[0;34m\u001b[0m\u001b[0m\n\u001b[0;32m---> 60\u001b[0;31m             \u001b[0mimg\u001b[0m \u001b[0;34m=\u001b[0m \u001b[0mt\u001b[0m\u001b[0;34m(\u001b[0m\u001b[0mimg\u001b[0m\u001b[0;34m)\u001b[0m\u001b[0;34m\u001b[0m\u001b[0;34m\u001b[0m\u001b[0m\n\u001b[0m\u001b[1;32m     61\u001b[0m         \u001b[0;32mreturn\u001b[0m \u001b[0mimg\u001b[0m\u001b[0;34m\u001b[0m\u001b[0;34m\u001b[0m\u001b[0m\n\u001b[1;32m     62\u001b[0m \u001b[0;34m\u001b[0m\u001b[0m\n",
      "\u001b[0;32m/media/code-disk/dcase2021_task2_UDA/EfficientNet/exp1/preprocessing_crop.py\u001b[0m in \u001b[0;36m__call__\u001b[0;34m(self, sample)\u001b[0m\n\u001b[1;32m     70\u001b[0m         X, _ = librosa.load(sample['wav_name'],\n\u001b[1;32m     71\u001b[0m                             \u001b[0msr\u001b[0m\u001b[0;34m=\u001b[0m\u001b[0;36m16000\u001b[0m\u001b[0;34m,\u001b[0m\u001b[0;34m\u001b[0m\u001b[0;34m\u001b[0m\u001b[0m\n\u001b[0;32m---> 72\u001b[0;31m                             mono=True)\n\u001b[0m\u001b[1;32m     73\u001b[0m         \u001b[0mX\u001b[0m \u001b[0;34m=\u001b[0m \u001b[0mtorch\u001b[0m\u001b[0;34m.\u001b[0m\u001b[0mfrom_numpy\u001b[0m\u001b[0;34m(\u001b[0m\u001b[0mX\u001b[0m\u001b[0;34m.\u001b[0m\u001b[0mastype\u001b[0m\u001b[0;34m(\u001b[0m\u001b[0mnp\u001b[0m\u001b[0;34m.\u001b[0m\u001b[0mfloat32\u001b[0m\u001b[0;34m)\u001b[0m\u001b[0;34m)\u001b[0m\u001b[0;34m.\u001b[0m\u001b[0mclone\u001b[0m\u001b[0;34m(\u001b[0m\u001b[0;34m)\u001b[0m\u001b[0;34m\u001b[0m\u001b[0;34m\u001b[0m\u001b[0m\n\u001b[1;32m     74\u001b[0m         \u001b[0mX\u001b[0m \u001b[0;34m=\u001b[0m \u001b[0mself\u001b[0m\u001b[0;34m.\u001b[0m\u001b[0mmel_spectrogram_transformer\u001b[0m\u001b[0;34m(\u001b[0m\u001b[0mX\u001b[0m\u001b[0;34m)\u001b[0m\u001b[0;34m\u001b[0m\u001b[0;34m\u001b[0m\u001b[0m\n",
      "\u001b[0;32m/opt/conda/lib/python3.7/site-packages/librosa/core/audio.py\u001b[0m in \u001b[0;36mload\u001b[0;34m(path, sr, mono, offset, duration, dtype, res_type)\u001b[0m\n\u001b[1;32m    147\u001b[0m \u001b[0;34m\u001b[0m\u001b[0m\n\u001b[1;32m    148\u001b[0m     \u001b[0;32mtry\u001b[0m\u001b[0;34m:\u001b[0m\u001b[0;34m\u001b[0m\u001b[0;34m\u001b[0m\u001b[0m\n\u001b[0;32m--> 149\u001b[0;31m         \u001b[0;32mwith\u001b[0m \u001b[0msf\u001b[0m\u001b[0;34m.\u001b[0m\u001b[0mSoundFile\u001b[0m\u001b[0;34m(\u001b[0m\u001b[0mpath\u001b[0m\u001b[0;34m)\u001b[0m \u001b[0;32mas\u001b[0m \u001b[0msf_desc\u001b[0m\u001b[0;34m:\u001b[0m\u001b[0;34m\u001b[0m\u001b[0;34m\u001b[0m\u001b[0m\n\u001b[0m\u001b[1;32m    150\u001b[0m             \u001b[0msr_native\u001b[0m \u001b[0;34m=\u001b[0m \u001b[0msf_desc\u001b[0m\u001b[0;34m.\u001b[0m\u001b[0msamplerate\u001b[0m\u001b[0;34m\u001b[0m\u001b[0;34m\u001b[0m\u001b[0m\n\u001b[1;32m    151\u001b[0m             \u001b[0;32mif\u001b[0m \u001b[0moffset\u001b[0m\u001b[0;34m:\u001b[0m\u001b[0;34m\u001b[0m\u001b[0;34m\u001b[0m\u001b[0m\n",
      "\u001b[0;32m/opt/conda/lib/python3.7/site-packages/soundfile.py\u001b[0m in \u001b[0;36m__init__\u001b[0;34m(self, file, mode, samplerate, channels, subtype, endian, format, closefd)\u001b[0m\n\u001b[1;32m    627\u001b[0m         self._info = _create_info_struct(file, mode, samplerate, channels,\n\u001b[1;32m    628\u001b[0m                                          format, subtype, endian)\n\u001b[0;32m--> 629\u001b[0;31m         \u001b[0mself\u001b[0m\u001b[0;34m.\u001b[0m\u001b[0m_file\u001b[0m \u001b[0;34m=\u001b[0m \u001b[0mself\u001b[0m\u001b[0;34m.\u001b[0m\u001b[0m_open\u001b[0m\u001b[0;34m(\u001b[0m\u001b[0mfile\u001b[0m\u001b[0;34m,\u001b[0m \u001b[0mmode_int\u001b[0m\u001b[0;34m,\u001b[0m \u001b[0mclosefd\u001b[0m\u001b[0;34m)\u001b[0m\u001b[0;34m\u001b[0m\u001b[0;34m\u001b[0m\u001b[0m\n\u001b[0m\u001b[1;32m    630\u001b[0m         \u001b[0;32mif\u001b[0m \u001b[0mset\u001b[0m\u001b[0;34m(\u001b[0m\u001b[0mmode\u001b[0m\u001b[0;34m)\u001b[0m\u001b[0;34m.\u001b[0m\u001b[0missuperset\u001b[0m\u001b[0;34m(\u001b[0m\u001b[0;34m'r+'\u001b[0m\u001b[0;34m)\u001b[0m \u001b[0;32mand\u001b[0m \u001b[0mself\u001b[0m\u001b[0;34m.\u001b[0m\u001b[0mseekable\u001b[0m\u001b[0;34m(\u001b[0m\u001b[0;34m)\u001b[0m\u001b[0;34m:\u001b[0m\u001b[0;34m\u001b[0m\u001b[0;34m\u001b[0m\u001b[0m\n\u001b[1;32m    631\u001b[0m             \u001b[0;31m# Move write position to 0 (like in Python file objects)\u001b[0m\u001b[0;34m\u001b[0m\u001b[0;34m\u001b[0m\u001b[0;34m\u001b[0m\u001b[0m\n",
      "\u001b[0;32m/opt/conda/lib/python3.7/site-packages/soundfile.py\u001b[0m in \u001b[0;36m_open\u001b[0;34m(self, file, mode_int, closefd)\u001b[0m\n\u001b[1;32m   1173\u001b[0m                 \u001b[0;32melse\u001b[0m\u001b[0;34m:\u001b[0m\u001b[0;34m\u001b[0m\u001b[0;34m\u001b[0m\u001b[0m\n\u001b[1;32m   1174\u001b[0m                     \u001b[0mfile\u001b[0m \u001b[0;34m=\u001b[0m \u001b[0mfile\u001b[0m\u001b[0;34m.\u001b[0m\u001b[0mencode\u001b[0m\u001b[0;34m(\u001b[0m\u001b[0m_sys\u001b[0m\u001b[0;34m.\u001b[0m\u001b[0mgetfilesystemencoding\u001b[0m\u001b[0;34m(\u001b[0m\u001b[0;34m)\u001b[0m\u001b[0;34m)\u001b[0m\u001b[0;34m\u001b[0m\u001b[0;34m\u001b[0m\u001b[0m\n\u001b[0;32m-> 1175\u001b[0;31m             \u001b[0mfile_ptr\u001b[0m \u001b[0;34m=\u001b[0m \u001b[0mopenfunction\u001b[0m\u001b[0;34m(\u001b[0m\u001b[0mfile\u001b[0m\u001b[0;34m,\u001b[0m \u001b[0mmode_int\u001b[0m\u001b[0;34m,\u001b[0m \u001b[0mself\u001b[0m\u001b[0;34m.\u001b[0m\u001b[0m_info\u001b[0m\u001b[0;34m)\u001b[0m\u001b[0;34m\u001b[0m\u001b[0;34m\u001b[0m\u001b[0m\n\u001b[0m\u001b[1;32m   1176\u001b[0m         \u001b[0;32melif\u001b[0m \u001b[0misinstance\u001b[0m\u001b[0;34m(\u001b[0m\u001b[0mfile\u001b[0m\u001b[0;34m,\u001b[0m \u001b[0mint\u001b[0m\u001b[0;34m)\u001b[0m\u001b[0;34m:\u001b[0m\u001b[0;34m\u001b[0m\u001b[0;34m\u001b[0m\u001b[0m\n\u001b[1;32m   1177\u001b[0m             \u001b[0mfile_ptr\u001b[0m \u001b[0;34m=\u001b[0m \u001b[0m_snd\u001b[0m\u001b[0;34m.\u001b[0m\u001b[0msf_open_fd\u001b[0m\u001b[0;34m(\u001b[0m\u001b[0mfile\u001b[0m\u001b[0;34m,\u001b[0m \u001b[0mmode_int\u001b[0m\u001b[0;34m,\u001b[0m \u001b[0mself\u001b[0m\u001b[0;34m.\u001b[0m\u001b[0m_info\u001b[0m\u001b[0;34m,\u001b[0m \u001b[0mclosefd\u001b[0m\u001b[0;34m)\u001b[0m\u001b[0;34m\u001b[0m\u001b[0;34m\u001b[0m\u001b[0m\n",
      "\u001b[0;31mKeyboardInterrupt\u001b[0m: "
     ]
    }
   ],
   "source": [
    "for machine_type in machine_types[0:]:\n",
    "    run(machine_type, dev_paths)"
   ]
  },
  {
   "cell_type": "code",
   "execution_count": null,
   "metadata": {},
   "outputs": [],
   "source": [
    "#run(machine_types[0], dev_paths)"
   ]
  },
  {
   "cell_type": "code",
   "execution_count": null,
   "metadata": {},
   "outputs": [],
   "source": [
    "import gc\n",
    "gc.collect()"
   ]
  },
  {
   "cell_type": "code",
   "execution_count": null,
   "metadata": {},
   "outputs": [],
   "source": []
  }
 ],
 "metadata": {
  "kernelspec": {
   "display_name": "Python 3",
   "language": "python",
   "name": "python3"
  },
  "language_info": {
   "codemirror_mode": {
    "name": "ipython",
    "version": 3
   },
   "file_extension": ".py",
   "mimetype": "text/x-python",
   "name": "python",
   "nbconvert_exporter": "python",
   "pygments_lexer": "ipython3",
   "version": "3.7.10"
  },
  "toc": {
   "base_numbering": 1,
   "nav_menu": {},
   "number_sections": true,
   "sideBar": true,
   "skip_h1_title": false,
   "title_cell": "Table of Contents",
   "title_sidebar": "Contents",
   "toc_cell": false,
   "toc_position": {},
   "toc_section_display": true,
   "toc_window_display": false
  }
 },
 "nbformat": 4,
 "nbformat_minor": 4
}
