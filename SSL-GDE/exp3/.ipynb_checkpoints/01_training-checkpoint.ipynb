{
 "cells": [
  {
   "cell_type": "markdown",
   "metadata": {},
   "source": [
    "# train"
   ]
  },
  {
   "cell_type": "code",
   "execution_count": 1,
   "metadata": {},
   "outputs": [
    {
     "name": "stderr",
     "output_type": "stream",
     "text": [
      "/opt/conda/lib/python3.7/site-packages/ipykernel_launcher.py:5: YAMLLoadWarning: calling yaml.load() without Loader=... is deprecated, as the default Loader is unsafe. Please read https://msg.pyyaml.org/load for full details.\n",
      "  \"\"\"\n"
     ]
    }
   ],
   "source": [
    "import yaml\n",
    "import os\n",
    "\n",
    "with open(\"./config.yaml\", 'rb') as f:\n",
    "    config = yaml.load(f)"
   ]
  },
  {
   "cell_type": "code",
   "execution_count": 2,
   "metadata": {},
   "outputs": [],
   "source": [
    "OUTPUT_ROOT = config['IO_OPTION']['OUTPUT_ROOT']\n",
    "os.makedirs(OUTPUT_ROOT, exist_ok=True)"
   ]
  },
  {
   "cell_type": "markdown",
   "metadata": {},
   "source": [
    "## load library"
   ]
  },
  {
   "cell_type": "code",
   "execution_count": 3,
   "metadata": {},
   "outputs": [],
   "source": [
    "# python default library\n",
    "import os\n",
    "import shutil\n",
    "import datetime\n",
    "import sys\n",
    "import pickle\n",
    "\n",
    "# general analysis tool-kit\n",
    "import numpy as np\n",
    "import pandas as pd\n",
    "#from sklearn.model_selection import train_test_split\n",
    "import matplotlib.pyplot as plt\n",
    "import seaborn as sns\n",
    "\n",
    "# pytorch\n",
    "import torch\n",
    "from torch import optim, nn\n",
    "from torch.utils.tensorboard import SummaryWriter\n",
    "import timm\n",
    "\n",
    "#from torchvision.models import wide_resnet50_2, resnet18\n",
    "#from torchsummary import summary\n",
    "\n",
    "# etc\n",
    "import yaml\n",
    "yaml.warnings({'YAMLLoadWarning': False})\n",
    "\n",
    "# original library\n",
    "import common as com\n",
    "import pytorch_modeler as modeler\n",
    "from pytorch_model import EfficientNet_b1 as Model\n",
    "#from pytorch_utils import filtered_load_model\n",
    "#import models\n",
    "\n",
    "import librosa\n",
    "import IPython\n",
    "import librosa.display"
   ]
  },
  {
   "cell_type": "code",
   "execution_count": 4,
   "metadata": {},
   "outputs": [],
   "source": [
    "# effnet1 = timm.create_model('efficientnet_b1', pretrained=True)\n",
    "# # M7:block[5], M8:block[6], M9:conv_head\n",
    "# effnet1"
   ]
  },
  {
   "cell_type": "markdown",
   "metadata": {},
   "source": [
    "## load config and set logger"
   ]
  },
  {
   "cell_type": "code",
   "execution_count": 5,
   "metadata": {},
   "outputs": [],
   "source": [
    "log_folder = config['IO_OPTION']['OUTPUT_ROOT']+'/{0}.log'.format(datetime.date.today())\n",
    "logger = com.setup_logger(log_folder, '00_train.py')"
   ]
  },
  {
   "cell_type": "markdown",
   "metadata": {},
   "source": [
    "## Setting"
   ]
  },
  {
   "cell_type": "code",
   "execution_count": 6,
   "metadata": {},
   "outputs": [],
   "source": [
    "# Setting seed\n",
    "modeler.set_seed(42)"
   ]
  },
  {
   "cell_type": "code",
   "execution_count": 7,
   "metadata": {},
   "outputs": [],
   "source": [
    "############################################################################\n",
    "# Setting I/O path\n",
    "############################################################################\n",
    "# input dirs\n",
    "INPUT_ROOT = config['IO_OPTION']['INPUT_ROOT']\n",
    "dev_dir = INPUT_ROOT + \"/dev_data\"\n",
    "add_dev_dir = INPUT_ROOT + \"/add_dev_data\"\n",
    "# machine type\n",
    "machine_types = os.listdir(dev_dir)\n",
    "# output dirs\n",
    "OUTPUT_ROOT = config['IO_OPTION']['OUTPUT_ROOT']\n",
    "MODEL_DIR = config['IO_OPTION']['OUTPUT_ROOT'] + '/models'\n",
    "\n",
    "TB_DIR = config['IO_OPTION']['OUTPUT_ROOT'] + '/tb'\n",
    "OUT_FEATURE_DIR = OUTPUT_ROOT + '/extraction_features'\n",
    "PRED_DIR = config['IO_OPTION']['OUTPUT_ROOT'] + '/pred'\n",
    "SCORE_DIR = config['IO_OPTION']['OUTPUT_ROOT'] + '/score'\n",
    "#os.makedirs(OUTPUT_ROOT, exist_ok=True)\n",
    "os.makedirs(MODEL_DIR, exist_ok=True)\n",
    "os.makedirs(TB_DIR, exist_ok=True)\n",
    "os.makedirs(OUT_FEATURE_DIR, exist_ok=True)\n",
    "os.makedirs(PRED_DIR, exist_ok=True)\n",
    "os.makedirs(SCORE_DIR, exist_ok=True)\n",
    "\n",
    "# copy config\n",
    "# shutil.copy('./config.yaml', OUTPUT_ROOT)"
   ]
  },
  {
   "cell_type": "code",
   "execution_count": 8,
   "metadata": {},
   "outputs": [
    {
     "data": {
      "text/plain": [
       "True"
      ]
     },
     "execution_count": 8,
     "metadata": {},
     "output_type": "execute_result"
    }
   ],
   "source": [
    "torch.cuda.is_available()"
   ]
  },
  {
   "cell_type": "markdown",
   "metadata": {},
   "source": [
    "## make path list"
   ]
  },
  {
   "cell_type": "markdown",
   "metadata": {},
   "source": [
    "- __train_paths__ ([dict]): Each Machine Type\n",
    "    - __ToyCar__ ([dict]): Each dataset\n",
    "        - train ([list]) : paths\n",
    "        - valid_source ([list]) : paths\n",
    "        - valid_target ([list]) :paths\n",
    "    - __ToyTrain__ ([dict]): Each dataset\n",
    "        - train ([list]) : paths\n",
    "        - valid_source ([list]) : paths\n",
    "        - valid_target ([list]) : paths\n",
    "    - ..."
   ]
  },
  {
   "cell_type": "code",
   "execution_count": 9,
   "metadata": {},
   "outputs": [],
   "source": [
    "percent = 0.1"
   ]
  },
  {
   "cell_type": "code",
   "execution_count": 10,
   "metadata": {},
   "outputs": [
    {
     "name": "stdout",
     "output_type": "stream",
     "text": [
      "Machine pump,dev_train_size : 3009, source_size : 3000, target_size : 9, adddev_train_size : 3009, source_size : 3000, target_size : 9\n",
      "==============================================================\n",
      "Machine gearbox,dev_train_size : 3026, source_size : 3017, target_size : 9, adddev_train_size : 3114, source_size : 3105, target_size : 9\n",
      "==============================================================\n",
      "Machine slider,dev_train_size : 3009, source_size : 3000, target_size : 9, adddev_train_size : 3009, source_size : 3000, target_size : 9\n",
      "==============================================================\n",
      "Machine ToyCar,dev_train_size : 3009, source_size : 3000, target_size : 9, adddev_train_size : 3009, source_size : 3000, target_size : 9\n",
      "==============================================================\n",
      "Machine valve,dev_train_size : 3009, source_size : 3000, target_size : 9, adddev_train_size : 3009, source_size : 3000, target_size : 9\n",
      "==============================================================\n",
      "Machine ToyTrain,dev_train_size : 3009, source_size : 3000, target_size : 9, adddev_train_size : 3009, source_size : 3000, target_size : 9\n",
      "==============================================================\n",
      "Machine fan,dev_train_size : 3009, source_size : 3000, target_size : 9, adddev_train_size : 3009, source_size : 3000, target_size : 9\n",
      "==============================================================\n"
     ]
    }
   ],
   "source": [
    "dev_paths = {}\n",
    "\n",
    "for machine_type in machine_types:\n",
    "    # dev train\n",
    "    dev_train_paths = [f\"{dev_dir}/{machine_type}/train/\" + file for file in os.listdir(f\"{dev_dir}/{machine_type}/train\")]\n",
    "    dev_train_paths = sorted(dev_train_paths)\n",
    "    \n",
    "    print(f'Machine {machine_type}', end=',')\n",
    "    print(f'dev_train_size : {len(dev_train_paths)}', end=', ')\n",
    "    dev_train_source_paths = [path for path in dev_train_paths if 'source' in path]\n",
    "    print(f'source_size : {len(dev_train_source_paths)}', end=', ')\n",
    "    dev_train_target_paths = [path for path in dev_train_paths if 'target' in path]\n",
    "    print(f'target_size : {len(dev_train_target_paths)}', end=', ')\n",
    "    # increse tgt\n",
    "    num_increse_tgt = int(len(dev_train_source_paths) * percent)\n",
    "    increse_dev_train_target_paths = dev_train_target_paths# * num_increse_tgt\n",
    "    # concat\n",
    "    dev_train_paths = dev_train_source_paths + increse_dev_train_target_paths\n",
    "    \n",
    "    # add_dev train\n",
    "    add_dev_paths = [f\"{add_dev_dir}/{machine_type}/train/\" + file for file in os.listdir(f\"{add_dev_dir}/{machine_type}/train\")]\n",
    "    add_dev_paths = sorted(add_dev_paths)\n",
    "    print(f'adddev_train_size : {len(add_dev_paths)}', end=', ')\n",
    "    add_dev_source_paths = [path for path in add_dev_paths if 'source' in path]\n",
    "    print(f'source_size : {len(add_dev_source_paths)}', end=', ')\n",
    "    add_dev_target_paths = [path for path in add_dev_paths if 'target' in path]\n",
    "    print(f'target_size : {len(add_dev_target_paths)}')\n",
    "    # increse tgt\n",
    "    num_increse_tgt = int(len(add_dev_source_paths) * percent)\n",
    "    increse_add_dev_target_paths = add_dev_target_paths# * num_increse_tgt\n",
    "    # concat\n",
    "    add_dev_paths = add_dev_source_paths + increse_add_dev_target_paths\n",
    "\n",
    "    print('==============================================================')\n",
    "    \n",
    "    # dev_source valid\n",
    "    dev_source_paths = [f\"{dev_dir}/{machine_type}/source_test/\" + file for file in os.listdir(f\"{dev_dir}/{machine_type}/source_test\")]\n",
    "    dev_source_paths = sorted(dev_source_paths)\n",
    "    \n",
    "    # dev_target valid\n",
    "    dev_target_paths = [f\"{dev_dir}/{machine_type}/target_test/\" + file for file in os.listdir(f\"{dev_dir}/{machine_type}/target_test\")]\n",
    "    dev_target_paths = sorted(dev_target_paths)\n",
    "    \n",
    "    # bundle\n",
    "    dev_paths[machine_type] = {}\n",
    "    dev_paths[machine_type]['train'] = dev_train_paths + add_dev_paths\n",
    "    dev_paths[machine_type]['valid_source'] = dev_source_paths\n",
    "    dev_paths[machine_type]['valid_target'] = dev_target_paths"
   ]
  },
  {
   "cell_type": "code",
   "execution_count": 11,
   "metadata": {},
   "outputs": [
    {
     "data": {
      "text/plain": [
       "['pump', 'gearbox', 'slider', 'ToyCar', 'valve', 'ToyTrain', 'fan']"
      ]
     },
     "execution_count": 11,
     "metadata": {},
     "output_type": "execute_result"
    }
   ],
   "source": [
    "machine_types"
   ]
  },
  {
   "cell_type": "code",
   "execution_count": 12,
   "metadata": {},
   "outputs": [],
   "source": [
    "#############################################################################\n",
    "# run\n",
    "#############################################################################\n",
    "def run(machine_type, dev_paths):\n",
    "    com.tic()\n",
    "    os.makedirs(TB_DIR+'/'+machine_type, exist_ok=True)\n",
    "    tb_log_dir = TB_DIR + '/' + machine_type\n",
    "    writer = SummaryWriter(log_dir = tb_log_dir)\n",
    "    \n",
    "    logger.info('TARGET MACHINE_TYPE: {0}'.format(machine_type))\n",
    "    logger.info('MAKE DATA_LOADER')\n",
    "    # dev_train_paths\n",
    "    dataloaders_dict = modeler.make_dataloader(dev_paths, machine_type)\n",
    "    # parameter setting\n",
    "    logger.info('TRAINING')\n",
    "    model = Model(n_out=36, n_classes=6)\n",
    "    \n",
    "    optimizer = torch.optim.Adam(model.parameters(),lr=1e-3)\n",
    "    output_dict, model, pred_df, score_df = modeler.run_training(model, dataloaders_dict, writer, optimizer)\n",
    "    \n",
    "    # output\n",
    "    feature_out_path = f'{OUT_FEATURE_DIR}/{machine_type}_features.pkl'\n",
    "    model_out_path = f'{MODEL_DIR}/{machine_type}_model.pkl'\n",
    "    pred_out_path = f'{PRED_DIR}/{machine_type}_pred.csv'\n",
    "    score_out_path = f'{SCORE_DIR}/{machine_type}_pred.csv'\n",
    "    # save\n",
    "    pd.to_pickle(output_dict, feature_out_path)\n",
    "    torch.save(model.state_dict(), model_out_path)\n",
    "    pred_df.to_csv(pred_out_path)\n",
    "    score_df.to_csv(score_out_path)\n",
    "    logger.info(f'SAVE SUCCESS : {model_out_path}')\n",
    "    \n",
    "    com.toc()"
   ]
  },
  {
   "cell_type": "code",
   "execution_count": 13,
   "metadata": {},
   "outputs": [],
   "source": [
    "#run(machine_types[0], dev_paths)"
   ]
  },
  {
   "cell_type": "code",
   "execution_count": 14,
   "metadata": {
    "code_folding": [],
    "scrolled": true
   },
   "outputs": [
    {
     "name": "stderr",
     "output_type": "stream",
     "text": [
      "2021-11-01 08:32:26,603 - 00_train.py - INFO - TARGET MACHINE_TYPE: pump\n",
      "2021-11-01 08:32:26,603 - 00_train.py - INFO - MAKE DATA_LOADER\n",
      "2021-11-01 08:32:26,609 - 00_train.py - INFO - TRAINING\n"
     ]
    },
    {
     "name": "stdout",
     "output_type": "stream",
     "text": [
      "use: cuda:0\n"
     ]
    },
    {
     "name": "stderr",
     "output_type": "stream",
     "text": [
      "100%|██████████| 48/48 [00:46<00:00,  1.03it/s]\n",
      "100%|██████████| 600/600 [00:59<00:00, 10.14it/s]\n",
      "100%|██████████| 600/600 [00:58<00:00, 10.18it/s]\n",
      "2021-11-01 08:35:14,919 - pytorch_modeler.py - INFO - epoch:1/100, tr_loss:5.474815, src_loss:0.000000, src_mean_auc:0.467100, tgt_loss:0.000000, tgt_mean_auc:0.518633, mean_auc:0.492867,\n"
     ]
    },
    {
     "data": {
      "text/html": [
       "<div>\n",
       "<style scoped>\n",
       "    .dataframe tbody tr th:only-of-type {\n",
       "        vertical-align: middle;\n",
       "    }\n",
       "\n",
       "    .dataframe tbody tr th {\n",
       "        vertical-align: top;\n",
       "    }\n",
       "\n",
       "    .dataframe thead th {\n",
       "        text-align: right;\n",
       "    }\n",
       "</style>\n",
       "<table border=\"1\" class=\"dataframe\">\n",
       "  <thead>\n",
       "    <tr style=\"text-align: right;\">\n",
       "      <th></th>\n",
       "      <th>AUC</th>\n",
       "      <th>pAUC</th>\n",
       "    </tr>\n",
       "  </thead>\n",
       "  <tbody>\n",
       "    <tr>\n",
       "      <th>Source_0</th>\n",
       "      <td>0.437300</td>\n",
       "      <td>0.488421</td>\n",
       "    </tr>\n",
       "    <tr>\n",
       "      <th>Source_1</th>\n",
       "      <td>0.475200</td>\n",
       "      <td>0.500000</td>\n",
       "    </tr>\n",
       "    <tr>\n",
       "      <th>Source_2</th>\n",
       "      <td>0.488800</td>\n",
       "      <td>0.497368</td>\n",
       "    </tr>\n",
       "    <tr>\n",
       "      <th>Target_0</th>\n",
       "      <td>0.475000</td>\n",
       "      <td>0.507368</td>\n",
       "    </tr>\n",
       "    <tr>\n",
       "      <th>Target_1</th>\n",
       "      <td>0.536100</td>\n",
       "      <td>0.492105</td>\n",
       "    </tr>\n",
       "    <tr>\n",
       "      <th>Target_2</th>\n",
       "      <td>0.544800</td>\n",
       "      <td>0.502105</td>\n",
       "    </tr>\n",
       "    <tr>\n",
       "      <th>mean</th>\n",
       "      <td>0.492867</td>\n",
       "      <td>0.497895</td>\n",
       "    </tr>\n",
       "    <tr>\n",
       "      <th>h_mean</th>\n",
       "      <td>0.490073</td>\n",
       "      <td>0.497816</td>\n",
       "    </tr>\n",
       "  </tbody>\n",
       "</table>\n",
       "</div>"
      ],
      "text/plain": [
       "               AUC      pAUC\n",
       "Source_0  0.437300  0.488421\n",
       "Source_1  0.475200  0.500000\n",
       "Source_2  0.488800  0.497368\n",
       "Target_0  0.475000  0.507368\n",
       "Target_1  0.536100  0.492105\n",
       "Target_2  0.544800  0.502105\n",
       "mean      0.492867  0.497895\n",
       "h_mean    0.490073  0.497816"
      ]
     },
     "metadata": {},
     "output_type": "display_data"
    },
    {
     "name": "stderr",
     "output_type": "stream",
     "text": [
      "  0%|          | 0/48 [00:00<?, ?it/s]/opt/conda/lib/python3.7/site-packages/torch/optim/optimizer.py:208: UserWarning: The .grad attribute of a Tensor that is not a leaf Tensor is being accessed. Its .grad attribute won't be populated during autograd.backward(). If you indeed want the gradient for a non-leaf Tensor, use .retain_grad() on the non-leaf Tensor. If you access the non-leaf Tensor by mistake, make sure you access the leaf Tensor instead. See github.com/pytorch/pytorch/pull/30531 for more information.\n",
      "  if p.grad is not None:\n",
      "/opt/conda/lib/python3.7/site-packages/torch/optim/sgd.py:100: UserWarning: The .grad attribute of a Tensor that is not a leaf Tensor is being accessed. Its .grad attribute won't be populated during autograd.backward(). If you indeed want the gradient for a non-leaf Tensor, use .retain_grad() on the non-leaf Tensor. If you access the non-leaf Tensor by mistake, make sure you access the leaf Tensor instead. See github.com/pytorch/pytorch/pull/30531 for more information.\n",
      "  if p.grad is not None:\n",
      "100%|██████████| 48/48 [00:47<00:00,  1.02it/s]\n",
      "2021-11-01 08:36:02,616 - pytorch_modeler.py - INFO - epoch:2/100, tr_loss:5.472427, src_loss:0.000000, src_mean_auc:0.467100, tgt_loss:0.000000, tgt_mean_auc:0.518633, mean_auc:0.492867,\n"
     ]
    },
    {
     "data": {
      "text/html": [
       "<div>\n",
       "<style scoped>\n",
       "    .dataframe tbody tr th:only-of-type {\n",
       "        vertical-align: middle;\n",
       "    }\n",
       "\n",
       "    .dataframe tbody tr th {\n",
       "        vertical-align: top;\n",
       "    }\n",
       "\n",
       "    .dataframe thead th {\n",
       "        text-align: right;\n",
       "    }\n",
       "</style>\n",
       "<table border=\"1\" class=\"dataframe\">\n",
       "  <thead>\n",
       "    <tr style=\"text-align: right;\">\n",
       "      <th></th>\n",
       "      <th>AUC</th>\n",
       "      <th>pAUC</th>\n",
       "    </tr>\n",
       "  </thead>\n",
       "  <tbody>\n",
       "    <tr>\n",
       "      <th>Source_0</th>\n",
       "      <td>0.437300</td>\n",
       "      <td>0.488421</td>\n",
       "    </tr>\n",
       "    <tr>\n",
       "      <th>Source_1</th>\n",
       "      <td>0.475200</td>\n",
       "      <td>0.500000</td>\n",
       "    </tr>\n",
       "    <tr>\n",
       "      <th>Source_2</th>\n",
       "      <td>0.488800</td>\n",
       "      <td>0.497368</td>\n",
       "    </tr>\n",
       "    <tr>\n",
       "      <th>Target_0</th>\n",
       "      <td>0.475000</td>\n",
       "      <td>0.507368</td>\n",
       "    </tr>\n",
       "    <tr>\n",
       "      <th>Target_1</th>\n",
       "      <td>0.536100</td>\n",
       "      <td>0.492105</td>\n",
       "    </tr>\n",
       "    <tr>\n",
       "      <th>Target_2</th>\n",
       "      <td>0.544800</td>\n",
       "      <td>0.502105</td>\n",
       "    </tr>\n",
       "    <tr>\n",
       "      <th>mean</th>\n",
       "      <td>0.492867</td>\n",
       "      <td>0.497895</td>\n",
       "    </tr>\n",
       "    <tr>\n",
       "      <th>h_mean</th>\n",
       "      <td>0.490073</td>\n",
       "      <td>0.497816</td>\n",
       "    </tr>\n",
       "  </tbody>\n",
       "</table>\n",
       "</div>"
      ],
      "text/plain": [
       "               AUC      pAUC\n",
       "Source_0  0.437300  0.488421\n",
       "Source_1  0.475200  0.500000\n",
       "Source_2  0.488800  0.497368\n",
       "Target_0  0.475000  0.507368\n",
       "Target_1  0.536100  0.492105\n",
       "Target_2  0.544800  0.502105\n",
       "mean      0.492867  0.497895\n",
       "h_mean    0.490073  0.497816"
      ]
     },
     "metadata": {},
     "output_type": "display_data"
    },
    {
     "name": "stderr",
     "output_type": "stream",
     "text": [
      "  0%|          | 0/48 [00:00<?, ?it/s]/opt/conda/lib/python3.7/site-packages/torch/optim/optimizer.py:208: UserWarning: The .grad attribute of a Tensor that is not a leaf Tensor is being accessed. Its .grad attribute won't be populated during autograd.backward(). If you indeed want the gradient for a non-leaf Tensor, use .retain_grad() on the non-leaf Tensor. If you access the non-leaf Tensor by mistake, make sure you access the leaf Tensor instead. See github.com/pytorch/pytorch/pull/30531 for more information.\n",
      "  if p.grad is not None:\n",
      "/opt/conda/lib/python3.7/site-packages/torch/optim/sgd.py:100: UserWarning: The .grad attribute of a Tensor that is not a leaf Tensor is being accessed. Its .grad attribute won't be populated during autograd.backward(). If you indeed want the gradient for a non-leaf Tensor, use .retain_grad() on the non-leaf Tensor. If you access the non-leaf Tensor by mistake, make sure you access the leaf Tensor instead. See github.com/pytorch/pytorch/pull/30531 for more information.\n",
      "  if p.grad is not None:\n",
      "100%|██████████| 48/48 [00:46<00:00,  1.03it/s]\n",
      "2021-11-01 08:36:49,866 - pytorch_modeler.py - INFO - epoch:3/100, tr_loss:5.483187, src_loss:0.000000, src_mean_auc:0.467100, tgt_loss:0.000000, tgt_mean_auc:0.518633, mean_auc:0.492867,\n"
     ]
    },
    {
     "data": {
      "text/html": [
       "<div>\n",
       "<style scoped>\n",
       "    .dataframe tbody tr th:only-of-type {\n",
       "        vertical-align: middle;\n",
       "    }\n",
       "\n",
       "    .dataframe tbody tr th {\n",
       "        vertical-align: top;\n",
       "    }\n",
       "\n",
       "    .dataframe thead th {\n",
       "        text-align: right;\n",
       "    }\n",
       "</style>\n",
       "<table border=\"1\" class=\"dataframe\">\n",
       "  <thead>\n",
       "    <tr style=\"text-align: right;\">\n",
       "      <th></th>\n",
       "      <th>AUC</th>\n",
       "      <th>pAUC</th>\n",
       "    </tr>\n",
       "  </thead>\n",
       "  <tbody>\n",
       "    <tr>\n",
       "      <th>Source_0</th>\n",
       "      <td>0.437300</td>\n",
       "      <td>0.488421</td>\n",
       "    </tr>\n",
       "    <tr>\n",
       "      <th>Source_1</th>\n",
       "      <td>0.475200</td>\n",
       "      <td>0.500000</td>\n",
       "    </tr>\n",
       "    <tr>\n",
       "      <th>Source_2</th>\n",
       "      <td>0.488800</td>\n",
       "      <td>0.497368</td>\n",
       "    </tr>\n",
       "    <tr>\n",
       "      <th>Target_0</th>\n",
       "      <td>0.475000</td>\n",
       "      <td>0.507368</td>\n",
       "    </tr>\n",
       "    <tr>\n",
       "      <th>Target_1</th>\n",
       "      <td>0.536100</td>\n",
       "      <td>0.492105</td>\n",
       "    </tr>\n",
       "    <tr>\n",
       "      <th>Target_2</th>\n",
       "      <td>0.544800</td>\n",
       "      <td>0.502105</td>\n",
       "    </tr>\n",
       "    <tr>\n",
       "      <th>mean</th>\n",
       "      <td>0.492867</td>\n",
       "      <td>0.497895</td>\n",
       "    </tr>\n",
       "    <tr>\n",
       "      <th>h_mean</th>\n",
       "      <td>0.490073</td>\n",
       "      <td>0.497816</td>\n",
       "    </tr>\n",
       "  </tbody>\n",
       "</table>\n",
       "</div>"
      ],
      "text/plain": [
       "               AUC      pAUC\n",
       "Source_0  0.437300  0.488421\n",
       "Source_1  0.475200  0.500000\n",
       "Source_2  0.488800  0.497368\n",
       "Target_0  0.475000  0.507368\n",
       "Target_1  0.536100  0.492105\n",
       "Target_2  0.544800  0.502105\n",
       "mean      0.492867  0.497895\n",
       "h_mean    0.490073  0.497816"
      ]
     },
     "metadata": {},
     "output_type": "display_data"
    },
    {
     "name": "stderr",
     "output_type": "stream",
     "text": [
      "  0%|          | 0/48 [00:00<?, ?it/s]/opt/conda/lib/python3.7/site-packages/torch/optim/optimizer.py:208: UserWarning: The .grad attribute of a Tensor that is not a leaf Tensor is being accessed. Its .grad attribute won't be populated during autograd.backward(). If you indeed want the gradient for a non-leaf Tensor, use .retain_grad() on the non-leaf Tensor. If you access the non-leaf Tensor by mistake, make sure you access the leaf Tensor instead. See github.com/pytorch/pytorch/pull/30531 for more information.\n",
      "  if p.grad is not None:\n",
      "/opt/conda/lib/python3.7/site-packages/torch/optim/sgd.py:100: UserWarning: The .grad attribute of a Tensor that is not a leaf Tensor is being accessed. Its .grad attribute won't be populated during autograd.backward(). If you indeed want the gradient for a non-leaf Tensor, use .retain_grad() on the non-leaf Tensor. If you access the non-leaf Tensor by mistake, make sure you access the leaf Tensor instead. See github.com/pytorch/pytorch/pull/30531 for more information.\n",
      "  if p.grad is not None:\n",
      "100%|██████████| 48/48 [00:47<00:00,  1.01it/s]\n",
      "2021-11-01 08:37:37,829 - pytorch_modeler.py - INFO - epoch:4/100, tr_loss:5.474208, src_loss:0.000000, src_mean_auc:0.467100, tgt_loss:0.000000, tgt_mean_auc:0.518633, mean_auc:0.492867,\n"
     ]
    },
    {
     "data": {
      "text/html": [
       "<div>\n",
       "<style scoped>\n",
       "    .dataframe tbody tr th:only-of-type {\n",
       "        vertical-align: middle;\n",
       "    }\n",
       "\n",
       "    .dataframe tbody tr th {\n",
       "        vertical-align: top;\n",
       "    }\n",
       "\n",
       "    .dataframe thead th {\n",
       "        text-align: right;\n",
       "    }\n",
       "</style>\n",
       "<table border=\"1\" class=\"dataframe\">\n",
       "  <thead>\n",
       "    <tr style=\"text-align: right;\">\n",
       "      <th></th>\n",
       "      <th>AUC</th>\n",
       "      <th>pAUC</th>\n",
       "    </tr>\n",
       "  </thead>\n",
       "  <tbody>\n",
       "    <tr>\n",
       "      <th>Source_0</th>\n",
       "      <td>0.437300</td>\n",
       "      <td>0.488421</td>\n",
       "    </tr>\n",
       "    <tr>\n",
       "      <th>Source_1</th>\n",
       "      <td>0.475200</td>\n",
       "      <td>0.500000</td>\n",
       "    </tr>\n",
       "    <tr>\n",
       "      <th>Source_2</th>\n",
       "      <td>0.488800</td>\n",
       "      <td>0.497368</td>\n",
       "    </tr>\n",
       "    <tr>\n",
       "      <th>Target_0</th>\n",
       "      <td>0.475000</td>\n",
       "      <td>0.507368</td>\n",
       "    </tr>\n",
       "    <tr>\n",
       "      <th>Target_1</th>\n",
       "      <td>0.536100</td>\n",
       "      <td>0.492105</td>\n",
       "    </tr>\n",
       "    <tr>\n",
       "      <th>Target_2</th>\n",
       "      <td>0.544800</td>\n",
       "      <td>0.502105</td>\n",
       "    </tr>\n",
       "    <tr>\n",
       "      <th>mean</th>\n",
       "      <td>0.492867</td>\n",
       "      <td>0.497895</td>\n",
       "    </tr>\n",
       "    <tr>\n",
       "      <th>h_mean</th>\n",
       "      <td>0.490073</td>\n",
       "      <td>0.497816</td>\n",
       "    </tr>\n",
       "  </tbody>\n",
       "</table>\n",
       "</div>"
      ],
      "text/plain": [
       "               AUC      pAUC\n",
       "Source_0  0.437300  0.488421\n",
       "Source_1  0.475200  0.500000\n",
       "Source_2  0.488800  0.497368\n",
       "Target_0  0.475000  0.507368\n",
       "Target_1  0.536100  0.492105\n",
       "Target_2  0.544800  0.502105\n",
       "mean      0.492867  0.497895\n",
       "h_mean    0.490073  0.497816"
      ]
     },
     "metadata": {},
     "output_type": "display_data"
    },
    {
     "name": "stderr",
     "output_type": "stream",
     "text": [
      "  0%|          | 0/48 [00:00<?, ?it/s]/opt/conda/lib/python3.7/site-packages/torch/optim/optimizer.py:208: UserWarning: The .grad attribute of a Tensor that is not a leaf Tensor is being accessed. Its .grad attribute won't be populated during autograd.backward(). If you indeed want the gradient for a non-leaf Tensor, use .retain_grad() on the non-leaf Tensor. If you access the non-leaf Tensor by mistake, make sure you access the leaf Tensor instead. See github.com/pytorch/pytorch/pull/30531 for more information.\n",
      "  if p.grad is not None:\n",
      "/opt/conda/lib/python3.7/site-packages/torch/optim/sgd.py:100: UserWarning: The .grad attribute of a Tensor that is not a leaf Tensor is being accessed. Its .grad attribute won't be populated during autograd.backward(). If you indeed want the gradient for a non-leaf Tensor, use .retain_grad() on the non-leaf Tensor. If you access the non-leaf Tensor by mistake, make sure you access the leaf Tensor instead. See github.com/pytorch/pytorch/pull/30531 for more information.\n",
      "  if p.grad is not None:\n",
      "100%|██████████| 48/48 [00:46<00:00,  1.03it/s]\n",
      "2021-11-01 08:38:25,148 - pytorch_modeler.py - INFO - epoch:5/100, tr_loss:5.474271, src_loss:0.000000, src_mean_auc:0.467100, tgt_loss:0.000000, tgt_mean_auc:0.518633, mean_auc:0.492867,\n"
     ]
    },
    {
     "data": {
      "text/html": [
       "<div>\n",
       "<style scoped>\n",
       "    .dataframe tbody tr th:only-of-type {\n",
       "        vertical-align: middle;\n",
       "    }\n",
       "\n",
       "    .dataframe tbody tr th {\n",
       "        vertical-align: top;\n",
       "    }\n",
       "\n",
       "    .dataframe thead th {\n",
       "        text-align: right;\n",
       "    }\n",
       "</style>\n",
       "<table border=\"1\" class=\"dataframe\">\n",
       "  <thead>\n",
       "    <tr style=\"text-align: right;\">\n",
       "      <th></th>\n",
       "      <th>AUC</th>\n",
       "      <th>pAUC</th>\n",
       "    </tr>\n",
       "  </thead>\n",
       "  <tbody>\n",
       "    <tr>\n",
       "      <th>Source_0</th>\n",
       "      <td>0.437300</td>\n",
       "      <td>0.488421</td>\n",
       "    </tr>\n",
       "    <tr>\n",
       "      <th>Source_1</th>\n",
       "      <td>0.475200</td>\n",
       "      <td>0.500000</td>\n",
       "    </tr>\n",
       "    <tr>\n",
       "      <th>Source_2</th>\n",
       "      <td>0.488800</td>\n",
       "      <td>0.497368</td>\n",
       "    </tr>\n",
       "    <tr>\n",
       "      <th>Target_0</th>\n",
       "      <td>0.475000</td>\n",
       "      <td>0.507368</td>\n",
       "    </tr>\n",
       "    <tr>\n",
       "      <th>Target_1</th>\n",
       "      <td>0.536100</td>\n",
       "      <td>0.492105</td>\n",
       "    </tr>\n",
       "    <tr>\n",
       "      <th>Target_2</th>\n",
       "      <td>0.544800</td>\n",
       "      <td>0.502105</td>\n",
       "    </tr>\n",
       "    <tr>\n",
       "      <th>mean</th>\n",
       "      <td>0.492867</td>\n",
       "      <td>0.497895</td>\n",
       "    </tr>\n",
       "    <tr>\n",
       "      <th>h_mean</th>\n",
       "      <td>0.490073</td>\n",
       "      <td>0.497816</td>\n",
       "    </tr>\n",
       "  </tbody>\n",
       "</table>\n",
       "</div>"
      ],
      "text/plain": [
       "               AUC      pAUC\n",
       "Source_0  0.437300  0.488421\n",
       "Source_1  0.475200  0.500000\n",
       "Source_2  0.488800  0.497368\n",
       "Target_0  0.475000  0.507368\n",
       "Target_1  0.536100  0.492105\n",
       "Target_2  0.544800  0.502105\n",
       "mean      0.492867  0.497895\n",
       "h_mean    0.490073  0.497816"
      ]
     },
     "metadata": {},
     "output_type": "display_data"
    },
    {
     "name": "stderr",
     "output_type": "stream",
     "text": [
      "  0%|          | 0/48 [00:00<?, ?it/s]/opt/conda/lib/python3.7/site-packages/torch/optim/optimizer.py:208: UserWarning: The .grad attribute of a Tensor that is not a leaf Tensor is being accessed. Its .grad attribute won't be populated during autograd.backward(). If you indeed want the gradient for a non-leaf Tensor, use .retain_grad() on the non-leaf Tensor. If you access the non-leaf Tensor by mistake, make sure you access the leaf Tensor instead. See github.com/pytorch/pytorch/pull/30531 for more information.\n",
      "  if p.grad is not None:\n",
      "/opt/conda/lib/python3.7/site-packages/torch/optim/sgd.py:100: UserWarning: The .grad attribute of a Tensor that is not a leaf Tensor is being accessed. Its .grad attribute won't be populated during autograd.backward(). If you indeed want the gradient for a non-leaf Tensor, use .retain_grad() on the non-leaf Tensor. If you access the non-leaf Tensor by mistake, make sure you access the leaf Tensor instead. See github.com/pytorch/pytorch/pull/30531 for more information.\n",
      "  if p.grad is not None:\n",
      "100%|██████████| 48/48 [00:46<00:00,  1.03it/s]\n",
      "2021-11-01 08:39:12,456 - pytorch_modeler.py - INFO - epoch:6/100, tr_loss:5.469652, src_loss:0.000000, src_mean_auc:0.467100, tgt_loss:0.000000, tgt_mean_auc:0.518633, mean_auc:0.492867,\n"
     ]
    },
    {
     "data": {
      "text/html": [
       "<div>\n",
       "<style scoped>\n",
       "    .dataframe tbody tr th:only-of-type {\n",
       "        vertical-align: middle;\n",
       "    }\n",
       "\n",
       "    .dataframe tbody tr th {\n",
       "        vertical-align: top;\n",
       "    }\n",
       "\n",
       "    .dataframe thead th {\n",
       "        text-align: right;\n",
       "    }\n",
       "</style>\n",
       "<table border=\"1\" class=\"dataframe\">\n",
       "  <thead>\n",
       "    <tr style=\"text-align: right;\">\n",
       "      <th></th>\n",
       "      <th>AUC</th>\n",
       "      <th>pAUC</th>\n",
       "    </tr>\n",
       "  </thead>\n",
       "  <tbody>\n",
       "    <tr>\n",
       "      <th>Source_0</th>\n",
       "      <td>0.437300</td>\n",
       "      <td>0.488421</td>\n",
       "    </tr>\n",
       "    <tr>\n",
       "      <th>Source_1</th>\n",
       "      <td>0.475200</td>\n",
       "      <td>0.500000</td>\n",
       "    </tr>\n",
       "    <tr>\n",
       "      <th>Source_2</th>\n",
       "      <td>0.488800</td>\n",
       "      <td>0.497368</td>\n",
       "    </tr>\n",
       "    <tr>\n",
       "      <th>Target_0</th>\n",
       "      <td>0.475000</td>\n",
       "      <td>0.507368</td>\n",
       "    </tr>\n",
       "    <tr>\n",
       "      <th>Target_1</th>\n",
       "      <td>0.536100</td>\n",
       "      <td>0.492105</td>\n",
       "    </tr>\n",
       "    <tr>\n",
       "      <th>Target_2</th>\n",
       "      <td>0.544800</td>\n",
       "      <td>0.502105</td>\n",
       "    </tr>\n",
       "    <tr>\n",
       "      <th>mean</th>\n",
       "      <td>0.492867</td>\n",
       "      <td>0.497895</td>\n",
       "    </tr>\n",
       "    <tr>\n",
       "      <th>h_mean</th>\n",
       "      <td>0.490073</td>\n",
       "      <td>0.497816</td>\n",
       "    </tr>\n",
       "  </tbody>\n",
       "</table>\n",
       "</div>"
      ],
      "text/plain": [
       "               AUC      pAUC\n",
       "Source_0  0.437300  0.488421\n",
       "Source_1  0.475200  0.500000\n",
       "Source_2  0.488800  0.497368\n",
       "Target_0  0.475000  0.507368\n",
       "Target_1  0.536100  0.492105\n",
       "Target_2  0.544800  0.502105\n",
       "mean      0.492867  0.497895\n",
       "h_mean    0.490073  0.497816"
      ]
     },
     "metadata": {},
     "output_type": "display_data"
    },
    {
     "name": "stderr",
     "output_type": "stream",
     "text": [
      "  0%|          | 0/48 [00:00<?, ?it/s]/opt/conda/lib/python3.7/site-packages/torch/optim/optimizer.py:208: UserWarning: The .grad attribute of a Tensor that is not a leaf Tensor is being accessed. Its .grad attribute won't be populated during autograd.backward(). If you indeed want the gradient for a non-leaf Tensor, use .retain_grad() on the non-leaf Tensor. If you access the non-leaf Tensor by mistake, make sure you access the leaf Tensor instead. See github.com/pytorch/pytorch/pull/30531 for more information.\n",
      "  if p.grad is not None:\n",
      "/opt/conda/lib/python3.7/site-packages/torch/optim/sgd.py:100: UserWarning: The .grad attribute of a Tensor that is not a leaf Tensor is being accessed. Its .grad attribute won't be populated during autograd.backward(). If you indeed want the gradient for a non-leaf Tensor, use .retain_grad() on the non-leaf Tensor. If you access the non-leaf Tensor by mistake, make sure you access the leaf Tensor instead. See github.com/pytorch/pytorch/pull/30531 for more information.\n",
      "  if p.grad is not None:\n",
      "100%|██████████| 48/48 [00:47<00:00,  1.02it/s]\n",
      "2021-11-01 08:40:00,182 - pytorch_modeler.py - INFO - epoch:7/100, tr_loss:5.485978, src_loss:0.000000, src_mean_auc:0.467100, tgt_loss:0.000000, tgt_mean_auc:0.518633, mean_auc:0.492867,\n"
     ]
    },
    {
     "data": {
      "text/html": [
       "<div>\n",
       "<style scoped>\n",
       "    .dataframe tbody tr th:only-of-type {\n",
       "        vertical-align: middle;\n",
       "    }\n",
       "\n",
       "    .dataframe tbody tr th {\n",
       "        vertical-align: top;\n",
       "    }\n",
       "\n",
       "    .dataframe thead th {\n",
       "        text-align: right;\n",
       "    }\n",
       "</style>\n",
       "<table border=\"1\" class=\"dataframe\">\n",
       "  <thead>\n",
       "    <tr style=\"text-align: right;\">\n",
       "      <th></th>\n",
       "      <th>AUC</th>\n",
       "      <th>pAUC</th>\n",
       "    </tr>\n",
       "  </thead>\n",
       "  <tbody>\n",
       "    <tr>\n",
       "      <th>Source_0</th>\n",
       "      <td>0.437300</td>\n",
       "      <td>0.488421</td>\n",
       "    </tr>\n",
       "    <tr>\n",
       "      <th>Source_1</th>\n",
       "      <td>0.475200</td>\n",
       "      <td>0.500000</td>\n",
       "    </tr>\n",
       "    <tr>\n",
       "      <th>Source_2</th>\n",
       "      <td>0.488800</td>\n",
       "      <td>0.497368</td>\n",
       "    </tr>\n",
       "    <tr>\n",
       "      <th>Target_0</th>\n",
       "      <td>0.475000</td>\n",
       "      <td>0.507368</td>\n",
       "    </tr>\n",
       "    <tr>\n",
       "      <th>Target_1</th>\n",
       "      <td>0.536100</td>\n",
       "      <td>0.492105</td>\n",
       "    </tr>\n",
       "    <tr>\n",
       "      <th>Target_2</th>\n",
       "      <td>0.544800</td>\n",
       "      <td>0.502105</td>\n",
       "    </tr>\n",
       "    <tr>\n",
       "      <th>mean</th>\n",
       "      <td>0.492867</td>\n",
       "      <td>0.497895</td>\n",
       "    </tr>\n",
       "    <tr>\n",
       "      <th>h_mean</th>\n",
       "      <td>0.490073</td>\n",
       "      <td>0.497816</td>\n",
       "    </tr>\n",
       "  </tbody>\n",
       "</table>\n",
       "</div>"
      ],
      "text/plain": [
       "               AUC      pAUC\n",
       "Source_0  0.437300  0.488421\n",
       "Source_1  0.475200  0.500000\n",
       "Source_2  0.488800  0.497368\n",
       "Target_0  0.475000  0.507368\n",
       "Target_1  0.536100  0.492105\n",
       "Target_2  0.544800  0.502105\n",
       "mean      0.492867  0.497895\n",
       "h_mean    0.490073  0.497816"
      ]
     },
     "metadata": {},
     "output_type": "display_data"
    },
    {
     "name": "stderr",
     "output_type": "stream",
     "text": [
      "  0%|          | 0/48 [00:00<?, ?it/s]/opt/conda/lib/python3.7/site-packages/torch/optim/optimizer.py:208: UserWarning: The .grad attribute of a Tensor that is not a leaf Tensor is being accessed. Its .grad attribute won't be populated during autograd.backward(). If you indeed want the gradient for a non-leaf Tensor, use .retain_grad() on the non-leaf Tensor. If you access the non-leaf Tensor by mistake, make sure you access the leaf Tensor instead. See github.com/pytorch/pytorch/pull/30531 for more information.\n",
      "  if p.grad is not None:\n",
      "/opt/conda/lib/python3.7/site-packages/torch/optim/sgd.py:100: UserWarning: The .grad attribute of a Tensor that is not a leaf Tensor is being accessed. Its .grad attribute won't be populated during autograd.backward(). If you indeed want the gradient for a non-leaf Tensor, use .retain_grad() on the non-leaf Tensor. If you access the non-leaf Tensor by mistake, make sure you access the leaf Tensor instead. See github.com/pytorch/pytorch/pull/30531 for more information.\n",
      "  if p.grad is not None:\n",
      " 33%|███▎      | 16/48 [00:16<00:33,  1.05s/it]\n"
     ]
    },
    {
     "ename": "KeyboardInterrupt",
     "evalue": "",
     "output_type": "error",
     "traceback": [
      "\u001b[0;31m---------------------------------------------------------------------------\u001b[0m",
      "\u001b[0;31mKeyboardInterrupt\u001b[0m                         Traceback (most recent call last)",
      "\u001b[0;32m/tmp/ipykernel_19513/111031317.py\u001b[0m in \u001b[0;36m<module>\u001b[0;34m\u001b[0m\n\u001b[1;32m      1\u001b[0m \u001b[0;32mfor\u001b[0m \u001b[0mmachine_type\u001b[0m \u001b[0;32min\u001b[0m \u001b[0mmachine_types\u001b[0m\u001b[0;34m[\u001b[0m\u001b[0;36m0\u001b[0m\u001b[0;34m:\u001b[0m\u001b[0;34m]\u001b[0m\u001b[0;34m:\u001b[0m\u001b[0;34m\u001b[0m\u001b[0;34m\u001b[0m\u001b[0m\n\u001b[0;32m----> 2\u001b[0;31m     \u001b[0mrun\u001b[0m\u001b[0;34m(\u001b[0m\u001b[0mmachine_type\u001b[0m\u001b[0;34m,\u001b[0m \u001b[0mdev_paths\u001b[0m\u001b[0;34m)\u001b[0m\u001b[0;34m\u001b[0m\u001b[0;34m\u001b[0m\u001b[0m\n\u001b[0m",
      "\u001b[0;32m/tmp/ipykernel_19513/1979836704.py\u001b[0m in \u001b[0;36mrun\u001b[0;34m(machine_type, dev_paths)\u001b[0m\n\u001b[1;32m     18\u001b[0m     \u001b[0moptimizer\u001b[0m \u001b[0;34m=\u001b[0m \u001b[0mtorch\u001b[0m\u001b[0;34m.\u001b[0m\u001b[0moptim\u001b[0m\u001b[0;34m.\u001b[0m\u001b[0mSGD\u001b[0m\u001b[0;34m(\u001b[0m\u001b[0mmodel\u001b[0m\u001b[0;34m.\u001b[0m\u001b[0mparameters\u001b[0m\u001b[0;34m(\u001b[0m\u001b[0;34m)\u001b[0m\u001b[0;34m,\u001b[0m \u001b[0mlr\u001b[0m\u001b[0;34m=\u001b[0m\u001b[0;36m0.01\u001b[0m\u001b[0;34m,\u001b[0m \u001b[0mmomentum\u001b[0m\u001b[0;34m=\u001b[0m\u001b[0;36m0.9\u001b[0m\u001b[0;34m,\u001b[0m \u001b[0mweight_decay\u001b[0m\u001b[0;34m=\u001b[0m\u001b[0;36m0.0003\u001b[0m\u001b[0;34m)\u001b[0m\u001b[0;34m\u001b[0m\u001b[0;34m\u001b[0m\u001b[0m\n\u001b[1;32m     19\u001b[0m     \u001b[0mscheduler\u001b[0m \u001b[0;34m=\u001b[0m \u001b[0mtorch\u001b[0m\u001b[0;34m.\u001b[0m\u001b[0moptim\u001b[0m\u001b[0;34m.\u001b[0m\u001b[0mlr_scheduler\u001b[0m\u001b[0;34m.\u001b[0m\u001b[0mCosineAnnealingLR\u001b[0m\u001b[0;34m(\u001b[0m\u001b[0moptimizer\u001b[0m\u001b[0;34m,\u001b[0m \u001b[0mT_max\u001b[0m\u001b[0;34m=\u001b[0m\u001b[0;36m256\u001b[0m\u001b[0;34m,\u001b[0m \u001b[0meta_min\u001b[0m\u001b[0;34m=\u001b[0m\u001b[0;36m0\u001b[0m\u001b[0;34m,\u001b[0m \u001b[0mlast_epoch\u001b[0m\u001b[0;34m=\u001b[0m\u001b[0;34m-\u001b[0m \u001b[0;36m1\u001b[0m\u001b[0;34m,\u001b[0m \u001b[0mverbose\u001b[0m\u001b[0;34m=\u001b[0m\u001b[0;32mFalse\u001b[0m\u001b[0;34m)\u001b[0m\u001b[0;34m\u001b[0m\u001b[0;34m\u001b[0m\u001b[0m\n\u001b[0;32m---> 20\u001b[0;31m     \u001b[0moutput_dict\u001b[0m\u001b[0;34m,\u001b[0m \u001b[0mmodel\u001b[0m\u001b[0;34m,\u001b[0m \u001b[0mpred_df\u001b[0m\u001b[0;34m,\u001b[0m \u001b[0mscore_df\u001b[0m \u001b[0;34m=\u001b[0m \u001b[0mmodeler\u001b[0m\u001b[0;34m.\u001b[0m\u001b[0mrun_training\u001b[0m\u001b[0;34m(\u001b[0m\u001b[0mmodel\u001b[0m\u001b[0;34m,\u001b[0m \u001b[0mdataloaders_dict\u001b[0m\u001b[0;34m,\u001b[0m \u001b[0mwriter\u001b[0m\u001b[0;34m,\u001b[0m \u001b[0moptimizer\u001b[0m\u001b[0;34m,\u001b[0m \u001b[0mscheduler\u001b[0m\u001b[0;34m)\u001b[0m\u001b[0;34m\u001b[0m\u001b[0;34m\u001b[0m\u001b[0m\n\u001b[0m\u001b[1;32m     21\u001b[0m \u001b[0;34m\u001b[0m\u001b[0m\n\u001b[1;32m     22\u001b[0m     \u001b[0;31m# output\u001b[0m\u001b[0;34m\u001b[0m\u001b[0;34m\u001b[0m\u001b[0;34m\u001b[0m\u001b[0m\n",
      "\u001b[0;32m/media/code-disk/dcase2021_task2_UDA/SSL-GDE/exp3/pytorch_modeler.py\u001b[0m in \u001b[0;36mrun_training\u001b[0;34m(model, dataloaders_dict, writer, optimizer, scheduler)\u001b[0m\n\u001b[1;32m    284\u001b[0m             \u001b[0moptimizer\u001b[0m\u001b[0;34m=\u001b[0m\u001b[0moptimizer\u001b[0m\u001b[0;34m,\u001b[0m\u001b[0;34m\u001b[0m\u001b[0;34m\u001b[0m\u001b[0m\n\u001b[1;32m    285\u001b[0m             \u001b[0mepoch\u001b[0m\u001b[0;34m=\u001b[0m\u001b[0mepoch\u001b[0m\u001b[0;34m,\u001b[0m\u001b[0;34m\u001b[0m\u001b[0;34m\u001b[0m\u001b[0m\n\u001b[0;32m--> 286\u001b[0;31m             \u001b[0mdevice\u001b[0m\u001b[0;34m=\u001b[0m\u001b[0mdevice\u001b[0m\u001b[0;34m,\u001b[0m\u001b[0;34m\u001b[0m\u001b[0;34m\u001b[0m\u001b[0m\n\u001b[0m\u001b[1;32m    287\u001b[0m             )\n\u001b[1;32m    288\u001b[0m         \u001b[0;32mif\u001b[0m \u001b[0mepoch\u001b[0m \u001b[0;34m==\u001b[0m \u001b[0mn_epochs\u001b[0m\u001b[0;34m:\u001b[0m\u001b[0;34m\u001b[0m\u001b[0;34m\u001b[0m\u001b[0m\n",
      "\u001b[0;32m/media/code-disk/dcase2021_task2_UDA/SSL-GDE/exp3/pytorch_modeler.py\u001b[0m in \u001b[0;36mtrain_fn\u001b[0;34m(data_loader, model, optimizer, epoch, device)\u001b[0m\n\u001b[1;32m    178\u001b[0m         \u001b[0;31m#pred = F.softmax(pred, dim=1)\u001b[0m\u001b[0;34m\u001b[0m\u001b[0;34m\u001b[0m\u001b[0;34m\u001b[0m\u001b[0m\n\u001b[1;32m    179\u001b[0m         \u001b[0moptimizer\u001b[0m\u001b[0;34m.\u001b[0m\u001b[0mzero_grad\u001b[0m\u001b[0;34m(\u001b[0m\u001b[0;34m)\u001b[0m\u001b[0;34m\u001b[0m\u001b[0;34m\u001b[0m\u001b[0m\n\u001b[0;32m--> 180\u001b[0;31m         \u001b[0mloss\u001b[0m\u001b[0;34m.\u001b[0m\u001b[0mbackward\u001b[0m\u001b[0;34m(\u001b[0m\u001b[0;34m)\u001b[0m\u001b[0;34m\u001b[0m\u001b[0;34m\u001b[0m\u001b[0m\n\u001b[0m\u001b[1;32m    181\u001b[0m         \u001b[0moptimizer\u001b[0m\u001b[0;34m.\u001b[0m\u001b[0mstep\u001b[0m\u001b[0;34m(\u001b[0m\u001b[0;34m)\u001b[0m\u001b[0;34m\u001b[0m\u001b[0;34m\u001b[0m\u001b[0m\n\u001b[1;32m    182\u001b[0m \u001b[0;34m\u001b[0m\u001b[0m\n",
      "\u001b[0;32m/opt/conda/lib/python3.7/site-packages/torch/_tensor.py\u001b[0m in \u001b[0;36mbackward\u001b[0;34m(self, gradient, retain_graph, create_graph, inputs)\u001b[0m\n\u001b[1;32m    253\u001b[0m                 \u001b[0mcreate_graph\u001b[0m\u001b[0;34m=\u001b[0m\u001b[0mcreate_graph\u001b[0m\u001b[0;34m,\u001b[0m\u001b[0;34m\u001b[0m\u001b[0;34m\u001b[0m\u001b[0m\n\u001b[1;32m    254\u001b[0m                 inputs=inputs)\n\u001b[0;32m--> 255\u001b[0;31m         \u001b[0mtorch\u001b[0m\u001b[0;34m.\u001b[0m\u001b[0mautograd\u001b[0m\u001b[0;34m.\u001b[0m\u001b[0mbackward\u001b[0m\u001b[0;34m(\u001b[0m\u001b[0mself\u001b[0m\u001b[0;34m,\u001b[0m \u001b[0mgradient\u001b[0m\u001b[0;34m,\u001b[0m \u001b[0mretain_graph\u001b[0m\u001b[0;34m,\u001b[0m \u001b[0mcreate_graph\u001b[0m\u001b[0;34m,\u001b[0m \u001b[0minputs\u001b[0m\u001b[0;34m=\u001b[0m\u001b[0minputs\u001b[0m\u001b[0;34m)\u001b[0m\u001b[0;34m\u001b[0m\u001b[0;34m\u001b[0m\u001b[0m\n\u001b[0m\u001b[1;32m    256\u001b[0m \u001b[0;34m\u001b[0m\u001b[0m\n\u001b[1;32m    257\u001b[0m     \u001b[0;32mdef\u001b[0m \u001b[0mregister_hook\u001b[0m\u001b[0;34m(\u001b[0m\u001b[0mself\u001b[0m\u001b[0;34m,\u001b[0m \u001b[0mhook\u001b[0m\u001b[0;34m)\u001b[0m\u001b[0;34m:\u001b[0m\u001b[0;34m\u001b[0m\u001b[0;34m\u001b[0m\u001b[0m\n",
      "\u001b[0;32m/opt/conda/lib/python3.7/site-packages/torch/autograd/__init__.py\u001b[0m in \u001b[0;36mbackward\u001b[0;34m(tensors, grad_tensors, retain_graph, create_graph, grad_variables, inputs)\u001b[0m\n\u001b[1;32m    147\u001b[0m     Variable._execution_engine.run_backward(\n\u001b[1;32m    148\u001b[0m         \u001b[0mtensors\u001b[0m\u001b[0;34m,\u001b[0m \u001b[0mgrad_tensors_\u001b[0m\u001b[0;34m,\u001b[0m \u001b[0mretain_graph\u001b[0m\u001b[0;34m,\u001b[0m \u001b[0mcreate_graph\u001b[0m\u001b[0;34m,\u001b[0m \u001b[0minputs\u001b[0m\u001b[0;34m,\u001b[0m\u001b[0;34m\u001b[0m\u001b[0;34m\u001b[0m\u001b[0m\n\u001b[0;32m--> 149\u001b[0;31m         allow_unreachable=True, accumulate_grad=True)  # allow_unreachable flag\n\u001b[0m\u001b[1;32m    150\u001b[0m \u001b[0;34m\u001b[0m\u001b[0m\n\u001b[1;32m    151\u001b[0m \u001b[0;34m\u001b[0m\u001b[0m\n",
      "\u001b[0;31mKeyboardInterrupt\u001b[0m: "
     ]
    }
   ],
   "source": [
    "for machine_type in machine_types[0:]:\n",
    "    run(machine_type, dev_paths)"
   ]
  },
  {
   "cell_type": "code",
   "execution_count": null,
   "metadata": {},
   "outputs": [],
   "source": [
    "#run(machine_types[0], dev_paths)"
   ]
  },
  {
   "cell_type": "markdown",
   "metadata": {},
   "source": [
    "# run"
   ]
  },
  {
   "cell_type": "raw",
   "metadata": {},
   "source": [
    "# debug\n",
    "import dcase_util\n",
    "import pandas as pd\n",
    "\n",
    "sample = pd.read_pickle('/media/hiroki/HDD1TB/research/DCASE_experiments/domain_adaptation/exp2/extraction_features/ToyCar_features.pkl')\n",
    "sample = sample['val_src']\n",
    "\n",
    "src_pred_df = dcase_util.make_pred_df(sample['wav_name'], sample['section_label'], sample['domain_label'], sample['label'], sample['label'])\n",
    "\n",
    "df1 = dcase_util.calc_dcase2021_task2_score(src_pred_df, prefix='Source')\n",
    "df2 = dcase_util.calc_dcase2021_task2_score(src_pred_df, prefix='Target')\n",
    "score = pd.concat([df1, df2])\n",
    "mean = pd.DataFrame([score.mean()], index=['mean'])\n",
    "hmean = scipy.stats.hmean(score, axis=0)\n",
    "hmean = pd.DataFrame([hmean], columns=['AUC', 'pAUC'], index=['h_mean'])\n",
    "score = score.append([mean, hmean])"
   ]
  },
  {
   "cell_type": "code",
   "execution_count": null,
   "metadata": {},
   "outputs": [],
   "source": []
  }
 ],
 "metadata": {
  "kernelspec": {
   "display_name": "Python 3",
   "language": "python",
   "name": "python3"
  },
  "language_info": {
   "codemirror_mode": {
    "name": "ipython",
    "version": 3
   },
   "file_extension": ".py",
   "mimetype": "text/x-python",
   "name": "python",
   "nbconvert_exporter": "python",
   "pygments_lexer": "ipython3",
   "version": "3.7.10"
  },
  "toc": {
   "base_numbering": 1,
   "nav_menu": {},
   "number_sections": true,
   "sideBar": true,
   "skip_h1_title": false,
   "title_cell": "Table of Contents",
   "title_sidebar": "Contents",
   "toc_cell": false,
   "toc_position": {},
   "toc_section_display": true,
   "toc_window_display": false
  }
 },
 "nbformat": 4,
 "nbformat_minor": 4
}
