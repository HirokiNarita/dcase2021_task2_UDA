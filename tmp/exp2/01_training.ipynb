{
 "cells": [
  {
   "cell_type": "markdown",
   "metadata": {},
   "source": [
    "# train"
   ]
  },
  {
   "cell_type": "code",
   "execution_count": 1,
   "metadata": {},
   "outputs": [
    {
     "name": "stderr",
     "output_type": "stream",
     "text": [
      "<ipython-input-1-1499ab5789c7>:5: YAMLLoadWarning: calling yaml.load() without Loader=... is deprecated, as the default Loader is unsafe. Please read https://msg.pyyaml.org/load for full details.\n",
      "  config = yaml.load(f)\n"
     ]
    }
   ],
   "source": [
    "import yaml\n",
    "import os\n",
    "\n",
    "with open(\"./config.yaml\", 'rb') as f:\n",
    "    config = yaml.load(f)"
   ]
  },
  {
   "cell_type": "code",
   "execution_count": 2,
   "metadata": {},
   "outputs": [],
   "source": [
    "OUTPUT_ROOT = config['IO_OPTION']['OUTPUT_ROOT']\n",
    "os.makedirs(OUTPUT_ROOT, exist_ok=True)"
   ]
  },
  {
   "cell_type": "markdown",
   "metadata": {},
   "source": [
    "## load library"
   ]
  },
  {
   "cell_type": "code",
   "execution_count": 3,
   "metadata": {},
   "outputs": [],
   "source": [
    "# python default library\n",
    "import os\n",
    "import shutil\n",
    "import datetime\n",
    "import sys\n",
    "import pickle\n",
    "\n",
    "# general analysis tool-kit\n",
    "import numpy as np\n",
    "import pandas as pd\n",
    "#from sklearn.model_selection import train_test_split\n",
    "import matplotlib.pyplot as plt\n",
    "import seaborn as sns\n",
    "\n",
    "# pytorch\n",
    "import torch\n",
    "from torch import optim, nn\n",
    "from torch.utils.tensorboard import SummaryWriter\n",
    "import timm\n",
    "import torch_optimizer\n",
    "#from torchvision.models import wide_resnet50_2, resnet18\n",
    "#from torchsummary import summary\n",
    "\n",
    "# etc\n",
    "import yaml\n",
    "yaml.warnings({'YAMLLoadWarning': False})\n",
    "\n",
    "# original library\n",
    "import common as com\n",
    "import pytorch_modeler as modeler\n",
    "from pytorch_model import EfficientNet_b1 as Model\n",
    "#from pytorch_utils import filtered_load_model\n",
    "#import models\n",
    "\n",
    "import librosa\n",
    "import IPython\n",
    "import librosa.display"
   ]
  },
  {
   "cell_type": "markdown",
   "metadata": {},
   "source": [
    "## load config and set logger"
   ]
  },
  {
   "cell_type": "code",
   "execution_count": 4,
   "metadata": {},
   "outputs": [],
   "source": [
    "log_folder = config['IO_OPTION']['OUTPUT_ROOT']+'/{0}.log'.format(datetime.date.today())\n",
    "logger = com.setup_logger(log_folder, '00_train.py')"
   ]
  },
  {
   "cell_type": "markdown",
   "metadata": {},
   "source": [
    "## Setting"
   ]
  },
  {
   "cell_type": "code",
   "execution_count": 5,
   "metadata": {},
   "outputs": [],
   "source": [
    "# Setting seed\n",
    "modeler.set_seed(42)"
   ]
  },
  {
   "cell_type": "code",
   "execution_count": 6,
   "metadata": {},
   "outputs": [
    {
     "data": {
      "text/plain": [
       "'/media/hiroki/HDD1TB/research/DCASE_experiments/domain_adaptation/exp2/config.yaml'"
      ]
     },
     "execution_count": 6,
     "metadata": {},
     "output_type": "execute_result"
    }
   ],
   "source": [
    "############################################################################\n",
    "# Setting I/O path\n",
    "############################################################################\n",
    "# input dirs\n",
    "INPUT_ROOT = config['IO_OPTION']['INPUT_ROOT']\n",
    "dev_dir = INPUT_ROOT + \"/dev_data\"\n",
    "add_dev_dir = INPUT_ROOT + \"/add_dev_data\"\n",
    "# machine type\n",
    "machine_types = os.listdir(dev_dir)\n",
    "# output dirs\n",
    "OUTPUT_ROOT = config['IO_OPTION']['OUTPUT_ROOT']\n",
    "MODEL_DIR = config['IO_OPTION']['OUTPUT_ROOT'] + '/models'\n",
    "TB_DIR = config['IO_OPTION']['OUTPUT_ROOT'] + '/tb'\n",
    "OUT_FEATURE_DIR = OUTPUT_ROOT + '/extraction_features'\n",
    "#os.makedirs(OUTPUT_ROOT, exist_ok=True)\n",
    "os.makedirs(MODEL_DIR, exist_ok=True)\n",
    "os.makedirs(TB_DIR, exist_ok=True)\n",
    "os.makedirs(OUT_FEATURE_DIR, exist_ok=True)\n",
    "# copy config\n",
    "shutil.copy('./config.yaml', OUTPUT_ROOT)"
   ]
  },
  {
   "cell_type": "code",
   "execution_count": 7,
   "metadata": {},
   "outputs": [
    {
     "data": {
      "text/plain": [
       "True"
      ]
     },
     "execution_count": 7,
     "metadata": {},
     "output_type": "execute_result"
    }
   ],
   "source": [
    "torch.cuda.is_available()"
   ]
  },
  {
   "cell_type": "markdown",
   "metadata": {},
   "source": [
    "## make path list"
   ]
  },
  {
   "cell_type": "markdown",
   "metadata": {},
   "source": [
    "- __train_paths__ ([dict]): Each Machine Type\n",
    "    - __ToyCar__ ([dict]): Each dataset\n",
    "        - train ([list]) : paths\n",
    "        - valid_source ([list]) : paths\n",
    "        - valid_target ([list]) :paths\n",
    "    - __ToyTrain__ ([dict]): Each dataset\n",
    "        - train ([list]) : paths\n",
    "        - valid_source ([list]) : paths\n",
    "        - valid_target ([list]) : paths\n",
    "    - ..."
   ]
  },
  {
   "cell_type": "code",
   "execution_count": 8,
   "metadata": {},
   "outputs": [
    {
     "name": "stdout",
     "output_type": "stream",
     "text": [
      "Machine fan,dev_train_size : 3009, source_size : 3000, target_size : 9, adddev_train_size : 3009, source_size : 3000, target_size : 9\n",
      "==============================================================\n",
      "Machine gearbox,dev_train_size : 3026, source_size : 3017, target_size : 9, adddev_train_size : 3026, source_size : 3105, target_size : 9\n",
      "==============================================================\n",
      "Machine pump,dev_train_size : 3009, source_size : 3000, target_size : 9, adddev_train_size : 3009, source_size : 3000, target_size : 9\n",
      "==============================================================\n",
      "Machine slider,dev_train_size : 3009, source_size : 3000, target_size : 9, adddev_train_size : 3009, source_size : 3000, target_size : 9\n",
      "==============================================================\n",
      "Machine ToyCar,dev_train_size : 3009, source_size : 3000, target_size : 9, adddev_train_size : 3009, source_size : 3000, target_size : 9\n",
      "==============================================================\n",
      "Machine ToyTrain,dev_train_size : 3009, source_size : 3000, target_size : 9, adddev_train_size : 3009, source_size : 3000, target_size : 9\n",
      "==============================================================\n",
      "Machine valve,dev_train_size : 3009, source_size : 3000, target_size : 9, adddev_train_size : 3009, source_size : 3000, target_size : 9\n",
      "==============================================================\n"
     ]
    }
   ],
   "source": [
    "dev_paths = {}\n",
    "\n",
    "for machine_type in machine_types:\n",
    "    # dev train\n",
    "    dev_train_paths = [f\"{dev_dir}/{machine_type}/train/\" + file for file in os.listdir(f\"{dev_dir}/{machine_type}/train\")]\n",
    "    dev_train_paths = sorted(dev_train_paths)\n",
    "    \n",
    "    print(f'Machine {machine_type}', end=',')\n",
    "    print(f'dev_train_size : {len(dev_train_paths)}', end=', ')\n",
    "    dev_train_source_paths = [path for path in dev_train_paths if 'source' in path]\n",
    "    print(f'source_size : {len(dev_train_source_paths)}', end=', ')\n",
    "    dev_train_target_paths = [path for path in dev_train_paths if 'target' in path]\n",
    "    print(f'target_size : {len(dev_train_target_paths)}', end=', ')\n",
    "    # source mode\n",
    "    dev_train_paths = dev_train_source_paths + dev_train_target_paths\n",
    "    \n",
    "    # add_dev train\n",
    "    add_dev_paths = [f\"{add_dev_dir}/{machine_type}/train/\" + file for file in os.listdir(f\"{add_dev_dir}/{machine_type}/train\")]\n",
    "    add_dev_paths = sorted(add_dev_paths)\n",
    "    print(f'adddev_train_size : {len(dev_train_paths)}', end=', ')\n",
    "    add_dev_source_paths = [path for path in add_dev_paths if 'source' in path]\n",
    "    print(f'source_size : {len(add_dev_source_paths)}', end=', ')\n",
    "    add_dev_target_paths = [path for path in add_dev_paths if 'target' in path]\n",
    "    print(f'target_size : {len(add_dev_target_paths)}')\n",
    "    # source mode\n",
    "    add_dev_paths = add_dev_source_paths + add_dev_target_paths\n",
    "    print('==============================================================')\n",
    "    \n",
    "    # dev_source valid\n",
    "    dev_source_paths = [f\"{dev_dir}/{machine_type}/source_test/\" + file for file in os.listdir(f\"{dev_dir}/{machine_type}/source_test\")]\n",
    "    dev_source_paths = sorted(dev_source_paths)\n",
    "    \n",
    "    # dev_target valid\n",
    "    dev_target_paths = [f\"{dev_dir}/{machine_type}/target_test/\" + file for file in os.listdir(f\"{dev_dir}/{machine_type}/target_test\")]\n",
    "    dev_target_paths = sorted(dev_target_paths)\n",
    "    \n",
    "    # bundle\n",
    "    dev_paths[machine_type] = {}\n",
    "    dev_paths[machine_type]['train'] = dev_train_paths + add_dev_paths\n",
    "    dev_paths[machine_type]['valid_source'] = dev_source_paths\n",
    "    dev_paths[machine_type]['valid_target'] = dev_target_paths"
   ]
  },
  {
   "cell_type": "code",
   "execution_count": 9,
   "metadata": {},
   "outputs": [
    {
     "data": {
      "text/plain": [
       "['fan', 'gearbox', 'pump', 'slider', 'ToyCar', 'ToyTrain', 'valve']"
      ]
     },
     "execution_count": 9,
     "metadata": {},
     "output_type": "execute_result"
    }
   ],
   "source": [
    "machine_types"
   ]
  },
  {
   "cell_type": "code",
   "execution_count": 10,
   "metadata": {},
   "outputs": [],
   "source": [
    "#############################################################################\n",
    "# run\n",
    "#############################################################################\n",
    "def run(machine_type, dev_paths):\n",
    "    com.tic()\n",
    "    os.makedirs(TB_DIR+'/'+machine_type, exist_ok=True)\n",
    "    tb_log_dir = TB_DIR + '/' + machine_type\n",
    "    writer = SummaryWriter(log_dir = tb_log_dir)\n",
    "    \n",
    "    logger.info('TARGET MACHINE_TYPE: {0}'.format(machine_type))\n",
    "    logger.info('MAKE DATA_LOADER')\n",
    "    # dev_train_paths\n",
    "    dataloaders_dict = modeler.make_dataloader(dev_paths, machine_type)\n",
    "    # parameter setting\n",
    "    logger.info('TRAINING')\n",
    "    model = Model(n_out=6)\n",
    "    optimizer = torch.optim.Adam(model.parameters(),lr=1e-3)\n",
    "    output_dicts, model = modeler.run_training(model, dataloaders_dict, writer, optimizer)\n",
    "    \n",
    "    feature_out_path = f'{OUT_FEATURE_DIR}/{machine_type}_features.pkl'\n",
    "    model_out_path = f'{MODEL_DIR}/{machine_type}_model.pkl'\n",
    "    pd.to_pickle(output_dicts, feature_out_path)\n",
    "    torch.save(model.state_dict(), model_out_path)\n",
    "    logger.info(f'SAVE SUCCESS : {model_out_path}')\n",
    "    \n",
    "    com.toc()"
   ]
  },
  {
   "cell_type": "markdown",
   "metadata": {},
   "source": [
    "# run"
   ]
  },
  {
   "cell_type": "code",
   "execution_count": 11,
   "metadata": {
    "code_folding": [],
    "scrolled": true
   },
   "outputs": [
    {
     "name": "stderr",
     "output_type": "stream",
     "text": [
      "2021-09-28 11:27:06,774 - 00_train.py - INFO - TARGET MACHINE_TYPE: fan\n",
      "2021-09-28 11:27:06,775 - 00_train.py - INFO - MAKE DATA_LOADER\n",
      "2021-09-28 11:27:06,780 - 00_train.py - INFO - TRAINING\n"
     ]
    },
    {
     "name": "stdout",
     "output_type": "stream",
     "text": [
      "use: cuda:0\n"
     ]
    },
    {
     "name": "stderr",
     "output_type": "stream",
     "text": [
      "100%|██████████| 95/95 [01:57<00:00,  1.24s/it]\n",
      "100%|██████████| 10/10 [00:08<00:00,  1.15it/s]\n",
      "100%|██████████| 10/10 [00:08<00:00,  1.15it/s]\n",
      "2021-09-28 11:29:25,039 - pytorch_modeler.py - INFO - epoch:1/50, tr_loss:122.074832, src_loss:11.041931, src_acc:0.838333, tgt_loss:11.064384, tgt_acc:0.830000,\n",
      "100%|██████████| 95/95 [00:27<00:00,  3.42it/s]\n",
      "100%|██████████| 10/10 [00:01<00:00,  6.47it/s]\n",
      "100%|██████████| 10/10 [00:01<00:00,  6.74it/s]\n",
      "2021-09-28 11:29:55,894 - pytorch_modeler.py - INFO - epoch:2/50, tr_loss:96.332489, src_loss:10.981262, src_acc:0.841667, tgt_loss:11.520899, tgt_acc:0.791667,\n",
      "100%|██████████| 95/95 [00:27<00:00,  3.41it/s]\n",
      "100%|██████████| 10/10 [00:01<00:00,  5.57it/s]\n",
      "100%|██████████| 10/10 [00:01<00:00,  5.48it/s]\n",
      "2021-09-28 11:30:27,416 - pytorch_modeler.py - INFO - epoch:3/50, tr_loss:94.451760, src_loss:11.035066, src_acc:0.841667, tgt_loss:11.843797, tgt_acc:0.780000,\n",
      "100%|██████████| 95/95 [00:27<00:00,  3.45it/s]\n",
      "100%|██████████| 10/10 [00:01<00:00,  6.57it/s]\n",
      "100%|██████████| 10/10 [00:01<00:00,  6.36it/s]\n",
      "2021-09-28 11:30:58,066 - pytorch_modeler.py - INFO - epoch:4/50, tr_loss:93.193291, src_loss:10.657488, src_acc:0.865000, tgt_loss:11.100560, tgt_acc:0.826667,\n",
      "100%|██████████| 95/95 [00:27<00:00,  3.46it/s]\n",
      "100%|██████████| 10/10 [00:01<00:00,  6.35it/s]\n",
      "100%|██████████| 10/10 [00:01<00:00,  6.47it/s]\n",
      "2021-09-28 11:31:28,697 - pytorch_modeler.py - INFO - epoch:5/50, tr_loss:90.987142, src_loss:10.974978, src_acc:0.840000, tgt_loss:11.567338, tgt_acc:0.786667,\n",
      "100%|██████████| 95/95 [00:27<00:00,  3.45it/s]\n",
      "100%|██████████| 10/10 [00:01<00:00,  6.56it/s]\n",
      "100%|██████████| 10/10 [00:01<00:00,  6.02it/s]\n",
      "2021-09-28 11:31:59,431 - pytorch_modeler.py - INFO - epoch:6/50, tr_loss:91.655678, src_loss:11.493654, src_acc:0.791667, tgt_loss:13.074609, tgt_acc:0.660000,\n",
      "100%|██████████| 95/95 [00:30<00:00,  3.11it/s]\n",
      "100%|██████████| 10/10 [00:01<00:00,  5.77it/s]\n",
      "100%|██████████| 10/10 [00:01<00:00,  6.32it/s]\n",
      "2021-09-28 11:32:33,351 - pytorch_modeler.py - INFO - epoch:7/50, tr_loss:90.711562, src_loss:10.610009, src_acc:0.871667, tgt_loss:11.223142, tgt_acc:0.816667,\n",
      "100%|██████████| 95/95 [00:29<00:00,  3.23it/s]\n",
      "100%|██████████| 10/10 [00:01<00:00,  6.33it/s]\n",
      "100%|██████████| 10/10 [00:01<00:00,  6.31it/s]\n",
      "2021-09-28 11:33:05,965 - pytorch_modeler.py - INFO - epoch:8/50, tr_loss:91.702073, src_loss:10.889022, src_acc:0.851667, tgt_loss:12.062616, tgt_acc:0.748333,\n",
      "100%|██████████| 95/95 [00:29<00:00,  3.18it/s]\n",
      "100%|██████████| 10/10 [00:01<00:00,  6.07it/s]\n",
      "100%|██████████| 10/10 [00:01<00:00,  6.42it/s]\n",
      "2021-09-28 11:33:39,074 - pytorch_modeler.py - INFO - epoch:9/50, tr_loss:90.317295, src_loss:10.918655, src_acc:0.840000, tgt_loss:11.886285, tgt_acc:0.750000,\n",
      "100%|██████████| 95/95 [00:30<00:00,  3.11it/s]\n",
      "100%|██████████| 10/10 [00:01<00:00,  6.25it/s]\n",
      "100%|██████████| 10/10 [00:01<00:00,  6.09it/s]\n",
      "2021-09-28 11:34:12,920 - pytorch_modeler.py - INFO - epoch:10/50, tr_loss:88.703230, src_loss:10.684895, src_acc:0.861667, tgt_loss:11.609596, tgt_acc:0.778333,\n",
      "100%|██████████| 95/95 [00:30<00:00,  3.15it/s]\n",
      "100%|██████████| 10/10 [00:01<00:00,  6.03it/s]\n",
      "100%|██████████| 10/10 [00:01<00:00,  5.69it/s]\n",
      "2021-09-28 11:34:46,573 - pytorch_modeler.py - INFO - epoch:11/50, tr_loss:89.259759, src_loss:10.734773, src_acc:0.865000, tgt_loss:11.213729, tgt_acc:0.830000,\n",
      "100%|██████████| 95/95 [00:30<00:00,  3.13it/s]\n",
      "100%|██████████| 10/10 [00:01<00:00,  6.06it/s]\n",
      "100%|██████████| 10/10 [00:01<00:00,  5.73it/s]\n",
      "2021-09-28 11:35:20,430 - pytorch_modeler.py - INFO - epoch:12/50, tr_loss:89.364408, src_loss:11.016413, src_acc:0.828333, tgt_loss:11.606576, tgt_acc:0.773333,\n",
      "100%|██████████| 95/95 [00:30<00:00,  3.14it/s]\n",
      "100%|██████████| 10/10 [00:01<00:00,  5.69it/s]\n",
      "100%|██████████| 10/10 [00:01<00:00,  5.61it/s]\n",
      "2021-09-28 11:35:54,272 - pytorch_modeler.py - INFO - epoch:13/50, tr_loss:90.117934, src_loss:11.528969, src_acc:0.793333, tgt_loss:12.947913, tgt_acc:0.658333,\n",
      "100%|██████████| 95/95 [00:31<00:00,  2.97it/s]\n",
      "100%|██████████| 10/10 [00:02<00:00,  4.68it/s]\n",
      "100%|██████████| 10/10 [00:02<00:00,  4.64it/s]\n",
      "2021-09-28 11:36:30,615 - pytorch_modeler.py - INFO - epoch:14/50, tr_loss:89.268473, src_loss:10.760299, src_acc:0.860000, tgt_loss:12.314024, tgt_acc:0.710000,\n",
      "100%|██████████| 95/95 [00:31<00:00,  3.05it/s]\n",
      "100%|██████████| 10/10 [00:01<00:00,  5.30it/s]\n",
      "100%|██████████| 10/10 [00:01<00:00,  5.70it/s]\n",
      "2021-09-28 11:37:05,479 - pytorch_modeler.py - INFO - epoch:15/50, tr_loss:89.660693, src_loss:10.750674, src_acc:0.856667, tgt_loss:11.386703, tgt_acc:0.795000,\n",
      "100%|██████████| 95/95 [00:30<00:00,  3.09it/s]\n",
      "100%|██████████| 10/10 [00:01<00:00,  5.47it/s]\n",
      "100%|██████████| 10/10 [00:01<00:00,  5.96it/s]\n",
      "2021-09-28 11:37:39,825 - pytorch_modeler.py - INFO - epoch:16/50, tr_loss:88.545611, src_loss:11.230984, src_acc:0.806667, tgt_loss:12.168731, tgt_acc:0.718333,\n",
      "100%|██████████| 95/95 [00:29<00:00,  3.19it/s]\n",
      "100%|██████████| 10/10 [00:01<00:00,  5.57it/s]\n",
      "100%|██████████| 10/10 [00:01<00:00,  5.61it/s]\n",
      "2021-09-28 11:38:13,198 - pytorch_modeler.py - INFO - epoch:17/50, tr_loss:89.181378, src_loss:11.037936, src_acc:0.831667, tgt_loss:12.567759, tgt_acc:0.688333,\n",
      "100%|██████████| 95/95 [00:29<00:00,  3.18it/s]\n",
      "100%|██████████| 10/10 [00:01<00:00,  5.71it/s]\n",
      "100%|██████████| 10/10 [00:01<00:00,  5.81it/s]\n",
      "2021-09-28 11:38:46,613 - pytorch_modeler.py - INFO - epoch:18/50, tr_loss:88.376548, src_loss:11.028275, src_acc:0.835000, tgt_loss:12.102115, tgt_acc:0.720000,\n",
      "100%|██████████| 95/95 [00:32<00:00,  2.93it/s]\n",
      "100%|██████████| 10/10 [00:01<00:00,  5.83it/s]\n",
      "100%|██████████| 10/10 [00:01<00:00,  5.81it/s]\n",
      "2021-09-28 11:39:22,480 - pytorch_modeler.py - INFO - epoch:19/50, tr_loss:89.630343, src_loss:10.947037, src_acc:0.840000, tgt_loss:11.314296, tgt_acc:0.798333,\n",
      "100%|██████████| 95/95 [00:31<00:00,  3.03it/s]\n",
      "100%|██████████| 10/10 [00:01<00:00,  5.27it/s]\n",
      "100%|██████████| 10/10 [00:02<00:00,  4.90it/s]\n",
      "2021-09-28 11:39:57,872 - pytorch_modeler.py - INFO - epoch:20/50, tr_loss:89.012851, src_loss:10.822536, src_acc:0.856667, tgt_loss:11.330666, tgt_acc:0.796667,\n",
      "100%|██████████| 95/95 [00:31<00:00,  3.06it/s]\n",
      "100%|██████████| 10/10 [00:02<00:00,  4.81it/s]\n",
      "100%|██████████| 10/10 [00:01<00:00,  5.70it/s]\n",
      "2021-09-28 11:40:32,843 - pytorch_modeler.py - INFO - epoch:21/50, tr_loss:89.542517, src_loss:10.819060, src_acc:0.850000, tgt_loss:10.999841, tgt_acc:0.830000,\n",
      "100%|██████████| 95/95 [00:30<00:00,  3.07it/s]\n",
      "100%|██████████| 10/10 [00:01<00:00,  5.94it/s]\n",
      "100%|██████████| 10/10 [00:01<00:00,  5.79it/s]\n",
      "2021-09-28 11:41:07,298 - pytorch_modeler.py - INFO - epoch:22/50, tr_loss:88.662510, src_loss:10.945496, src_acc:0.843333, tgt_loss:11.476298, tgt_acc:0.783333,\n",
      "  9%|▉         | 9/95 [00:03<00:32,  2.68it/s]\n"
     ]
    },
    {
     "ename": "KeyboardInterrupt",
     "evalue": "",
     "output_type": "error",
     "traceback": [
      "\u001b[0;31m---------------------------------------------------------------------------\u001b[0m",
      "\u001b[0;31mKeyboardInterrupt\u001b[0m                         Traceback (most recent call last)",
      "\u001b[0;32m<ipython-input-11-2349e03e993b>\u001b[0m in \u001b[0;36m<module>\u001b[0;34m\u001b[0m\n\u001b[1;32m      1\u001b[0m \u001b[0;32mfor\u001b[0m \u001b[0mmachine_type\u001b[0m \u001b[0;32min\u001b[0m \u001b[0mmachine_types\u001b[0m\u001b[0;34m:\u001b[0m\u001b[0;34m\u001b[0m\u001b[0;34m\u001b[0m\u001b[0m\n\u001b[0;32m----> 2\u001b[0;31m     \u001b[0mrun\u001b[0m\u001b[0;34m(\u001b[0m\u001b[0mmachine_type\u001b[0m\u001b[0;34m,\u001b[0m \u001b[0mdev_paths\u001b[0m\u001b[0;34m)\u001b[0m\u001b[0;34m\u001b[0m\u001b[0;34m\u001b[0m\u001b[0m\n\u001b[0m",
      "\u001b[0;32m<ipython-input-10-a63c2a3a22aa>\u001b[0m in \u001b[0;36mrun\u001b[0;34m(machine_type, dev_paths)\u001b[0m\n\u001b[1;32m     16\u001b[0m     \u001b[0mmodel\u001b[0m \u001b[0;34m=\u001b[0m \u001b[0mModel\u001b[0m\u001b[0;34m(\u001b[0m\u001b[0mn_out\u001b[0m\u001b[0;34m=\u001b[0m\u001b[0;36m6\u001b[0m\u001b[0;34m)\u001b[0m\u001b[0;34m\u001b[0m\u001b[0;34m\u001b[0m\u001b[0m\n\u001b[1;32m     17\u001b[0m     \u001b[0moptimizer\u001b[0m \u001b[0;34m=\u001b[0m \u001b[0mtorch\u001b[0m\u001b[0;34m.\u001b[0m\u001b[0moptim\u001b[0m\u001b[0;34m.\u001b[0m\u001b[0mAdam\u001b[0m\u001b[0;34m(\u001b[0m\u001b[0mmodel\u001b[0m\u001b[0;34m.\u001b[0m\u001b[0mparameters\u001b[0m\u001b[0;34m(\u001b[0m\u001b[0;34m)\u001b[0m\u001b[0;34m,\u001b[0m\u001b[0mlr\u001b[0m\u001b[0;34m=\u001b[0m\u001b[0;36m1e-3\u001b[0m\u001b[0;34m)\u001b[0m\u001b[0;34m\u001b[0m\u001b[0;34m\u001b[0m\u001b[0m\n\u001b[0;32m---> 18\u001b[0;31m     \u001b[0moutput_dicts\u001b[0m\u001b[0;34m,\u001b[0m \u001b[0mmodel\u001b[0m \u001b[0;34m=\u001b[0m \u001b[0mmodeler\u001b[0m\u001b[0;34m.\u001b[0m\u001b[0mrun_training\u001b[0m\u001b[0;34m(\u001b[0m\u001b[0mmodel\u001b[0m\u001b[0;34m,\u001b[0m \u001b[0mdataloaders_dict\u001b[0m\u001b[0;34m,\u001b[0m \u001b[0mwriter\u001b[0m\u001b[0;34m,\u001b[0m \u001b[0moptimizer\u001b[0m\u001b[0;34m)\u001b[0m\u001b[0;34m\u001b[0m\u001b[0;34m\u001b[0m\u001b[0m\n\u001b[0m\u001b[1;32m     19\u001b[0m \u001b[0;34m\u001b[0m\u001b[0m\n\u001b[1;32m     20\u001b[0m     \u001b[0mfeature_out_path\u001b[0m \u001b[0;34m=\u001b[0m \u001b[0;34mf'{OUT_FEATURE_DIR}/{machine_type}_features.pkl'\u001b[0m\u001b[0;34m\u001b[0m\u001b[0;34m\u001b[0m\u001b[0m\n",
      "\u001b[0;32m~/research/DCASE_experiments/dcase2021/domain_adaptation/exp2/pytorch_modeler.py\u001b[0m in \u001b[0;36mrun_training\u001b[0;34m(model, dataloaders_dict, writer, optimizer)\u001b[0m\n\u001b[1;32m    282\u001b[0m     \u001b[0mn_epochs\u001b[0m \u001b[0;34m=\u001b[0m \u001b[0mconfig\u001b[0m\u001b[0;34m[\u001b[0m\u001b[0;34m'param'\u001b[0m\u001b[0;34m]\u001b[0m\u001b[0;34m[\u001b[0m\u001b[0;34m'num_epochs'\u001b[0m\u001b[0;34m]\u001b[0m\u001b[0;34m\u001b[0m\u001b[0;34m\u001b[0m\u001b[0m\n\u001b[1;32m    283\u001b[0m     \u001b[0;32mfor\u001b[0m \u001b[0mepoch\u001b[0m \u001b[0;32min\u001b[0m \u001b[0mrange\u001b[0m\u001b[0;34m(\u001b[0m\u001b[0mn_epochs\u001b[0m\u001b[0;34m)\u001b[0m\u001b[0;34m:\u001b[0m\u001b[0;34m\u001b[0m\u001b[0;34m\u001b[0m\u001b[0m\n\u001b[0;32m--> 284\u001b[0;31m         output_tr = train_fn(\n\u001b[0m\u001b[1;32m    285\u001b[0m             \u001b[0mdata_loader\u001b[0m\u001b[0;34m=\u001b[0m\u001b[0mdataloaders_dict\u001b[0m\u001b[0;34m[\u001b[0m\u001b[0;34m'train'\u001b[0m\u001b[0;34m]\u001b[0m\u001b[0;34m,\u001b[0m\u001b[0;34m\u001b[0m\u001b[0;34m\u001b[0m\u001b[0m\n\u001b[1;32m    286\u001b[0m             \u001b[0mmodel\u001b[0m\u001b[0;34m=\u001b[0m\u001b[0mmodel\u001b[0m\u001b[0;34m,\u001b[0m\u001b[0;34m\u001b[0m\u001b[0;34m\u001b[0m\u001b[0m\n",
      "\u001b[0;32m~/research/DCASE_experiments/dcase2021/domain_adaptation/exp2/pytorch_modeler.py\u001b[0m in \u001b[0;36mtrain_fn\u001b[0;34m(data_loader, model, optimizer, criterion, scaler, device)\u001b[0m\n\u001b[1;32m    207\u001b[0m         \u001b[0moptimizer\u001b[0m\u001b[0;34m.\u001b[0m\u001b[0mzero_grad\u001b[0m\u001b[0;34m(\u001b[0m\u001b[0;34m)\u001b[0m\u001b[0;34m\u001b[0m\u001b[0;34m\u001b[0m\u001b[0m\n\u001b[1;32m    208\u001b[0m         \u001b[0mloss\u001b[0m\u001b[0;34m.\u001b[0m\u001b[0mbackward\u001b[0m\u001b[0;34m(\u001b[0m\u001b[0;34m)\u001b[0m\u001b[0;34m\u001b[0m\u001b[0;34m\u001b[0m\u001b[0m\n\u001b[0;32m--> 209\u001b[0;31m         \u001b[0moptimizer\u001b[0m\u001b[0;34m.\u001b[0m\u001b[0mstep\u001b[0m\u001b[0;34m(\u001b[0m\u001b[0;34m)\u001b[0m\u001b[0;34m\u001b[0m\u001b[0;34m\u001b[0m\u001b[0m\n\u001b[0m\u001b[1;32m    210\u001b[0m \u001b[0;34m\u001b[0m\u001b[0m\n\u001b[1;32m    211\u001b[0m         \u001b[0;31m# append for output\u001b[0m\u001b[0;34m\u001b[0m\u001b[0;34m\u001b[0m\u001b[0;34m\u001b[0m\u001b[0m\n",
      "\u001b[0;32m~/anaconda3/envs/dcase2021_task2/lib/python3.8/site-packages/torch/optim/optimizer.py\u001b[0m in \u001b[0;36mwrapper\u001b[0;34m(*args, **kwargs)\u001b[0m\n\u001b[1;32m     87\u001b[0m                 \u001b[0mprofile_name\u001b[0m \u001b[0;34m=\u001b[0m \u001b[0;34m\"Optimizer.step#{}.step\"\u001b[0m\u001b[0;34m.\u001b[0m\u001b[0mformat\u001b[0m\u001b[0;34m(\u001b[0m\u001b[0mobj\u001b[0m\u001b[0;34m.\u001b[0m\u001b[0m__class__\u001b[0m\u001b[0;34m.\u001b[0m\u001b[0m__name__\u001b[0m\u001b[0;34m)\u001b[0m\u001b[0;34m\u001b[0m\u001b[0;34m\u001b[0m\u001b[0m\n\u001b[1;32m     88\u001b[0m                 \u001b[0;32mwith\u001b[0m \u001b[0mtorch\u001b[0m\u001b[0;34m.\u001b[0m\u001b[0mautograd\u001b[0m\u001b[0;34m.\u001b[0m\u001b[0mprofiler\u001b[0m\u001b[0;34m.\u001b[0m\u001b[0mrecord_function\u001b[0m\u001b[0;34m(\u001b[0m\u001b[0mprofile_name\u001b[0m\u001b[0;34m)\u001b[0m\u001b[0;34m:\u001b[0m\u001b[0;34m\u001b[0m\u001b[0;34m\u001b[0m\u001b[0m\n\u001b[0;32m---> 89\u001b[0;31m                     \u001b[0;32mreturn\u001b[0m \u001b[0mfunc\u001b[0m\u001b[0;34m(\u001b[0m\u001b[0;34m*\u001b[0m\u001b[0margs\u001b[0m\u001b[0;34m,\u001b[0m \u001b[0;34m**\u001b[0m\u001b[0mkwargs\u001b[0m\u001b[0;34m)\u001b[0m\u001b[0;34m\u001b[0m\u001b[0;34m\u001b[0m\u001b[0m\n\u001b[0m\u001b[1;32m     90\u001b[0m             \u001b[0;32mreturn\u001b[0m \u001b[0mwrapper\u001b[0m\u001b[0;34m\u001b[0m\u001b[0;34m\u001b[0m\u001b[0m\n\u001b[1;32m     91\u001b[0m \u001b[0;34m\u001b[0m\u001b[0m\n",
      "\u001b[0;32m~/anaconda3/envs/dcase2021_task2/lib/python3.8/site-packages/torch/autograd/grad_mode.py\u001b[0m in \u001b[0;36mdecorate_context\u001b[0;34m(*args, **kwargs)\u001b[0m\n\u001b[1;32m     25\u001b[0m         \u001b[0;32mdef\u001b[0m \u001b[0mdecorate_context\u001b[0m\u001b[0;34m(\u001b[0m\u001b[0;34m*\u001b[0m\u001b[0margs\u001b[0m\u001b[0;34m,\u001b[0m \u001b[0;34m**\u001b[0m\u001b[0mkwargs\u001b[0m\u001b[0;34m)\u001b[0m\u001b[0;34m:\u001b[0m\u001b[0;34m\u001b[0m\u001b[0;34m\u001b[0m\u001b[0m\n\u001b[1;32m     26\u001b[0m             \u001b[0;32mwith\u001b[0m \u001b[0mself\u001b[0m\u001b[0;34m.\u001b[0m\u001b[0m__class__\u001b[0m\u001b[0;34m(\u001b[0m\u001b[0;34m)\u001b[0m\u001b[0;34m:\u001b[0m\u001b[0;34m\u001b[0m\u001b[0;34m\u001b[0m\u001b[0m\n\u001b[0;32m---> 27\u001b[0;31m                 \u001b[0;32mreturn\u001b[0m \u001b[0mfunc\u001b[0m\u001b[0;34m(\u001b[0m\u001b[0;34m*\u001b[0m\u001b[0margs\u001b[0m\u001b[0;34m,\u001b[0m \u001b[0;34m**\u001b[0m\u001b[0mkwargs\u001b[0m\u001b[0;34m)\u001b[0m\u001b[0;34m\u001b[0m\u001b[0;34m\u001b[0m\u001b[0m\n\u001b[0m\u001b[1;32m     28\u001b[0m         \u001b[0;32mreturn\u001b[0m \u001b[0mcast\u001b[0m\u001b[0;34m(\u001b[0m\u001b[0mF\u001b[0m\u001b[0;34m,\u001b[0m \u001b[0mdecorate_context\u001b[0m\u001b[0;34m)\u001b[0m\u001b[0;34m\u001b[0m\u001b[0;34m\u001b[0m\u001b[0m\n\u001b[1;32m     29\u001b[0m \u001b[0;34m\u001b[0m\u001b[0m\n",
      "\u001b[0;32m~/anaconda3/envs/dcase2021_task2/lib/python3.8/site-packages/torch/optim/adam.py\u001b[0m in \u001b[0;36mstep\u001b[0;34m(self, closure)\u001b[0m\n\u001b[1;32m    106\u001b[0m \u001b[0;34m\u001b[0m\u001b[0m\n\u001b[1;32m    107\u001b[0m             \u001b[0mbeta1\u001b[0m\u001b[0;34m,\u001b[0m \u001b[0mbeta2\u001b[0m \u001b[0;34m=\u001b[0m \u001b[0mgroup\u001b[0m\u001b[0;34m[\u001b[0m\u001b[0;34m'betas'\u001b[0m\u001b[0;34m]\u001b[0m\u001b[0;34m\u001b[0m\u001b[0;34m\u001b[0m\u001b[0m\n\u001b[0;32m--> 108\u001b[0;31m             F.adam(params_with_grad,\n\u001b[0m\u001b[1;32m    109\u001b[0m                    \u001b[0mgrads\u001b[0m\u001b[0;34m,\u001b[0m\u001b[0;34m\u001b[0m\u001b[0;34m\u001b[0m\u001b[0m\n\u001b[1;32m    110\u001b[0m                    \u001b[0mexp_avgs\u001b[0m\u001b[0;34m,\u001b[0m\u001b[0;34m\u001b[0m\u001b[0;34m\u001b[0m\u001b[0m\n",
      "\u001b[0;32m~/anaconda3/envs/dcase2021_task2/lib/python3.8/site-packages/torch/optim/_functional.py\u001b[0m in \u001b[0;36madam\u001b[0;34m(params, grads, exp_avgs, exp_avg_sqs, max_exp_avg_sqs, state_steps, amsgrad, beta1, beta2, lr, weight_decay, eps)\u001b[0m\n\u001b[1;32m     82\u001b[0m \u001b[0;34m\u001b[0m\u001b[0m\n\u001b[1;32m     83\u001b[0m         \u001b[0;31m# Decay the first and second moment running average coefficient\u001b[0m\u001b[0;34m\u001b[0m\u001b[0;34m\u001b[0m\u001b[0;34m\u001b[0m\u001b[0m\n\u001b[0;32m---> 84\u001b[0;31m         \u001b[0mexp_avg\u001b[0m\u001b[0;34m.\u001b[0m\u001b[0mmul_\u001b[0m\u001b[0;34m(\u001b[0m\u001b[0mbeta1\u001b[0m\u001b[0;34m)\u001b[0m\u001b[0;34m.\u001b[0m\u001b[0madd_\u001b[0m\u001b[0;34m(\u001b[0m\u001b[0mgrad\u001b[0m\u001b[0;34m,\u001b[0m \u001b[0malpha\u001b[0m\u001b[0;34m=\u001b[0m\u001b[0;36m1\u001b[0m \u001b[0;34m-\u001b[0m \u001b[0mbeta1\u001b[0m\u001b[0;34m)\u001b[0m\u001b[0;34m\u001b[0m\u001b[0;34m\u001b[0m\u001b[0m\n\u001b[0m\u001b[1;32m     85\u001b[0m         \u001b[0mexp_avg_sq\u001b[0m\u001b[0;34m.\u001b[0m\u001b[0mmul_\u001b[0m\u001b[0;34m(\u001b[0m\u001b[0mbeta2\u001b[0m\u001b[0;34m)\u001b[0m\u001b[0;34m.\u001b[0m\u001b[0maddcmul_\u001b[0m\u001b[0;34m(\u001b[0m\u001b[0mgrad\u001b[0m\u001b[0;34m,\u001b[0m \u001b[0mgrad\u001b[0m\u001b[0;34m,\u001b[0m \u001b[0mvalue\u001b[0m\u001b[0;34m=\u001b[0m\u001b[0;36m1\u001b[0m \u001b[0;34m-\u001b[0m \u001b[0mbeta2\u001b[0m\u001b[0;34m)\u001b[0m\u001b[0;34m\u001b[0m\u001b[0;34m\u001b[0m\u001b[0m\n\u001b[1;32m     86\u001b[0m         \u001b[0;32mif\u001b[0m \u001b[0mamsgrad\u001b[0m\u001b[0;34m:\u001b[0m\u001b[0;34m\u001b[0m\u001b[0;34m\u001b[0m\u001b[0m\n",
      "\u001b[0;31mKeyboardInterrupt\u001b[0m: "
     ]
    }
   ],
   "source": [
    "for machine_type in machine_types:\n",
    "    run(machine_type, dev_paths)"
   ]
  },
  {
   "cell_type": "code",
   "execution_count": null,
   "metadata": {},
   "outputs": [],
   "source": [
    "feature_out_path = f'{OUT_FEATURE_DIR}/{machine_types[0]}_features.pkl'\n",
    "tst = pd.read_pickle(feature_out_path)"
   ]
  },
  {
   "cell_type": "code",
   "execution_count": null,
   "metadata": {},
   "outputs": [],
   "source": [
    "tst['val_tgt']"
   ]
  },
  {
   "cell_type": "code",
   "execution_count": null,
   "metadata": {},
   "outputs": [],
   "source": []
  },
  {
   "cell_type": "code",
   "execution_count": null,
   "metadata": {},
   "outputs": [],
   "source": [
    "plt.figure(figsize=(10,10))\n",
    "plt.imshow(tst['val_src']['feature'].astype(float), aspect='auto')"
   ]
  },
  {
   "cell_type": "code",
   "execution_count": null,
   "metadata": {},
   "outputs": [],
   "source": [
    "tst['val_src']['feature'].shape"
   ]
  },
  {
   "cell_type": "code",
   "execution_count": null,
   "metadata": {},
   "outputs": [],
   "source": [
    "plt.figure(figsize=(10,10))\n",
    "plt.imshow(tst['val_tgt']['feature'].astype(float), aspect='auto')"
   ]
  },
  {
   "cell_type": "code",
   "execution_count": null,
   "metadata": {},
   "outputs": [],
   "source": []
  }
 ],
 "metadata": {
  "kernelspec": {
   "display_name": "Environment (conda_dcase2021_task2)",
   "language": "python",
   "name": "conda_dcase2021_task2"
  },
  "language_info": {
   "codemirror_mode": {
    "name": "ipython",
    "version": 3
   },
   "file_extension": ".py",
   "mimetype": "text/x-python",
   "name": "python",
   "nbconvert_exporter": "python",
   "pygments_lexer": "ipython3",
   "version": "3.8.8"
  },
  "toc": {
   "base_numbering": 1,
   "nav_menu": {},
   "number_sections": true,
   "sideBar": true,
   "skip_h1_title": false,
   "title_cell": "Table of Contents",
   "title_sidebar": "Contents",
   "toc_cell": false,
   "toc_position": {},
   "toc_section_display": true,
   "toc_window_display": false
  }
 },
 "nbformat": 4,
 "nbformat_minor": 4
}
