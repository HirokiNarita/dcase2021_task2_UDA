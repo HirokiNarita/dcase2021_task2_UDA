{
 "cells": [
  {
   "cell_type": "markdown",
   "metadata": {},
   "source": [
    "# train"
   ]
  },
  {
   "cell_type": "code",
   "execution_count": 1,
   "metadata": {},
   "outputs": [
    {
     "name": "stderr",
     "output_type": "stream",
     "text": [
      "/opt/conda/lib/python3.7/site-packages/ipykernel_launcher.py:5: YAMLLoadWarning: calling yaml.load() without Loader=... is deprecated, as the default Loader is unsafe. Please read https://msg.pyyaml.org/load for full details.\n",
      "  \"\"\"\n"
     ]
    }
   ],
   "source": [
    "import yaml\n",
    "import os\n",
    "\n",
    "with open(\"./config.yaml\", 'rb') as f:\n",
    "    config = yaml.load(f)"
   ]
  },
  {
   "cell_type": "code",
   "execution_count": 2,
   "metadata": {},
   "outputs": [],
   "source": [
    "OUTPUT_ROOT = config['IO_OPTION']['OUTPUT_ROOT']\n",
    "os.makedirs(OUTPUT_ROOT, exist_ok=True)"
   ]
  },
  {
   "cell_type": "markdown",
   "metadata": {},
   "source": [
    "## load library"
   ]
  },
  {
   "cell_type": "code",
   "execution_count": 3,
   "metadata": {},
   "outputs": [],
   "source": [
    "# python default library\n",
    "import os\n",
    "import shutil\n",
    "import datetime\n",
    "import sys\n",
    "import pickle\n",
    "\n",
    "# general analysis tool-kit\n",
    "import numpy as np\n",
    "import pandas as pd\n",
    "#from sklearn.model_selection import train_test_split\n",
    "import matplotlib.pyplot as plt\n",
    "import seaborn as sns\n",
    "\n",
    "# pytorch\n",
    "import torch\n",
    "from torch import optim, nn\n",
    "from torch.utils.tensorboard import SummaryWriter\n",
    "import timm\n",
    "\n",
    "#from torchvision.models import wide_resnet50_2, resnet18\n",
    "#from torchsummary import summary\n",
    "\n",
    "# etc\n",
    "import yaml\n",
    "yaml.warnings({'YAMLLoadWarning': False})\n",
    "\n",
    "# original library\n",
    "import common as com\n",
    "import pytorch_modeler as modeler\n",
    "from pytorch_model import EfficientNet_b1 as Model\n",
    "#from pytorch_utils import filtered_load_model\n",
    "#import models\n",
    "\n",
    "import librosa\n",
    "import IPython\n",
    "import librosa.display"
   ]
  },
  {
   "cell_type": "code",
   "execution_count": 4,
   "metadata": {},
   "outputs": [],
   "source": [
    "# effnet1 = timm.create_model('efficientnet_b1', pretrained=True)\n",
    "# # M7:block[5], M8:block[6], M9:conv_head\n",
    "# effnet1"
   ]
  },
  {
   "cell_type": "markdown",
   "metadata": {},
   "source": [
    "## load config and set logger"
   ]
  },
  {
   "cell_type": "code",
   "execution_count": 5,
   "metadata": {},
   "outputs": [],
   "source": [
    "log_folder = config['IO_OPTION']['OUTPUT_ROOT']+'/{0}.log'.format(datetime.date.today())\n",
    "logger = com.setup_logger(log_folder, '00_train.py')"
   ]
  },
  {
   "cell_type": "markdown",
   "metadata": {},
   "source": [
    "## Setting"
   ]
  },
  {
   "cell_type": "code",
   "execution_count": 6,
   "metadata": {},
   "outputs": [],
   "source": [
    "# Setting seed\n",
    "modeler.set_seed(42)"
   ]
  },
  {
   "cell_type": "code",
   "execution_count": 7,
   "metadata": {},
   "outputs": [],
   "source": [
    "############################################################################\n",
    "# Setting I/O path\n",
    "############################################################################\n",
    "# input dirs\n",
    "INPUT_ROOT = config['IO_OPTION']['INPUT_ROOT']\n",
    "dev_dir = INPUT_ROOT + \"/dev_data\"\n",
    "add_dev_dir = INPUT_ROOT + \"/add_dev_data\"\n",
    "# machine type\n",
    "machine_types = os.listdir(dev_dir)\n",
    "# output dirs\n",
    "OUTPUT_ROOT = config['IO_OPTION']['OUTPUT_ROOT']\n",
    "MODEL_DIR = config['IO_OPTION']['OUTPUT_ROOT'] + '/models'\n",
    "\n",
    "TB_DIR = config['IO_OPTION']['OUTPUT_ROOT'] + '/tb'\n",
    "OUT_FEATURE_DIR = OUTPUT_ROOT + '/extraction_features'\n",
    "PRED_DIR = config['IO_OPTION']['OUTPUT_ROOT'] + '/pred'\n",
    "SCORE_DIR = config['IO_OPTION']['OUTPUT_ROOT'] + '/score'\n",
    "#os.makedirs(OUTPUT_ROOT, exist_ok=True)\n",
    "os.makedirs(MODEL_DIR, exist_ok=True)\n",
    "os.makedirs(TB_DIR, exist_ok=True)\n",
    "os.makedirs(OUT_FEATURE_DIR, exist_ok=True)\n",
    "os.makedirs(PRED_DIR, exist_ok=True)\n",
    "os.makedirs(SCORE_DIR, exist_ok=True)\n",
    "\n",
    "# copy config\n",
    "# shutil.copy('./config.yaml', OUTPUT_ROOT)"
   ]
  },
  {
   "cell_type": "code",
   "execution_count": 8,
   "metadata": {},
   "outputs": [
    {
     "data": {
      "text/plain": [
       "True"
      ]
     },
     "execution_count": 8,
     "metadata": {},
     "output_type": "execute_result"
    }
   ],
   "source": [
    "torch.cuda.is_available()"
   ]
  },
  {
   "cell_type": "markdown",
   "metadata": {},
   "source": [
    "## make path list"
   ]
  },
  {
   "cell_type": "markdown",
   "metadata": {},
   "source": [
    "- __train_paths__ ([dict]): Each Machine Type\n",
    "    - __ToyCar__ ([dict]): Each dataset\n",
    "        - train ([list]) : paths\n",
    "        - valid_source ([list]) : paths\n",
    "        - valid_target ([list]) :paths\n",
    "    - __ToyTrain__ ([dict]): Each dataset\n",
    "        - train ([list]) : paths\n",
    "        - valid_source ([list]) : paths\n",
    "        - valid_target ([list]) : paths\n",
    "    - ..."
   ]
  },
  {
   "cell_type": "code",
   "execution_count": 9,
   "metadata": {},
   "outputs": [],
   "source": [
    "percent = 0.1"
   ]
  },
  {
   "cell_type": "code",
   "execution_count": 10,
   "metadata": {},
   "outputs": [
    {
     "name": "stdout",
     "output_type": "stream",
     "text": [
      "Machine pump,dev_train_size : 3009, source_size : 3000, target_size : 9, adddev_train_size : 3009, source_size : 3000, target_size : 9\n",
      "==============================================================\n",
      "Machine gearbox,dev_train_size : 3026, source_size : 3017, target_size : 9, adddev_train_size : 3114, source_size : 3105, target_size : 9\n",
      "==============================================================\n",
      "Machine slider,dev_train_size : 3009, source_size : 3000, target_size : 9, adddev_train_size : 3009, source_size : 3000, target_size : 9\n",
      "==============================================================\n",
      "Machine ToyCar,dev_train_size : 3009, source_size : 3000, target_size : 9, adddev_train_size : 3009, source_size : 3000, target_size : 9\n",
      "==============================================================\n",
      "Machine valve,dev_train_size : 3009, source_size : 3000, target_size : 9, adddev_train_size : 3009, source_size : 3000, target_size : 9\n",
      "==============================================================\n",
      "Machine ToyTrain,dev_train_size : 3009, source_size : 3000, target_size : 9, adddev_train_size : 3009, source_size : 3000, target_size : 9\n",
      "==============================================================\n",
      "Machine fan,dev_train_size : 3009, source_size : 3000, target_size : 9, adddev_train_size : 3009, source_size : 3000, target_size : 9\n",
      "==============================================================\n"
     ]
    }
   ],
   "source": [
    "dev_paths = {}\n",
    "\n",
    "for machine_type in machine_types:\n",
    "    # dev train\n",
    "    dev_train_paths = [f\"{dev_dir}/{machine_type}/train/\" + file for file in os.listdir(f\"{dev_dir}/{machine_type}/train\")]\n",
    "    dev_train_paths = sorted(dev_train_paths)\n",
    "    \n",
    "    print(f'Machine {machine_type}', end=',')\n",
    "    print(f'dev_train_size : {len(dev_train_paths)}', end=', ')\n",
    "    dev_train_source_paths = [path for path in dev_train_paths if 'source' in path]\n",
    "    print(f'source_size : {len(dev_train_source_paths)}', end=', ')\n",
    "    dev_train_target_paths = [path for path in dev_train_paths if 'target' in path]\n",
    "    print(f'target_size : {len(dev_train_target_paths)}', end=', ')\n",
    "    # increse tgt\n",
    "    num_increse_tgt = int(len(dev_train_source_paths) * percent)\n",
    "    increse_dev_train_target_paths = dev_train_target_paths * num_increse_tgt\n",
    "    # concat\n",
    "    dev_train_paths = dev_train_source_paths# + increse_dev_train_target_paths\n",
    "    \n",
    "    # add_dev train\n",
    "    add_dev_paths = [f\"{add_dev_dir}/{machine_type}/train/\" + file for file in os.listdir(f\"{add_dev_dir}/{machine_type}/train\")]\n",
    "    add_dev_paths = sorted(add_dev_paths)\n",
    "    print(f'adddev_train_size : {len(add_dev_paths)}', end=', ')\n",
    "    add_dev_source_paths = [path for path in add_dev_paths if 'source' in path]\n",
    "    print(f'source_size : {len(add_dev_source_paths)}', end=', ')\n",
    "    add_dev_target_paths = [path for path in add_dev_paths if 'target' in path]\n",
    "    print(f'target_size : {len(add_dev_target_paths)}')\n",
    "    # increse tgt\n",
    "    num_increse_tgt = int(len(add_dev_source_paths) * percent)\n",
    "    increse_add_dev_target_paths = add_dev_target_paths * num_increse_tgt\n",
    "    # concat\n",
    "    add_dev_paths = add_dev_source_paths# + increse_add_dev_target_paths\n",
    "\n",
    "    print('==============================================================')\n",
    "    \n",
    "    # dev_source valid\n",
    "    dev_source_paths = [f\"{dev_dir}/{machine_type}/source_test/\" + file for file in os.listdir(f\"{dev_dir}/{machine_type}/source_test\")]\n",
    "    dev_source_paths = sorted(dev_source_paths)\n",
    "    \n",
    "    # dev_target valid\n",
    "    dev_target_paths = [f\"{dev_dir}/{machine_type}/target_test/\" + file for file in os.listdir(f\"{dev_dir}/{machine_type}/target_test\")]\n",
    "    dev_target_paths = sorted(dev_target_paths)\n",
    "    \n",
    "    # bundle\n",
    "    dev_paths[machine_type] = {}\n",
    "    dev_paths[machine_type]['train'] = dev_train_paths + add_dev_paths\n",
    "    dev_paths[machine_type]['valid_source'] = dev_source_paths\n",
    "    dev_paths[machine_type]['valid_target'] = dev_target_paths"
   ]
  },
  {
   "cell_type": "code",
   "execution_count": 11,
   "metadata": {},
   "outputs": [
    {
     "data": {
      "text/plain": [
       "['pump', 'gearbox', 'slider', 'ToyCar', 'valve', 'ToyTrain', 'fan']"
      ]
     },
     "execution_count": 11,
     "metadata": {},
     "output_type": "execute_result"
    }
   ],
   "source": [
    "machine_types"
   ]
  },
  {
   "cell_type": "code",
   "execution_count": 12,
   "metadata": {},
   "outputs": [],
   "source": [
    "#############################################################################\n",
    "# run\n",
    "#############################################################################\n",
    "def run(machine_type, dev_paths):\n",
    "    com.tic()\n",
    "    os.makedirs(TB_DIR+'/'+machine_type, exist_ok=True)\n",
    "    tb_log_dir = TB_DIR + '/' + machine_type\n",
    "    writer = SummaryWriter(log_dir = tb_log_dir)\n",
    "    \n",
    "    logger.info('TARGET MACHINE_TYPE: {0}'.format(machine_type))\n",
    "    logger.info('MAKE DATA_LOADER')\n",
    "    # dev_train_paths\n",
    "    dataloaders_dict = modeler.make_dataloader(dev_paths, machine_type)\n",
    "    # parameter setting\n",
    "    logger.info('TRAINING')\n",
    "    model = Model(n_out=36, n_centers=6)\n",
    "    \n",
    "    optimizer = torch.optim.Adam(model.parameters(),lr=1e-4)\n",
    "    output_dict, model, pred_df, score_df = modeler.run_training(model, dataloaders_dict, writer, optimizer)\n",
    "    \n",
    "    # output\n",
    "    feature_out_path = f'{OUT_FEATURE_DIR}/{machine_type}_features.pkl'\n",
    "    model_out_path = f'{MODEL_DIR}/{machine_type}_model.pkl'\n",
    "    pred_out_path = f'{PRED_DIR}/{machine_type}_pred.csv'\n",
    "    score_out_path = f'{SCORE_DIR}/{machine_type}_pred.csv'\n",
    "    # save\n",
    "    pd.to_pickle(output_dict, feature_out_path)\n",
    "    torch.save(model.state_dict(), model_out_path)\n",
    "    pred_df.to_csv(pred_out_path)\n",
    "    score_df.to_csv(score_out_path)\n",
    "    logger.info(f'SAVE SUCCESS : {model_out_path}')\n",
    "    \n",
    "    com.toc()"
   ]
  },
  {
   "cell_type": "code",
   "execution_count": 13,
   "metadata": {},
   "outputs": [],
   "source": [
    "#run(machine_types[0], dev_paths)"
   ]
  },
  {
   "cell_type": "code",
   "execution_count": 14,
   "metadata": {
    "code_folding": [],
    "scrolled": true
   },
   "outputs": [
    {
     "name": "stderr",
     "output_type": "stream",
     "text": [
      "2021-11-04 05:59:45,024 - 00_train.py - INFO - TARGET MACHINE_TYPE: pump\n",
      "2021-11-04 05:59:45,024 - 00_train.py - INFO - MAKE DATA_LOADER\n",
      " 79%|███████▉  | 4766/6000 [00:30<00:07, 156.02it/s]\n"
     ]
    },
    {
     "ename": "KeyboardInterrupt",
     "evalue": "",
     "output_type": "error",
     "traceback": [
      "\u001b[0;31m---------------------------------------------------------------------------\u001b[0m",
      "\u001b[0;31mKeyboardInterrupt\u001b[0m                         Traceback (most recent call last)",
      "\u001b[0;32m/tmp/ipykernel_6147/1835963252.py\u001b[0m in \u001b[0;36m<module>\u001b[0;34m\u001b[0m\n\u001b[1;32m      1\u001b[0m \u001b[0;32mfor\u001b[0m \u001b[0mmachine_type\u001b[0m \u001b[0;32min\u001b[0m \u001b[0mmachine_types\u001b[0m\u001b[0;34m:\u001b[0m\u001b[0;34m\u001b[0m\u001b[0;34m\u001b[0m\u001b[0m\n\u001b[0;32m----> 2\u001b[0;31m     \u001b[0mrun\u001b[0m\u001b[0;34m(\u001b[0m\u001b[0mmachine_type\u001b[0m\u001b[0;34m,\u001b[0m \u001b[0mdev_paths\u001b[0m\u001b[0;34m)\u001b[0m\u001b[0;34m\u001b[0m\u001b[0;34m\u001b[0m\u001b[0m\n\u001b[0m",
      "\u001b[0;32m/tmp/ipykernel_6147/1914341529.py\u001b[0m in \u001b[0;36mrun\u001b[0;34m(machine_type, dev_paths)\u001b[0m\n\u001b[1;32m     11\u001b[0m     \u001b[0mlogger\u001b[0m\u001b[0;34m.\u001b[0m\u001b[0minfo\u001b[0m\u001b[0;34m(\u001b[0m\u001b[0;34m'MAKE DATA_LOADER'\u001b[0m\u001b[0;34m)\u001b[0m\u001b[0;34m\u001b[0m\u001b[0;34m\u001b[0m\u001b[0m\n\u001b[1;32m     12\u001b[0m     \u001b[0;31m# dev_train_paths\u001b[0m\u001b[0;34m\u001b[0m\u001b[0;34m\u001b[0m\u001b[0;34m\u001b[0m\u001b[0m\n\u001b[0;32m---> 13\u001b[0;31m     \u001b[0mdataloaders_dict\u001b[0m \u001b[0;34m=\u001b[0m \u001b[0mmodeler\u001b[0m\u001b[0;34m.\u001b[0m\u001b[0mmake_dataloader\u001b[0m\u001b[0;34m(\u001b[0m\u001b[0mdev_paths\u001b[0m\u001b[0;34m,\u001b[0m \u001b[0mmachine_type\u001b[0m\u001b[0;34m)\u001b[0m\u001b[0;34m\u001b[0m\u001b[0;34m\u001b[0m\u001b[0m\n\u001b[0m\u001b[1;32m     14\u001b[0m     \u001b[0;31m# parameter setting\u001b[0m\u001b[0;34m\u001b[0m\u001b[0;34m\u001b[0m\u001b[0;34m\u001b[0m\u001b[0m\n\u001b[1;32m     15\u001b[0m     \u001b[0mlogger\u001b[0m\u001b[0;34m.\u001b[0m\u001b[0minfo\u001b[0m\u001b[0;34m(\u001b[0m\u001b[0;34m'TRAINING'\u001b[0m\u001b[0;34m)\u001b[0m\u001b[0;34m\u001b[0m\u001b[0;34m\u001b[0m\u001b[0m\n",
      "\u001b[0;32m/media/code-disk/dcase2021_task2_UDA/SSL_MODEL/baseline/pytorch_modeler.py\u001b[0m in \u001b[0;36mmake_dataloader\u001b[0;34m(train_paths, machine_type)\u001b[0m\n\u001b[1;32m     67\u001b[0m     ])\n\u001b[1;32m     68\u001b[0m \u001b[0;34m\u001b[0m\u001b[0m\n\u001b[0;32m---> 69\u001b[0;31m     \u001b[0mtrain_dataset\u001b[0m \u001b[0;34m=\u001b[0m \u001b[0mprep\u001b[0m\u001b[0;34m.\u001b[0m\u001b[0mDCASE_task2_Dataset\u001b[0m\u001b[0;34m(\u001b[0m\u001b[0mtrain_paths\u001b[0m\u001b[0;34m[\u001b[0m\u001b[0mmachine_type\u001b[0m\u001b[0;34m]\u001b[0m\u001b[0;34m[\u001b[0m\u001b[0;34m'train'\u001b[0m\u001b[0;34m]\u001b[0m\u001b[0;34m,\u001b[0m \u001b[0mtraining\u001b[0m\u001b[0;34m=\u001b[0m\u001b[0;32mTrue\u001b[0m\u001b[0;34m)\u001b[0m\u001b[0;34m\u001b[0m\u001b[0;34m\u001b[0m\u001b[0m\n\u001b[0m\u001b[1;32m     70\u001b[0m     \u001b[0mvalid_source_dataset\u001b[0m \u001b[0;34m=\u001b[0m \u001b[0mprep_eval\u001b[0m\u001b[0;34m.\u001b[0m\u001b[0mDCASE_task2_Dataset\u001b[0m\u001b[0;34m(\u001b[0m\u001b[0mtrain_paths\u001b[0m\u001b[0;34m[\u001b[0m\u001b[0mmachine_type\u001b[0m\u001b[0;34m]\u001b[0m\u001b[0;34m[\u001b[0m\u001b[0;34m'valid_source'\u001b[0m\u001b[0;34m]\u001b[0m\u001b[0;34m,\u001b[0m \u001b[0mtransform\u001b[0m\u001b[0;34m=\u001b[0m\u001b[0mtransform_eval\u001b[0m\u001b[0;34m)\u001b[0m\u001b[0;34m\u001b[0m\u001b[0;34m\u001b[0m\u001b[0m\n\u001b[1;32m     71\u001b[0m     \u001b[0mvalid_target_dataset\u001b[0m \u001b[0;34m=\u001b[0m \u001b[0mprep_eval\u001b[0m\u001b[0;34m.\u001b[0m\u001b[0mDCASE_task2_Dataset\u001b[0m\u001b[0;34m(\u001b[0m\u001b[0mtrain_paths\u001b[0m\u001b[0;34m[\u001b[0m\u001b[0mmachine_type\u001b[0m\u001b[0;34m]\u001b[0m\u001b[0;34m[\u001b[0m\u001b[0;34m'valid_target'\u001b[0m\u001b[0;34m]\u001b[0m\u001b[0;34m,\u001b[0m \u001b[0mtransform\u001b[0m\u001b[0;34m=\u001b[0m\u001b[0mtransform_eval\u001b[0m\u001b[0;34m)\u001b[0m\u001b[0;34m\u001b[0m\u001b[0;34m\u001b[0m\u001b[0m\n",
      "\u001b[0;32m/media/code-disk/dcase2021_task2_UDA/SSL_MODEL/baseline/preprocessing.py\u001b[0m in \u001b[0;36m__init__\u001b[0;34m(self, file_list, transform, training)\u001b[0m\n\u001b[1;32m    124\u001b[0m \u001b[0;34m\u001b[0m\u001b[0m\n\u001b[1;32m    125\u001b[0m             \u001b[0;31m# extract feature\u001b[0m\u001b[0;34m\u001b[0m\u001b[0;34m\u001b[0m\u001b[0;34m\u001b[0m\u001b[0m\n\u001b[0;32m--> 126\u001b[0;31m             \u001b[0mfeature\u001b[0m \u001b[0;34m=\u001b[0m \u001b[0mself\u001b[0m\u001b[0;34m.\u001b[0m\u001b[0mext_melspec\u001b[0m\u001b[0;34m.\u001b[0m\u001b[0mextract\u001b[0m\u001b[0;34m(\u001b[0m\u001b[0mfile_name\u001b[0m\u001b[0;34m)\u001b[0m                  \u001b[0;31m# [shape=(n_mels, t)]\u001b[0m\u001b[0;34m\u001b[0m\u001b[0;34m\u001b[0m\u001b[0m\n\u001b[0m\u001b[1;32m    127\u001b[0m             \u001b[0;31m# plt.imshow(feature[0], aspect='auto')\u001b[0m\u001b[0;34m\u001b[0m\u001b[0;34m\u001b[0m\u001b[0;34m\u001b[0m\u001b[0m\n\u001b[1;32m    128\u001b[0m             \u001b[0;31m# plt.show()\u001b[0m\u001b[0;34m\u001b[0m\u001b[0;34m\u001b[0m\u001b[0;34m\u001b[0m\u001b[0m\n",
      "\u001b[0;32m/media/code-disk/dcase2021_task2_UDA/SSL_MODEL/baseline/preprocessing.py\u001b[0m in \u001b[0;36mextract\u001b[0;34m(self, file_name)\u001b[0m\n\u001b[1;32m     52\u001b[0m \u001b[0;34m\u001b[0m\u001b[0m\n\u001b[1;32m     53\u001b[0m     \u001b[0;32mdef\u001b[0m \u001b[0mextract\u001b[0m\u001b[0;34m(\u001b[0m\u001b[0mself\u001b[0m\u001b[0;34m,\u001b[0m \u001b[0mfile_name\u001b[0m\u001b[0;34m)\u001b[0m\u001b[0;34m:\u001b[0m\u001b[0;34m\u001b[0m\u001b[0;34m\u001b[0m\u001b[0m\n\u001b[0;32m---> 54\u001b[0;31m         \u001b[0mX\u001b[0m\u001b[0;34m,\u001b[0m \u001b[0m_\u001b[0m \u001b[0;34m=\u001b[0m \u001b[0mtorchaudio\u001b[0m\u001b[0;34m.\u001b[0m\u001b[0mload\u001b[0m\u001b[0;34m(\u001b[0m\u001b[0mfile_name\u001b[0m\u001b[0;34m)\u001b[0m\u001b[0;34m\u001b[0m\u001b[0;34m\u001b[0m\u001b[0m\n\u001b[0m\u001b[1;32m     55\u001b[0m         \u001b[0mX\u001b[0m \u001b[0;34m=\u001b[0m \u001b[0mX\u001b[0m\u001b[0;34m.\u001b[0m\u001b[0mcuda\u001b[0m\u001b[0;34m(\u001b[0m\u001b[0;34m)\u001b[0m\u001b[0;34m\u001b[0m\u001b[0;34m\u001b[0m\u001b[0m\n\u001b[1;32m     56\u001b[0m         \u001b[0mX\u001b[0m \u001b[0;34m=\u001b[0m \u001b[0mself\u001b[0m\u001b[0;34m.\u001b[0m\u001b[0mmel_spectrogram_transformer\u001b[0m\u001b[0;34m(\u001b[0m\u001b[0mX\u001b[0m\u001b[0;34m)\u001b[0m\u001b[0;34m\u001b[0m\u001b[0;34m\u001b[0m\u001b[0m\n",
      "\u001b[0;32m/opt/conda/lib/python3.7/site-packages/torchaudio/backend/sox_io_backend.py\u001b[0m in \u001b[0;36mload\u001b[0;34m(filepath, frame_offset, num_frames, normalize, channels_first, format)\u001b[0m\n\u001b[1;32m    151\u001b[0m         \u001b[0mfilepath\u001b[0m \u001b[0;34m=\u001b[0m \u001b[0mos\u001b[0m\u001b[0;34m.\u001b[0m\u001b[0mfspath\u001b[0m\u001b[0;34m(\u001b[0m\u001b[0mfilepath\u001b[0m\u001b[0;34m)\u001b[0m\u001b[0;34m\u001b[0m\u001b[0;34m\u001b[0m\u001b[0m\n\u001b[1;32m    152\u001b[0m     return torch.ops.torchaudio.sox_io_load_audio_file(\n\u001b[0;32m--> 153\u001b[0;31m         filepath, frame_offset, num_frames, normalize, channels_first, format)\n\u001b[0m\u001b[1;32m    154\u001b[0m \u001b[0;34m\u001b[0m\u001b[0m\n\u001b[1;32m    155\u001b[0m \u001b[0;34m\u001b[0m\u001b[0m\n",
      "\u001b[0;31mKeyboardInterrupt\u001b[0m: "
     ]
    }
   ],
   "source": [
    "for machine_type in machine_types:\n",
    "    run(machine_type, dev_paths)"
   ]
  },
  {
   "cell_type": "code",
   "execution_count": null,
   "metadata": {},
   "outputs": [],
   "source": [
    "#run(machine_types[0], dev_paths)"
   ]
  },
  {
   "cell_type": "markdown",
   "metadata": {},
   "source": [
    "# run"
   ]
  },
  {
   "cell_type": "raw",
   "metadata": {},
   "source": [
    "# debug\n",
    "import dcase_util\n",
    "import pandas as pd\n",
    "\n",
    "sample = pd.read_pickle('/media/hiroki/HDD1TB/research/DCASE_experiments/domain_adaptation/exp2/extraction_features/ToyCar_features.pkl')\n",
    "sample = sample['val_src']\n",
    "\n",
    "src_pred_df = dcase_util.make_pred_df(sample['wav_name'], sample['section_label'], sample['domain_label'], sample['label'], sample['label'])\n",
    "\n",
    "df1 = dcase_util.calc_dcase2021_task2_score(src_pred_df, prefix='Source')\n",
    "df2 = dcase_util.calc_dcase2021_task2_score(src_pred_df, prefix='Target')\n",
    "score = pd.concat([df1, df2])\n",
    "mean = pd.DataFrame([score.mean()], index=['mean'])\n",
    "hmean = scipy.stats.hmean(score, axis=0)\n",
    "hmean = pd.DataFrame([hmean], columns=['AUC', 'pAUC'], index=['h_mean'])\n",
    "score = score.append([mean, hmean])"
   ]
  },
  {
   "cell_type": "code",
   "execution_count": null,
   "metadata": {},
   "outputs": [],
   "source": []
  },
  {
   "cell_type": "code",
   "execution_count": null,
   "metadata": {},
   "outputs": [],
   "source": []
  }
 ],
 "metadata": {
  "kernelspec": {
   "display_name": "Python 3",
   "language": "python",
   "name": "python3"
  },
  "language_info": {
   "codemirror_mode": {
    "name": "ipython",
    "version": 3
   },
   "file_extension": ".py",
   "mimetype": "text/x-python",
   "name": "python",
   "nbconvert_exporter": "python",
   "pygments_lexer": "ipython3",
   "version": "3.7.10"
  },
  "toc": {
   "base_numbering": 1,
   "nav_menu": {},
   "number_sections": true,
   "sideBar": true,
   "skip_h1_title": false,
   "title_cell": "Table of Contents",
   "title_sidebar": "Contents",
   "toc_cell": false,
   "toc_position": {},
   "toc_section_display": true,
   "toc_window_display": false
  }
 },
 "nbformat": 4,
 "nbformat_minor": 4
}
